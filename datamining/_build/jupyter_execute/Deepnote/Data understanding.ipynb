{
 "cells": [
  {
   "block_group": "6cdd832dde154937a3e4bfe48df219c6",
   "cell_type": "markdown",
   "metadata": {
    "cell_id": "ae956d34dd6545ba9f399a2bd1e8c159",
    "deepnote_app_block_visible": true,
    "deepnote_cell_type": "text-cell-h1",
    "formattedRanges": []
   },
   "source": [
    "# DATA MINING"
   ]
  },
  {
   "block_group": "aaa824b2f06c4c6ab73461fb105011c8",
   "cell_type": "markdown",
   "metadata": {
    "cell_id": "22e40f89664041d58b19ccfe4903ccbb",
    "deepnote_app_block_visible": true,
    "deepnote_cell_type": "text-cell-p",
    "formattedRanges": [
     {
      "fromCodePoint": 0,
      "marks": {
       "bold": true
      },
      "toCodePoint": 12,
      "type": "marks"
     },
     {
      "fromCodePoint": 203,
      "marks": {
       "italic": true
      },
      "toCodePoint": 211,
      "type": "marks"
     },
     {
      "fromCodePoint": 343,
      "marks": {
       "bold": true
      },
      "toCodePoint": 374,
      "type": "marks"
     },
     {
      "fromCodePoint": 376,
      "marks": {
       "bold": true
      },
      "toCodePoint": 379,
      "type": "marks"
     },
     {
      "fromCodePoint": 471,
      "marks": {
       "italic": true
      },
      "toCodePoint": 482,
      "type": "marks"
     },
     {
      "fromCodePoint": 505,
      "marks": {
       "italic": true
      },
      "toCodePoint": 518,
      "type": "marks"
     },
     {
      "fromCodePoint": 546,
      "marks": {
       "italic": true
      },
      "toCodePoint": 557,
      "type": "marks"
     }
    ]
   },
   "source": [
    "Data mining merupakan proses pengumpulan dan pengolahan data yang bertujuan untuk mengekstrak informasi penting pada data. Proses pengumpulan dan ekstraksi informasi tersebut dapat dilakukan menggunakan software dengan bantuan perhitungan statistika, matematika, ataupun teknologi Artificial Intelligence (AI). Data mining sering disebut juga Knowledge Discovery in Database (KDD). Data mining memiliki tiga tujuan secara umum yaitu sebagai sarana untuk menjelaskan atau explanatory, untuk konfirmasi atau confirmatory, dan untuk eksplorasi atau exploratory. Selain itu juga memiliki beberapa metode seperti Association, Classification, Regression, dan Clustering."
   ]
  },
  {
   "block_group": "b5a5809ea8fa46dc8e680315bbd1ecae",
   "cell_type": "markdown",
   "metadata": {
    "cell_id": "234aaa3817684ca8a53396e16c653ea0",
    "deepnote_app_block_visible": true,
    "deepnote_cell_type": "text-cell-p",
    "formattedRanges": [
     {
      "fromCodePoint": 44,
      "marks": {
       "bold": true
      },
      "toCodePoint": 52,
      "type": "marks"
     },
     {
      "fromCodePoint": 70,
      "marks": {
       "italic": true
      },
      "toCodePoint": 79,
      "type": "marks"
     },
     {
      "fromCodePoint": 410,
      "marks": {
       "bold": true,
       "color": "#9042CC"
      },
      "toCodePoint": 428,
      "type": "marks"
     }
    ]
   },
   "source": [
    "Pada data mining, terdapat istilah dataset. Dataset merupakan istilah informal yang mengacu pada kumpulan data. Secara umum, dataset berisi lebih dari satu variabel dan menyangkut suatu topik tertentu. Dataset juga dikatakan sebuah kumpulan data yang berasal dari informasi-informasi pada masa lalu dan siap untuk dikelola menjadi sebuah informasi baru. Pada pembahasan kali ini, Dataset yang digunakan adalah dataset bunga Iris yang diperoleh dari Kaggle. Dalam proyek ini akan mengeksplorasi dan mengklasifikasikan spesies bunga Iris berdasarkan panjang sepal, lebar sepal, panjang kelopak, dan lebar kelopak."
   ]
  },
  {
   "block_group": "9f3f3b6ba82e45198be38b56e4407012",
   "cell_type": "markdown",
   "metadata": {
    "cell_id": "a09c2d2f20d64b13901ce34b255776ae",
    "deepnote_app_block_visible": true,
    "deepnote_cell_type": "image",
    "deepnote_img_alignment": "center",
    "deepnote_img_src": "CRISP-DM.jpg",
    "deepnote_img_width": "75%"
   },
   "source": [
    "<img src=\"CRISP-DM.jpg\" width=\"75%\" align=\"center\" />"
   ]
  },
  {
   "block_group": "9f3f3b6ba82e45198be38b56e4407012",
   "cell_type": "markdown",
   "metadata": {
    "cell_id": "6d0d2f4651e04d808c8c73b69ed8d598",
    "deepnote_app_block_visible": true,
    "deepnote_cell_type": "text-cell-p",
    "formattedRanges": [
     {
      "fromCodePoint": 0,
      "marks": {
       "bold": true
      },
      "toCodePoint": 10,
      "type": "marks"
     }
    ]
   },
   "source": [
    "CRISP-DM\r\n",
    "Cross-Industry Standard Process for Data Mining (CRISP-DM) adalah model proses yang menggambarkan siklus hidup ilmu data. Singkatnya, ini mengarahkan untuk melalui seluruh fase mulai dari perencanaan, pengorganisasian, dan implementasi proyek data mining. Model proses untuk data mining ini memberikan gambaran umum siklus hidup proyek data mining. Ini berisi fase proyek, tugas masing-masing dan hubungan antara aktifitas aktifitas yang dilakukan setiap tahapan seperti gambar disamping."
   ]
  },
  {
   "block_group": "a478e24066b7492ab080b3a3ca277b14",
   "cell_type": "markdown",
   "metadata": {
    "cell_id": "d693d3c496df46c2b608f35402196a94",
    "deepnote_app_block_visible": true,
    "deepnote_cell_type": "text-cell-p",
    "formattedRanges": [
     {
      "fromCodePoint": 35,
      "marks": {
       "italic": true
      },
      "toCodePoint": 48,
      "type": "marks"
     },
     {
      "fromCodePoint": 54,
      "marks": {
       "bold": true
      },
      "toCodePoint": 73,
      "type": "marks"
     }
    ]
   },
   "source": [
    "Berikut ini akan membahas mengenai step-by-step dalam Proses data mining adalah sebagai berikut."
   ]
  },
  {
   "block_group": "6905d6accc0a49aab0dd0b957dff2597",
   "cell_type": "markdown",
   "metadata": {
    "cell_id": "595765572c5c42d1a23266bf15bc8b11",
    "deepnote_app_block_visible": true,
    "deepnote_cell_type": "separator"
   },
   "source": [
    "<hr>"
   ]
  },
  {
   "block_group": "4dbfd81d39364d7f888fe88c4c6e23bc",
   "cell_type": "markdown",
   "metadata": {
    "cell_id": "cd531aaebd984ede8f226ceeb01cd3b0",
    "deepnote_app_block_visible": true,
    "deepnote_cell_type": "text-cell-h2",
    "formattedRanges": []
   },
   "source": [
    "## Mengumpulkan Data"
   ]
  },
  {
   "block_group": "32dc3d412c7748c393834bb36bad3656",
   "cell_type": "markdown",
   "metadata": {
    "cell_id": "5077cea1697144bcb66596785e69ca41",
    "deepnote_app_block_visible": true,
    "deepnote_cell_type": "text-cell-p",
    "formattedRanges": [
     {
      "fromCodePoint": 106,
      "marks": {
       "bold": true
      },
      "toCodePoint": 135,
      "type": "marks"
     },
     {
      "fromCodePoint": 164,
      "marks": {
       "italic": true
      },
      "toCodePoint": 172,
      "type": "marks"
     }
    ]
   },
   "source": [
    "Pada pekerjaan ini, kita akan melakukan analisis klasifikasi bunga. Oleh karena itu, tugas pertama adalah mengumpulkan data iris flower.\r\n",
    "Sedangkan, data berada di aiven.io. Maka dari itu, diperlukan adanya penarikan data tersebut."
   ]
  },
  {
   "block_group": "e61d9b970b7a45d0924bf0f2bc138ba4",
   "cell_type": "code",
   "execution_count": 1,
   "metadata": {
    "cell_id": "5f615c32cece4f12aed8f3a1e848a5e6",
    "deepnote_app_block_visible": true,
    "deepnote_app_is_code_hidden": false,
    "deepnote_cell_type": "sql",
    "deepnote_sql_source": "SELECT * FROM `irismysql`.`irisfull` LIMIT 150",
    "deepnote_table_loading": false,
    "deepnote_table_state": {
     "filters": [],
     "pageIndex": 0,
     "pageSize": 10,
     "sortBy": []
    },
    "deepnote_to_be_reexecuted": false,
    "deepnote_variable_name": "df_1",
    "execution_millis": 3408,
    "execution_start": 1710914750676,
    "source_hash": "6975c946",
    "sql_integration_id": "69180be6-4514-45e9-a13b-52b1406ef574"
   },
   "outputs": [
    {
     "ename": "NameError",
     "evalue": "name '_deepnote_execute_sql' is not defined",
     "output_type": "error",
     "traceback": [
      "\u001b[0;31m---------------------------------------------------------------------------\u001b[0m",
      "\u001b[0;31mNameError\u001b[0m                                 Traceback (most recent call last)",
      "Cell \u001b[0;32mIn[1], line 1\u001b[0m\n\u001b[0;32m----> 1\u001b[0m df_1 \u001b[38;5;241m=\u001b[39m \u001b[43m_deepnote_execute_sql\u001b[49m(\u001b[38;5;124m'\u001b[39m\u001b[38;5;124mSELECT * FROM `irismysql`.`irisfull` LIMIT 150\u001b[39m\u001b[38;5;124m'\u001b[39m, \u001b[38;5;124m'\u001b[39m\u001b[38;5;124mSQL_69180BE6_4514_45E9_A13B_52B1406EF574\u001b[39m\u001b[38;5;124m'\u001b[39m, audit_sql_comment\u001b[38;5;241m=\u001b[39m\u001b[38;5;124m'\u001b[39m\u001b[38;5;124m'\u001b[39m, sql_cache_mode\u001b[38;5;241m=\u001b[39m\u001b[38;5;124m'\u001b[39m\u001b[38;5;124mcache_disabled\u001b[39m\u001b[38;5;124m'\u001b[39m)\n\u001b[1;32m      2\u001b[0m df_1\n",
      "\u001b[0;31mNameError\u001b[0m: name '_deepnote_execute_sql' is not defined"
     ]
    }
   ],
   "outputs_reference": "s3:deepnote-cell-outputs-production/7dcf5e0a-1e1c-4eb9-9afb-5612e4228095",
   "source": [
    "df_1 = _deepnote_execute_sql('SELECT * FROM `irismysql`.`irisfull` LIMIT 150', 'SQL_69180BE6_4514_45E9_A13B_52B1406EF574', audit_sql_comment='', sql_cache_mode='cache_disabled')\n",
    "df_1"
   ]
  },
  {
   "block_group": "b7450050f47f48bf925a8e458c07db5b",
   "cell_type": "markdown",
   "metadata": {
    "cell_id": "327b58af1baf42d49bb3461a565324dd",
    "deepnote_app_block_visible": true,
    "deepnote_cell_type": "text-cell-bullet",
    "formattedRanges": [
     {
      "fromCodePoint": 0,
      "marks": {
       "bold": true
      },
      "toCodePoint": 32,
      "type": "marks"
     }
    ],
    "is_collapsed": false
   },
   "source": [
    "- Study Case #1 - 29 Februari 2024"
   ]
  },
  {
   "block_group": "f099002e13fe467d8f61780d9298c720",
   "cell_type": "markdown",
   "metadata": {
    "cell_id": "783523ce57f54365b01d4fe220d7c446",
    "deepnote_app_block_visible": true,
    "deepnote_cell_type": "text-cell-p",
    "formattedRanges": []
   },
   "source": [
    "Membuat tabel pada cloud & postgreSql dengan isian, di antaranya:\r\n",
    "id, sepal.length, sepal.width, class (cloud)\r\n",
    "id, petal.length, petal.width, class (postgreSql)"
   ]
  },
  {
   "block_group": "483bc50ed31d4c34ba991dbb71d85b08",
   "cell_type": "markdown",
   "metadata": {
    "cell_id": "1c02d27b2c4043bf98887b72f39765f9",
    "deepnote_app_block_visible": true,
    "deepnote_cell_type": "text-cell-p",
    "formattedRanges": [
     {
      "fromCodePoint": 0,
      "marks": {
       "bold": true
      },
      "toCodePoint": 13,
      "type": "marks"
     }
    ]
   },
   "source": [
    "Penyelesaian:"
   ]
  },
  {
   "block_group": "e001196279d946ea8bb09547b736a97e",
   "cell_type": "markdown",
   "metadata": {
    "cell_id": "f01ec51975674effb5df74b03cf038d0",
    "deepnote_app_block_visible": true,
    "deepnote_cell_type": "text-cell-h3",
    "formattedRanges": []
   },
   "source": [
    "### Menarik Data dari MySql"
   ]
  },
  {
   "block_group": "bec48f864aec4e83864e1299d5d0f3b8",
   "cell_type": "code",
   "execution_count": 2,
   "metadata": {
    "cell_id": "23d7de603ea542968bb09c2a236b6889",
    "deepnote_app_block_visible": true,
    "deepnote_app_is_code_hidden": false,
    "deepnote_cell_type": "sql",
    "deepnote_sql_source": "SELECT * FROM `irismysql`.`iriscloud` LIMIT 100",
    "deepnote_to_be_reexecuted": false,
    "deepnote_variable_name": "df_2",
    "execution_millis": 3274,
    "execution_start": 1710914754096,
    "source_hash": "8b28d743",
    "sql_integration_id": "69180be6-4514-45e9-a13b-52b1406ef574"
   },
   "outputs": [
    {
     "data": {
      "application/vnd.deepnote.sql-output-metadata+json": {
       "size_in_bytes": 9028,
       "status": "success_no_cache"
      }
     },
     "metadata": {},
     "output_type": "display_data"
    },
    {
     "data": {
      "application/vnd.deepnote.dataframe.v3+json": {
       "column_count": 4,
       "columns": [
        {
         "dtype": "int64",
         "name": "id",
         "stats": {
          "histogram": [
           {
            "bin_end": 10.9,
            "bin_start": 1,
            "count": 10
           },
           {
            "bin_end": 20.8,
            "bin_start": 10.9,
            "count": 10
           },
           {
            "bin_end": 30.700000000000003,
            "bin_start": 20.8,
            "count": 10
           },
           {
            "bin_end": 40.6,
            "bin_start": 30.700000000000003,
            "count": 10
           },
           {
            "bin_end": 50.5,
            "bin_start": 40.6,
            "count": 10
           },
           {
            "bin_end": 60.400000000000006,
            "bin_start": 50.5,
            "count": 10
           },
           {
            "bin_end": 70.3,
            "bin_start": 60.400000000000006,
            "count": 10
           },
           {
            "bin_end": 80.2,
            "bin_start": 70.3,
            "count": 10
           },
           {
            "bin_end": 90.10000000000001,
            "bin_start": 80.2,
            "count": 10
           },
           {
            "bin_end": 100,
            "bin_start": 90.10000000000001,
            "count": 10
           }
          ],
          "max": "100",
          "min": "1",
          "nan_count": 0,
          "unique_count": 100
         }
        },
        {
         "dtype": "float64",
         "name": "sepal.length",
         "stats": {
          "histogram": [
           {
            "bin_end": 4.57,
            "bin_start": 4.3,
            "count": 5
           },
           {
            "bin_end": 4.84,
            "bin_start": 4.57,
            "count": 11
           },
           {
            "bin_end": 5.109999999999999,
            "bin_start": 4.84,
            "count": 24
           },
           {
            "bin_end": 5.38,
            "bin_start": 5.109999999999999,
            "count": 5
           },
           {
            "bin_end": 5.65,
            "bin_start": 5.38,
            "count": 18
           },
           {
            "bin_end": 5.92,
            "bin_start": 5.65,
            "count": 13
           },
           {
            "bin_end": 6.1899999999999995,
            "bin_start": 5.92,
            "count": 8
           },
           {
            "bin_end": 6.46,
            "bin_start": 6.1899999999999995,
            "count": 7
           },
           {
            "bin_end": 6.73,
            "bin_start": 6.46,
            "count": 6
           },
           {
            "bin_end": 7,
            "bin_start": 6.73,
            "count": 3
           }
          ],
          "max": "7.0",
          "min": "4.3",
          "nan_count": 0,
          "unique_count": 28
         }
        },
        {
         "dtype": "float64",
         "name": "sepal.width",
         "stats": {
          "histogram": [
           {
            "bin_end": 2.24,
            "bin_start": 2,
            "count": 3
           },
           {
            "bin_end": 2.48,
            "bin_start": 2.24,
            "count": 7
           },
           {
            "bin_end": 2.72,
            "bin_start": 2.48,
            "count": 12
           },
           {
            "bin_end": 2.96,
            "bin_start": 2.72,
            "count": 14
           },
           {
            "bin_end": 3.2,
            "bin_start": 2.96,
            "count": 21
           },
           {
            "bin_end": 3.4400000000000004,
            "bin_start": 3.2,
            "count": 21
           },
           {
            "bin_end": 3.6800000000000006,
            "bin_start": 3.4400000000000004,
            "count": 9
           },
           {
            "bin_end": 3.9200000000000004,
            "bin_start": 3.6800000000000006,
            "count": 9
           },
           {
            "bin_end": 4.16,
            "bin_start": 3.9200000000000004,
            "count": 2
           },
           {
            "bin_end": 4.4,
            "bin_start": 4.16,
            "count": 2
           }
          ],
          "max": "4.4",
          "min": "2.0",
          "nan_count": 0,
          "unique_count": 23
         }
        },
        {
         "dtype": "object",
         "name": "variety",
         "stats": {
          "categories": [
           {
            "count": 50,
            "name": "Setosa"
           },
           {
            "count": 50,
            "name": "Versicolor"
           }
          ],
          "nan_count": 0,
          "unique_count": 2
         }
        },
        {
         "dtype": "int64",
         "name": "_deepnote_index_column"
        }
       ],
       "row_count": 100,
       "rows": [
        {
         "_deepnote_index_column": 0,
         "id": 1,
         "sepal.length": 5.1,
         "sepal.width": 3.5,
         "variety": "Setosa"
        },
        {
         "_deepnote_index_column": 1,
         "id": 2,
         "sepal.length": 4.9,
         "sepal.width": 3,
         "variety": "Setosa"
        },
        {
         "_deepnote_index_column": 2,
         "id": 3,
         "sepal.length": 4.7,
         "sepal.width": 3.2,
         "variety": "Setosa"
        },
        {
         "_deepnote_index_column": 3,
         "id": 4,
         "sepal.length": 4.6,
         "sepal.width": 3.1,
         "variety": "Setosa"
        },
        {
         "_deepnote_index_column": 4,
         "id": 5,
         "sepal.length": 5,
         "sepal.width": 3.6,
         "variety": "Setosa"
        },
        {
         "_deepnote_index_column": 5,
         "id": 6,
         "sepal.length": 5.4,
         "sepal.width": 3.9,
         "variety": "Setosa"
        },
        {
         "_deepnote_index_column": 6,
         "id": 7,
         "sepal.length": 4.6,
         "sepal.width": 3.4,
         "variety": "Setosa"
        },
        {
         "_deepnote_index_column": 7,
         "id": 8,
         "sepal.length": 5,
         "sepal.width": 3.4,
         "variety": "Setosa"
        },
        {
         "_deepnote_index_column": 8,
         "id": 9,
         "sepal.length": 4.4,
         "sepal.width": 2.9,
         "variety": "Setosa"
        },
        {
         "_deepnote_index_column": 9,
         "id": 10,
         "sepal.length": 4.9,
         "sepal.width": 3.1,
         "variety": "Setosa"
        }
       ]
      },
      "text/html": [
       "<div>\n",
       "<style scoped>\n",
       "    .dataframe tbody tr th:only-of-type {\n",
       "        vertical-align: middle;\n",
       "    }\n",
       "\n",
       "    .dataframe tbody tr th {\n",
       "        vertical-align: top;\n",
       "    }\n",
       "\n",
       "    .dataframe thead th {\n",
       "        text-align: right;\n",
       "    }\n",
       "</style>\n",
       "<table border=\"1\" class=\"dataframe\">\n",
       "  <thead>\n",
       "    <tr style=\"text-align: right;\">\n",
       "      <th></th>\n",
       "      <th>id</th>\n",
       "      <th>sepal.length</th>\n",
       "      <th>sepal.width</th>\n",
       "      <th>variety</th>\n",
       "    </tr>\n",
       "  </thead>\n",
       "  <tbody>\n",
       "    <tr>\n",
       "      <th>0</th>\n",
       "      <td>1</td>\n",
       "      <td>5.1</td>\n",
       "      <td>3.5</td>\n",
       "      <td>Setosa</td>\n",
       "    </tr>\n",
       "    <tr>\n",
       "      <th>1</th>\n",
       "      <td>2</td>\n",
       "      <td>4.9</td>\n",
       "      <td>3.0</td>\n",
       "      <td>Setosa</td>\n",
       "    </tr>\n",
       "    <tr>\n",
       "      <th>2</th>\n",
       "      <td>3</td>\n",
       "      <td>4.7</td>\n",
       "      <td>3.2</td>\n",
       "      <td>Setosa</td>\n",
       "    </tr>\n",
       "    <tr>\n",
       "      <th>3</th>\n",
       "      <td>4</td>\n",
       "      <td>4.6</td>\n",
       "      <td>3.1</td>\n",
       "      <td>Setosa</td>\n",
       "    </tr>\n",
       "    <tr>\n",
       "      <th>4</th>\n",
       "      <td>5</td>\n",
       "      <td>5.0</td>\n",
       "      <td>3.6</td>\n",
       "      <td>Setosa</td>\n",
       "    </tr>\n",
       "    <tr>\n",
       "      <th>...</th>\n",
       "      <td>...</td>\n",
       "      <td>...</td>\n",
       "      <td>...</td>\n",
       "      <td>...</td>\n",
       "    </tr>\n",
       "    <tr>\n",
       "      <th>95</th>\n",
       "      <td>96</td>\n",
       "      <td>5.7</td>\n",
       "      <td>3.0</td>\n",
       "      <td>Versicolor</td>\n",
       "    </tr>\n",
       "    <tr>\n",
       "      <th>96</th>\n",
       "      <td>97</td>\n",
       "      <td>5.7</td>\n",
       "      <td>2.9</td>\n",
       "      <td>Versicolor</td>\n",
       "    </tr>\n",
       "    <tr>\n",
       "      <th>97</th>\n",
       "      <td>98</td>\n",
       "      <td>6.2</td>\n",
       "      <td>2.9</td>\n",
       "      <td>Versicolor</td>\n",
       "    </tr>\n",
       "    <tr>\n",
       "      <th>98</th>\n",
       "      <td>99</td>\n",
       "      <td>5.1</td>\n",
       "      <td>2.5</td>\n",
       "      <td>Versicolor</td>\n",
       "    </tr>\n",
       "    <tr>\n",
       "      <th>99</th>\n",
       "      <td>100</td>\n",
       "      <td>5.7</td>\n",
       "      <td>2.8</td>\n",
       "      <td>Versicolor</td>\n",
       "    </tr>\n",
       "  </tbody>\n",
       "</table>\n",
       "<p>100 rows × 4 columns</p>\n",
       "</div>"
      ],
      "text/plain": [
       "     id  sepal.length  sepal.width     variety\n",
       "0     1           5.1          3.5      Setosa\n",
       "1     2           4.9          3.0      Setosa\n",
       "2     3           4.7          3.2      Setosa\n",
       "3     4           4.6          3.1      Setosa\n",
       "4     5           5.0          3.6      Setosa\n",
       "..  ...           ...          ...         ...\n",
       "95   96           5.7          3.0  Versicolor\n",
       "96   97           5.7          2.9  Versicolor\n",
       "97   98           6.2          2.9  Versicolor\n",
       "98   99           5.1          2.5  Versicolor\n",
       "99  100           5.7          2.8  Versicolor\n",
       "\n",
       "[100 rows x 4 columns]"
      ]
     },
     "execution_count": 2,
     "metadata": {},
     "output_type": "execute_result"
    }
   ],
   "outputs_reference": "s3:deepnote-cell-outputs-production/c7159660-bb58-48e2-95d4-e739bd668388",
   "source": [
    "df_2 = _deepnote_execute_sql('SELECT * FROM `irismysql`.`iriscloud` LIMIT 100', 'SQL_69180BE6_4514_45E9_A13B_52B1406EF574', audit_sql_comment='', sql_cache_mode='cache_disabled')\n",
    "df_2"
   ]
  },
  {
   "block_group": "184c7ad0d43a45f2976d2616796a5cf7",
   "cell_type": "markdown",
   "metadata": {
    "cell_id": "f9011c707deb4a4ca7de0cd41a40fd9b",
    "deepnote_app_block_visible": true,
    "deepnote_cell_type": "text-cell-p",
    "formattedRanges": []
   },
   "source": [
    "Dapat diperhatikan tabel di atas, bahwa yang muncul pada tabel hanya sebatas id, sepal.length, sepal.width, dan variety (class)."
   ]
  },
  {
   "block_group": "192a57cd46a449e3b07e62ad6ebb7585",
   "cell_type": "markdown",
   "metadata": {
    "cell_id": "22914784902041f09f912c4b13e5a584",
    "deepnote_app_block_visible": true,
    "deepnote_cell_type": "text-cell-p",
    "formattedRanges": []
   },
   "source": [
    "id -> untuk penomoran data (identitas tiap barisnya)\r\n",
    "sepal.length -> untuk pengukuran panjang sepal bunga iris\r\n",
    "sepal.width -> untuk pengukuran lebar sepal bunga iris\r\n",
    "variety -> untuk pengelompokkan jenis bunga iris (setosa/versicolor/virginica)"
   ]
  },
  {
   "block_group": "34b226f3a3eb42e5883c5de3d2470918",
   "cell_type": "markdown",
   "metadata": {
    "cell_id": "ed982698ef924b53ab3c950c06bd4551",
    "deepnote_app_block_visible": true,
    "deepnote_cell_type": "text-cell-h3",
    "formattedRanges": []
   },
   "source": [
    "### Menarik Data dari Postgre"
   ]
  },
  {
   "block_group": "ede19abe7d104284851970d70c3ef8a3",
   "cell_type": "code",
   "execution_count": 3,
   "metadata": {
    "cell_id": "da7de854d7c54f07acd986d101810484",
    "deepnote_app_block_visible": true,
    "deepnote_app_is_code_hidden": false,
    "deepnote_cell_type": "sql",
    "deepnote_sql_source": "SELECT * FROM irispostgre",
    "deepnote_to_be_reexecuted": false,
    "deepnote_variable_name": "df_3",
    "execution_millis": 3872,
    "execution_start": 1710914757382,
    "source_hash": "d0fed955",
    "sql_integration_id": "ed09b93e-4fb0-4700-a502-93a277042fcf"
   },
   "outputs": [
    {
     "data": {
      "application/vnd.deepnote.sql-output-metadata+json": {
       "size_in_bytes": 13528,
       "status": "success_no_cache"
      }
     },
     "metadata": {},
     "output_type": "display_data"
    },
    {
     "data": {
      "application/vnd.deepnote.dataframe.v3+json": {
       "column_count": 4,
       "columns": [
        {
         "dtype": "int64",
         "name": "id",
         "stats": {
          "histogram": [
           {
            "bin_end": 15.9,
            "bin_start": 1,
            "count": 15
           },
           {
            "bin_end": 30.8,
            "bin_start": 15.9,
            "count": 15
           },
           {
            "bin_end": 45.7,
            "bin_start": 30.8,
            "count": 15
           },
           {
            "bin_end": 60.6,
            "bin_start": 45.7,
            "count": 15
           },
           {
            "bin_end": 75.5,
            "bin_start": 60.6,
            "count": 15
           },
           {
            "bin_end": 90.4,
            "bin_start": 75.5,
            "count": 15
           },
           {
            "bin_end": 105.3,
            "bin_start": 90.4,
            "count": 15
           },
           {
            "bin_end": 120.2,
            "bin_start": 105.3,
            "count": 15
           },
           {
            "bin_end": 135.1,
            "bin_start": 120.2,
            "count": 15
           },
           {
            "bin_end": 150,
            "bin_start": 135.1,
            "count": 15
           }
          ],
          "max": "150",
          "min": "1",
          "nan_count": 0,
          "unique_count": 150
         }
        },
        {
         "dtype": "float64",
         "name": "petal.length",
         "stats": {
          "histogram": [
           {
            "bin_end": 1.59,
            "bin_start": 1,
            "count": 37
           },
           {
            "bin_end": 2.18,
            "bin_start": 1.59,
            "count": 13
           },
           {
            "bin_end": 2.7700000000000005,
            "bin_start": 2.18,
            "count": 0
           },
           {
            "bin_end": 3.3600000000000003,
            "bin_start": 2.7700000000000005,
            "count": 3
           },
           {
            "bin_end": 3.95,
            "bin_start": 3.3600000000000003,
            "count": 8
           },
           {
            "bin_end": 4.540000000000001,
            "bin_start": 3.95,
            "count": 26
           },
           {
            "bin_end": 5.130000000000001,
            "bin_start": 4.540000000000001,
            "count": 29
           },
           {
            "bin_end": 5.720000000000001,
            "bin_start": 5.130000000000001,
            "count": 18
           },
           {
            "bin_end": 6.3100000000000005,
            "bin_start": 5.720000000000001,
            "count": 11
           },
           {
            "bin_end": 6.9,
            "bin_start": 6.3100000000000005,
            "count": 5
           }
          ],
          "max": "6.9",
          "min": "1.0",
          "nan_count": 0,
          "unique_count": 43
         }
        },
        {
         "dtype": "float64",
         "name": "petal.width",
         "stats": {
          "histogram": [
           {
            "bin_end": 0.33999999999999997,
            "bin_start": 0.1,
            "count": 41
           },
           {
            "bin_end": 0.58,
            "bin_start": 0.33999999999999997,
            "count": 8
           },
           {
            "bin_end": 0.82,
            "bin_start": 0.58,
            "count": 1
           },
           {
            "bin_end": 1.06,
            "bin_start": 0.82,
            "count": 7
           },
           {
            "bin_end": 1.3,
            "bin_start": 1.06,
            "count": 8
           },
           {
            "bin_end": 1.54,
            "bin_start": 1.3,
            "count": 33
           },
           {
            "bin_end": 1.78,
            "bin_start": 1.54,
            "count": 6
           },
           {
            "bin_end": 2.02,
            "bin_start": 1.78,
            "count": 23
           },
           {
            "bin_end": 2.2600000000000002,
            "bin_start": 2.02,
            "count": 9
           },
           {
            "bin_end": 2.5,
            "bin_start": 2.2600000000000002,
            "count": 14
           }
          ],
          "max": "2.5",
          "min": "0.1",
          "nan_count": 0,
          "unique_count": 22
         }
        },
        {
         "dtype": "object",
         "name": "variety",
         "stats": {
          "categories": [
           {
            "count": 50,
            "name": "Setosa"
           },
           {
            "count": 50,
            "name": "Versicolor"
           },
           {
            "count": 50,
            "name": "Virginica"
           }
          ],
          "nan_count": 0,
          "unique_count": 3
         }
        },
        {
         "dtype": "int64",
         "name": "_deepnote_index_column"
        }
       ],
       "row_count": 150,
       "rows": [
        {
         "_deepnote_index_column": 0,
         "id": 1,
         "petal.length": 1.4,
         "petal.width": 0.2,
         "variety": "Setosa"
        },
        {
         "_deepnote_index_column": 1,
         "id": 2,
         "petal.length": 1.4,
         "petal.width": 0.2,
         "variety": "Setosa"
        },
        {
         "_deepnote_index_column": 2,
         "id": 3,
         "petal.length": 1.3,
         "petal.width": 0.2,
         "variety": "Setosa"
        },
        {
         "_deepnote_index_column": 3,
         "id": 4,
         "petal.length": 1.5,
         "petal.width": 0.2,
         "variety": "Setosa"
        },
        {
         "_deepnote_index_column": 4,
         "id": 5,
         "petal.length": 1.4,
         "petal.width": 0.2,
         "variety": "Setosa"
        },
        {
         "_deepnote_index_column": 5,
         "id": 6,
         "petal.length": 1.7,
         "petal.width": 0.4,
         "variety": "Setosa"
        },
        {
         "_deepnote_index_column": 6,
         "id": 7,
         "petal.length": 1.4,
         "petal.width": 0.3,
         "variety": "Setosa"
        },
        {
         "_deepnote_index_column": 7,
         "id": 8,
         "petal.length": 1.5,
         "petal.width": 0.2,
         "variety": "Setosa"
        },
        {
         "_deepnote_index_column": 8,
         "id": 9,
         "petal.length": 1.4,
         "petal.width": 0.2,
         "variety": "Setosa"
        },
        {
         "_deepnote_index_column": 9,
         "id": 10,
         "petal.length": 1.5,
         "petal.width": 0.1,
         "variety": "Setosa"
        }
       ]
      },
      "text/html": [
       "<div>\n",
       "<style scoped>\n",
       "    .dataframe tbody tr th:only-of-type {\n",
       "        vertical-align: middle;\n",
       "    }\n",
       "\n",
       "    .dataframe tbody tr th {\n",
       "        vertical-align: top;\n",
       "    }\n",
       "\n",
       "    .dataframe thead th {\n",
       "        text-align: right;\n",
       "    }\n",
       "</style>\n",
       "<table border=\"1\" class=\"dataframe\">\n",
       "  <thead>\n",
       "    <tr style=\"text-align: right;\">\n",
       "      <th></th>\n",
       "      <th>id</th>\n",
       "      <th>petal.length</th>\n",
       "      <th>petal.width</th>\n",
       "      <th>variety</th>\n",
       "    </tr>\n",
       "  </thead>\n",
       "  <tbody>\n",
       "    <tr>\n",
       "      <th>0</th>\n",
       "      <td>1</td>\n",
       "      <td>1.4</td>\n",
       "      <td>0.2</td>\n",
       "      <td>Setosa</td>\n",
       "    </tr>\n",
       "    <tr>\n",
       "      <th>1</th>\n",
       "      <td>2</td>\n",
       "      <td>1.4</td>\n",
       "      <td>0.2</td>\n",
       "      <td>Setosa</td>\n",
       "    </tr>\n",
       "    <tr>\n",
       "      <th>2</th>\n",
       "      <td>3</td>\n",
       "      <td>1.3</td>\n",
       "      <td>0.2</td>\n",
       "      <td>Setosa</td>\n",
       "    </tr>\n",
       "    <tr>\n",
       "      <th>3</th>\n",
       "      <td>4</td>\n",
       "      <td>1.5</td>\n",
       "      <td>0.2</td>\n",
       "      <td>Setosa</td>\n",
       "    </tr>\n",
       "    <tr>\n",
       "      <th>4</th>\n",
       "      <td>5</td>\n",
       "      <td>1.4</td>\n",
       "      <td>0.2</td>\n",
       "      <td>Setosa</td>\n",
       "    </tr>\n",
       "    <tr>\n",
       "      <th>...</th>\n",
       "      <td>...</td>\n",
       "      <td>...</td>\n",
       "      <td>...</td>\n",
       "      <td>...</td>\n",
       "    </tr>\n",
       "    <tr>\n",
       "      <th>145</th>\n",
       "      <td>146</td>\n",
       "      <td>5.2</td>\n",
       "      <td>2.3</td>\n",
       "      <td>Virginica</td>\n",
       "    </tr>\n",
       "    <tr>\n",
       "      <th>146</th>\n",
       "      <td>147</td>\n",
       "      <td>5.0</td>\n",
       "      <td>1.9</td>\n",
       "      <td>Virginica</td>\n",
       "    </tr>\n",
       "    <tr>\n",
       "      <th>147</th>\n",
       "      <td>148</td>\n",
       "      <td>5.2</td>\n",
       "      <td>2.0</td>\n",
       "      <td>Virginica</td>\n",
       "    </tr>\n",
       "    <tr>\n",
       "      <th>148</th>\n",
       "      <td>149</td>\n",
       "      <td>5.4</td>\n",
       "      <td>2.3</td>\n",
       "      <td>Virginica</td>\n",
       "    </tr>\n",
       "    <tr>\n",
       "      <th>149</th>\n",
       "      <td>150</td>\n",
       "      <td>5.1</td>\n",
       "      <td>1.8</td>\n",
       "      <td>Virginica</td>\n",
       "    </tr>\n",
       "  </tbody>\n",
       "</table>\n",
       "<p>150 rows × 4 columns</p>\n",
       "</div>"
      ],
      "text/plain": [
       "      id  petal.length  petal.width    variety\n",
       "0      1           1.4          0.2     Setosa\n",
       "1      2           1.4          0.2     Setosa\n",
       "2      3           1.3          0.2     Setosa\n",
       "3      4           1.5          0.2     Setosa\n",
       "4      5           1.4          0.2     Setosa\n",
       "..   ...           ...          ...        ...\n",
       "145  146           5.2          2.3  Virginica\n",
       "146  147           5.0          1.9  Virginica\n",
       "147  148           5.2          2.0  Virginica\n",
       "148  149           5.4          2.3  Virginica\n",
       "149  150           5.1          1.8  Virginica\n",
       "\n",
       "[150 rows x 4 columns]"
      ]
     },
     "execution_count": 3,
     "metadata": {},
     "output_type": "execute_result"
    }
   ],
   "outputs_reference": "s3:deepnote-cell-outputs-production/70098ada-ad91-408d-8484-e026217a3f41",
   "source": [
    "df_3 = _deepnote_execute_sql('SELECT * FROM irispostgre', 'SQL_ED09B93E_4FB0_4700_A502_93A277042FCF', audit_sql_comment='', sql_cache_mode='cache_disabled')\n",
    "df_3"
   ]
  },
  {
   "block_group": "ed308f0d8fd3436ba69617cbd154a0f0",
   "cell_type": "markdown",
   "metadata": {
    "cell_id": "38076602ba7f4ad98f4ad59c16d7ded2",
    "deepnote_app_block_visible": true,
    "deepnote_cell_type": "text-cell-p",
    "formattedRanges": []
   },
   "source": [
    "Selanjutnya, pada data yang berbeda (PostgreSql) terdapat juga data bunga iris dengan isian, di antaranya: id, petal.length, petal.width, dan variety (class)."
   ]
  },
  {
   "block_group": "6891a864f45c40b6a9b2df709b212323",
   "cell_type": "markdown",
   "metadata": {
    "cell_id": "72de7204e21443fb9875e4d7797afaa5",
    "deepnote_app_block_visible": true,
    "deepnote_cell_type": "text-cell-p",
    "formattedRanges": []
   },
   "source": [
    "id -> untuk penomoran data (identitas tiap barisnya)\r\n",
    "petal.length -> untuk pengukuran panjang petal bunga iris\r\n",
    "petal.width -> untuk pengukuran lebar petal bunga iris\r\n",
    "variety -> untuk pengelompokkan jenis bunga iris (setosa/versicolor/virginica)"
   ]
  },
  {
   "block_group": "1b36d61c12274507bfaa2821c85214ce",
   "cell_type": "markdown",
   "metadata": {
    "cell_id": "b59a51a30c1040c88af687d67ebdfd34",
    "deepnote_app_block_visible": true,
    "deepnote_cell_type": "image",
    "deepnote_img_src": "iris_flower.webp"
   },
   "source": [
    "<img src=\"iris_flower.webp\" width=\"\" align=\"\" />"
   ]
  },
  {
   "block_group": "be06e2bf7a13450d8578b31ea9d0df1f",
   "cell_type": "markdown",
   "metadata": {
    "cell_id": "c2d9b83369f047b3bfa6148597acd900",
    "deepnote_app_block_visible": true,
    "deepnote_cell_type": "text-cell-p",
    "formattedRanges": [
     {
      "fromCodePoint": 0,
      "marks": {
       "italic": true
      },
      "toCodePoint": 123,
      "type": "marks"
     }
    ]
   },
   "source": [
    "                                                                                                *keterangan foto bunga iris"
   ]
  },
  {
   "block_group": "f03e5d3b5bdf4ffd9ace6925932499a6",
   "cell_type": "markdown",
   "metadata": {
    "cell_id": "f82076cf1c9443cf9eb45d7cfaedb7de",
    "deepnote_app_block_visible": true,
    "deepnote_cell_type": "separator"
   },
   "source": [
    "<hr>"
   ]
  },
  {
   "block_group": "9ee52c6b9f1e4af1b4a03b1c96b14069",
   "cell_type": "markdown",
   "metadata": {
    "cell_id": "cfec537d26764c6cabd266b7d42f36fb",
    "deepnote_app_block_visible": true,
    "deepnote_cell_type": "text-cell-h2",
    "formattedRanges": []
   },
   "source": [
    "## Memahami Data"
   ]
  },
  {
   "block_group": "5ea1401010b34f93ad74efa839e00908",
   "cell_type": "markdown",
   "metadata": {
    "cell_id": "fdb0c6dd70944cce89d0c387215bcc66",
    "deepnote_app_block_visible": true,
    "deepnote_cell_type": "text-cell-p",
    "formattedRanges": [
     {
      "fromCodePoint": 176,
      "marks": {
       "italic": true
      },
      "toCodePoint": 181,
      "type": "marks"
     },
     {
      "fromCodePoint": 390,
      "marks": {
       "italic": true
      },
      "toCodePoint": 398,
      "type": "marks"
     },
     {
      "fromCodePoint": 477,
      "marks": {
       "italic": true
      },
      "toCodePoint": 485,
      "type": "marks"
     }
    ]
   },
   "source": [
    "Pada pekerjaan ini, kita akan mendeskripsikan data iris. Urutan dari hal ini, di antaranya:\r\n",
    "1. Menentukan jumlah data perkelas (data klasifikasi / ada labelnya)\r\n",
    "   -> Jumlah class Setosa sebanyak ....\r\n",
    "2. Identifikasi missing values\r\n",
    "   -> Menentukan jumlah baris pada kolom-kolom yang kosong\r\n",
    "3. Mendeskripsikan tipe-tipe data setiap kolom/fitur/variabel\r\n",
    "   -> fitur sepal length: tipe numerik (hasil pengukuran dari sepal length bunga iris)\r\n",
    "   -> fitur sepal width: tipe numerik (hasil pengukuran dari sepal width bunga iris)"
   ]
  },
  {
   "block_group": "03cfb7ac856c495696b9692d63d2e65f",
   "cell_type": "markdown",
   "metadata": {
    "cell_id": "f74b5604e2d848c9bdbc8c4539392409",
    "deepnote_app_block_visible": true,
    "deepnote_cell_type": "text-cell-h3",
    "formattedRanges": []
   },
   "source": [
    "### Menentukan Jumlah Data Perkelas"
   ]
  },
  {
   "block_group": "075dda9b2073439ebd0674540efd1461",
   "cell_type": "markdown",
   "metadata": {
    "cell_id": "a1d81f39249148019942b1a5cc4c68c0",
    "deepnote_app_block_visible": true,
    "deepnote_cell_type": "text-cell-p",
    "formattedRanges": [
     {
      "fromCodePoint": 77,
      "marks": {
       "italic": true
      },
      "toCodePoint": 82,
      "type": "marks"
     }
    ]
   },
   "source": [
    "Pada setiap kolom pada data iris, terdapat 150 jumlah data. Sedangkan, untuk class nya sendiri, terdapat 3 jenis iris (Setosa, Versicolor, Virginica)"
   ]
  },
  {
   "block_group": "b4033a94adc94439921eddc4d90275d0",
   "cell_type": "markdown",
   "metadata": {
    "cell_id": "264da004f390438e84b4fab39b7b32c7",
    "deepnote_app_block_visible": true,
    "deepnote_cell_type": "text-cell-h3",
    "formattedRanges": [],
    "is_collapsed": false
   },
   "source": [
    "### Mengidentifikasi Missing Values"
   ]
  },
  {
   "block_group": "d8ec2dca696947efa05c5aac7308bf54",
   "cell_type": "code",
   "execution_count": 4,
   "metadata": {
    "cell_id": "0321d5bfc6a94415b6174686a62732f7",
    "deepnote_app_block_visible": true,
    "deepnote_app_is_code_hidden": false,
    "deepnote_cell_type": "sql",
    "deepnote_sql_source": "SELECT * FROM `irismysql`.`irisfull` WHERE `sepal.length` IS NULL",
    "deepnote_table_loading": false,
    "deepnote_table_state": {
     "filters": [],
     "pageIndex": 0,
     "pageSize": 5,
     "sortBy": []
    },
    "deepnote_to_be_reexecuted": false,
    "deepnote_variable_name": "df_4",
    "execution_millis": 3088,
    "execution_start": 1710914761304,
    "source_hash": "8f71cb24",
    "sql_integration_id": "69180be6-4514-45e9-a13b-52b1406ef574"
   },
   "outputs": [
    {
     "data": {
      "application/vnd.deepnote.sql-output-metadata+json": {
       "size_in_bytes": 124,
       "status": "success_no_cache"
      }
     },
     "metadata": {},
     "output_type": "display_data"
    },
    {
     "data": {
      "application/vnd.deepnote.dataframe.v3+json": {
       "column_count": 6,
       "columns": [
        {
         "dtype": "object",
         "name": "id",
         "stats": {
          "categories": [],
          "nan_count": 0,
          "unique_count": 0
         }
        },
        {
         "dtype": "object",
         "name": "sepal.length",
         "stats": {
          "categories": [],
          "nan_count": 0,
          "unique_count": 0
         }
        },
        {
         "dtype": "object",
         "name": "sepal.width",
         "stats": {
          "categories": [],
          "nan_count": 0,
          "unique_count": 0
         }
        },
        {
         "dtype": "object",
         "name": "petal.length",
         "stats": {
          "categories": [],
          "nan_count": 0,
          "unique_count": 0
         }
        },
        {
         "dtype": "object",
         "name": "petal.width",
         "stats": {
          "categories": [],
          "nan_count": 0,
          "unique_count": 0
         }
        },
        {
         "dtype": "object",
         "name": "variety",
         "stats": {
          "categories": [],
          "nan_count": 0,
          "unique_count": 0
         }
        },
        {
         "dtype": "int64",
         "name": "_deepnote_index_column"
        }
       ],
       "row_count": 0,
       "rows": []
      },
      "text/html": [
       "<div>\n",
       "<style scoped>\n",
       "    .dataframe tbody tr th:only-of-type {\n",
       "        vertical-align: middle;\n",
       "    }\n",
       "\n",
       "    .dataframe tbody tr th {\n",
       "        vertical-align: top;\n",
       "    }\n",
       "\n",
       "    .dataframe thead th {\n",
       "        text-align: right;\n",
       "    }\n",
       "</style>\n",
       "<table border=\"1\" class=\"dataframe\">\n",
       "  <thead>\n",
       "    <tr style=\"text-align: right;\">\n",
       "      <th></th>\n",
       "      <th>id</th>\n",
       "      <th>sepal.length</th>\n",
       "      <th>sepal.width</th>\n",
       "      <th>petal.length</th>\n",
       "      <th>petal.width</th>\n",
       "      <th>variety</th>\n",
       "    </tr>\n",
       "  </thead>\n",
       "  <tbody>\n",
       "  </tbody>\n",
       "</table>\n",
       "</div>"
      ],
      "text/plain": [
       "Empty DataFrame\n",
       "Columns: [id, sepal.length, sepal.width, petal.length, petal.width, variety]\n",
       "Index: []"
      ]
     },
     "execution_count": 4,
     "metadata": {},
     "output_type": "execute_result"
    }
   ],
   "outputs_reference": "s3:deepnote-cell-outputs-production/462ce211-d0d5-40c4-aeef-0fcf76aa07f7",
   "source": [
    "df_4 = _deepnote_execute_sql('SELECT * FROM `irismysql`.`irisfull` WHERE `sepal.length` IS NULL', 'SQL_69180BE6_4514_45E9_A13B_52B1406EF574', audit_sql_comment='', sql_cache_mode='cache_disabled')\n",
    "df_4"
   ]
  },
  {
   "block_group": "60586f59291a476e848d72ea91bafe52",
   "cell_type": "markdown",
   "metadata": {
    "cell_id": "13b1b9fa6a0e42eb944e676b9dfd93bc",
    "deepnote_app_block_visible": true,
    "deepnote_cell_type": "text-cell-p",
    "formattedRanges": [],
    "is_collapsed": false
   },
   "source": [
    "terdapat ada 5 baris yang hilang pada kolom 'sepal.length' pada class (variety) 'Setosa' di antara kolom-kolom lainnya pada data iris"
   ]
  },
  {
   "block_group": "98aedfb6d782401a95402a1b6c41908e",
   "cell_type": "code",
   "execution_count": 5,
   "metadata": {
    "cell_id": "0e76a4cccd814c05aa79c9cf541f0947",
    "deepnote_app_block_visible": true,
    "deepnote_app_is_code_hidden": false,
    "deepnote_cell_type": "sql",
    "deepnote_sql_source": "SELECT * FROM `irismysql`.`irisfull` WHERE `sepal.length` IS NOT NULL AND `variety` = 'Setosa'",
    "deepnote_table_loading": false,
    "deepnote_table_state": {
     "filters": [],
     "pageIndex": 0,
     "pageSize": 10,
     "sortBy": []
    },
    "deepnote_to_be_reexecuted": false,
    "deepnote_variable_name": "df_5",
    "execution_millis": 3201,
    "execution_start": 1710914764407,
    "source_hash": "46ae2823",
    "sql_integration_id": "69180be6-4514-45e9-a13b-52b1406ef574"
   },
   "outputs": [
    {
     "data": {
      "application/vnd.deepnote.sql-output-metadata+json": {
       "size_in_bytes": 5278,
       "status": "success_no_cache"
      }
     },
     "metadata": {},
     "output_type": "display_data"
    },
    {
     "data": {
      "application/vnd.deepnote.dataframe.v3+json": {
       "column_count": 6,
       "columns": [
        {
         "dtype": "int64",
         "name": "id",
         "stats": {
          "histogram": [
           {
            "bin_end": 5.9,
            "bin_start": 1,
            "count": 5
           },
           {
            "bin_end": 10.8,
            "bin_start": 5.9,
            "count": 5
           },
           {
            "bin_end": 15.700000000000001,
            "bin_start": 10.8,
            "count": 5
           },
           {
            "bin_end": 20.6,
            "bin_start": 15.700000000000001,
            "count": 5
           },
           {
            "bin_end": 25.5,
            "bin_start": 20.6,
            "count": 5
           },
           {
            "bin_end": 30.400000000000002,
            "bin_start": 25.5,
            "count": 5
           },
           {
            "bin_end": 35.300000000000004,
            "bin_start": 30.400000000000002,
            "count": 5
           },
           {
            "bin_end": 40.2,
            "bin_start": 35.300000000000004,
            "count": 5
           },
           {
            "bin_end": 45.1,
            "bin_start": 40.2,
            "count": 5
           },
           {
            "bin_end": 50,
            "bin_start": 45.1,
            "count": 5
           }
          ],
          "max": "50",
          "min": "1",
          "nan_count": 0,
          "unique_count": 50
         }
        },
        {
         "dtype": "float64",
         "name": "sepal.length",
         "stats": {
          "histogram": [
           {
            "bin_end": 4.4399999999999995,
            "bin_start": 4.3,
            "count": 4
           },
           {
            "bin_end": 4.58,
            "bin_start": 4.4399999999999995,
            "count": 1
           },
           {
            "bin_end": 4.72,
            "bin_start": 4.58,
            "count": 6
           },
           {
            "bin_end": 4.86,
            "bin_start": 4.72,
            "count": 4
           },
           {
            "bin_end": 5,
            "bin_start": 4.86,
            "count": 3
           },
           {
            "bin_end": 5.140000000000001,
            "bin_start": 5,
            "count": 19
           },
           {
            "bin_end": 5.28,
            "bin_start": 5.140000000000001,
            "count": 3
           },
           {
            "bin_end": 5.42,
            "bin_start": 5.28,
            "count": 6
           },
           {
            "bin_end": 5.5600000000000005,
            "bin_start": 5.42,
            "count": 2
           },
           {
            "bin_end": 5.7,
            "bin_start": 5.5600000000000005,
            "count": 2
           }
          ],
          "max": "5.7",
          "min": "4.3",
          "nan_count": 0,
          "unique_count": 14
         }
        },
        {
         "dtype": "float64",
         "name": "sepal.width",
         "stats": {
          "histogram": [
           {
            "bin_end": 2.51,
            "bin_start": 2.3,
            "count": 1
           },
           {
            "bin_end": 2.7199999999999998,
            "bin_start": 2.51,
            "count": 0
           },
           {
            "bin_end": 2.9299999999999997,
            "bin_start": 2.7199999999999998,
            "count": 1
           },
           {
            "bin_end": 3.14,
            "bin_start": 2.9299999999999997,
            "count": 10
           },
           {
            "bin_end": 3.35,
            "bin_start": 3.14,
            "count": 7
           },
           {
            "bin_end": 3.56,
            "bin_start": 3.35,
            "count": 15
           },
           {
            "bin_end": 3.7700000000000005,
            "bin_start": 3.56,
            "count": 6
           },
           {
            "bin_end": 3.9800000000000004,
            "bin_start": 3.7700000000000005,
            "count": 6
           },
           {
            "bin_end": 4.19,
            "bin_start": 3.9800000000000004,
            "count": 2
           },
           {
            "bin_end": 4.4,
            "bin_start": 4.19,
            "count": 2
           }
          ],
          "max": "4.4",
          "min": "2.3",
          "nan_count": 0,
          "unique_count": 16
         }
        },
        {
         "dtype": "float64",
         "name": "petal.length",
         "stats": {
          "histogram": [
           {
            "bin_end": 1.09,
            "bin_start": 1,
            "count": 1
           },
           {
            "bin_end": 1.18,
            "bin_start": 1.09,
            "count": 1
           },
           {
            "bin_end": 1.27,
            "bin_start": 1.18,
            "count": 2
           },
           {
            "bin_end": 1.3599999999999999,
            "bin_start": 1.27,
            "count": 7
           },
           {
            "bin_end": 1.45,
            "bin_start": 1.3599999999999999,
            "count": 13
           },
           {
            "bin_end": 1.54,
            "bin_start": 1.45,
            "count": 13
           },
           {
            "bin_end": 1.63,
            "bin_start": 1.54,
            "count": 7
           },
           {
            "bin_end": 1.72,
            "bin_start": 1.63,
            "count": 4
           },
           {
            "bin_end": 1.81,
            "bin_start": 1.72,
            "count": 0
           },
           {
            "bin_end": 1.9,
            "bin_start": 1.81,
            "count": 2
           }
          ],
          "max": "1.9",
          "min": "1.0",
          "nan_count": 0,
          "unique_count": 9
         }
        },
        {
         "dtype": "float64",
         "name": "petal.width",
         "stats": {
          "histogram": [
           {
            "bin_end": 0.15000000000000002,
            "bin_start": 0.1,
            "count": 5
           },
           {
            "bin_end": 0.2,
            "bin_start": 0.15000000000000002,
            "count": 0
           },
           {
            "bin_end": 0.25,
            "bin_start": 0.2,
            "count": 29
           },
           {
            "bin_end": 0.30000000000000004,
            "bin_start": 0.25,
            "count": 7
           },
           {
            "bin_end": 0.35,
            "bin_start": 0.30000000000000004,
            "count": 0
           },
           {
            "bin_end": 0.4,
            "bin_start": 0.35,
            "count": 0
           },
           {
            "bin_end": 0.45000000000000007,
            "bin_start": 0.4,
            "count": 7
           },
           {
            "bin_end": 0.5,
            "bin_start": 0.45000000000000007,
            "count": 0
           },
           {
            "bin_end": 0.55,
            "bin_start": 0.5,
            "count": 1
           },
           {
            "bin_end": 0.6,
            "bin_start": 0.55,
            "count": 1
           }
          ],
          "max": "0.6",
          "min": "0.1",
          "nan_count": 0,
          "unique_count": 6
         }
        },
        {
         "dtype": "object",
         "name": "variety",
         "stats": {
          "categories": [
           {
            "count": 50,
            "name": "Setosa"
           }
          ],
          "nan_count": 0,
          "unique_count": 1
         }
        },
        {
         "dtype": "int64",
         "name": "_deepnote_index_column"
        }
       ],
       "row_count": 50,
       "rows": [
        {
         "_deepnote_index_column": 0,
         "id": 1,
         "petal.length": 1.4,
         "petal.width": 0.2,
         "sepal.length": 5.1,
         "sepal.width": 3.5,
         "variety": "Setosa"
        },
        {
         "_deepnote_index_column": 1,
         "id": 2,
         "petal.length": 1.4,
         "petal.width": 0.2,
         "sepal.length": 4.9,
         "sepal.width": 3,
         "variety": "Setosa"
        },
        {
         "_deepnote_index_column": 2,
         "id": 3,
         "petal.length": 1.3,
         "petal.width": 0.2,
         "sepal.length": 4.7,
         "sepal.width": 3.2,
         "variety": "Setosa"
        },
        {
         "_deepnote_index_column": 3,
         "id": 4,
         "petal.length": 1.5,
         "petal.width": 0.2,
         "sepal.length": 4.6,
         "sepal.width": 3.1,
         "variety": "Setosa"
        },
        {
         "_deepnote_index_column": 4,
         "id": 5,
         "petal.length": 1.4,
         "petal.width": 0.2,
         "sepal.length": 5,
         "sepal.width": 3.6,
         "variety": "Setosa"
        },
        {
         "_deepnote_index_column": 5,
         "id": 6,
         "petal.length": 1.7,
         "petal.width": 0.4,
         "sepal.length": 5.4,
         "sepal.width": 3.9,
         "variety": "Setosa"
        },
        {
         "_deepnote_index_column": 6,
         "id": 7,
         "petal.length": 1.4,
         "petal.width": 0.3,
         "sepal.length": 4.6,
         "sepal.width": 3.4,
         "variety": "Setosa"
        },
        {
         "_deepnote_index_column": 7,
         "id": 8,
         "petal.length": 1.5,
         "petal.width": 0.2,
         "sepal.length": 5,
         "sepal.width": 3.4,
         "variety": "Setosa"
        },
        {
         "_deepnote_index_column": 8,
         "id": 9,
         "petal.length": 1.4,
         "petal.width": 0.2,
         "sepal.length": 4.4,
         "sepal.width": 2.9,
         "variety": "Setosa"
        },
        {
         "_deepnote_index_column": 9,
         "id": 10,
         "petal.length": 1.5,
         "petal.width": 0.1,
         "sepal.length": 5,
         "sepal.width": 3.1,
         "variety": "Setosa"
        }
       ]
      },
      "text/html": [
       "<div>\n",
       "<style scoped>\n",
       "    .dataframe tbody tr th:only-of-type {\n",
       "        vertical-align: middle;\n",
       "    }\n",
       "\n",
       "    .dataframe tbody tr th {\n",
       "        vertical-align: top;\n",
       "    }\n",
       "\n",
       "    .dataframe thead th {\n",
       "        text-align: right;\n",
       "    }\n",
       "</style>\n",
       "<table border=\"1\" class=\"dataframe\">\n",
       "  <thead>\n",
       "    <tr style=\"text-align: right;\">\n",
       "      <th></th>\n",
       "      <th>id</th>\n",
       "      <th>sepal.length</th>\n",
       "      <th>sepal.width</th>\n",
       "      <th>petal.length</th>\n",
       "      <th>petal.width</th>\n",
       "      <th>variety</th>\n",
       "    </tr>\n",
       "  </thead>\n",
       "  <tbody>\n",
       "    <tr>\n",
       "      <th>0</th>\n",
       "      <td>1</td>\n",
       "      <td>5.1</td>\n",
       "      <td>3.5</td>\n",
       "      <td>1.4</td>\n",
       "      <td>0.2</td>\n",
       "      <td>Setosa</td>\n",
       "    </tr>\n",
       "    <tr>\n",
       "      <th>1</th>\n",
       "      <td>2</td>\n",
       "      <td>4.9</td>\n",
       "      <td>3.0</td>\n",
       "      <td>1.4</td>\n",
       "      <td>0.2</td>\n",
       "      <td>Setosa</td>\n",
       "    </tr>\n",
       "    <tr>\n",
       "      <th>2</th>\n",
       "      <td>3</td>\n",
       "      <td>4.7</td>\n",
       "      <td>3.2</td>\n",
       "      <td>1.3</td>\n",
       "      <td>0.2</td>\n",
       "      <td>Setosa</td>\n",
       "    </tr>\n",
       "    <tr>\n",
       "      <th>3</th>\n",
       "      <td>4</td>\n",
       "      <td>4.6</td>\n",
       "      <td>3.1</td>\n",
       "      <td>1.5</td>\n",
       "      <td>0.2</td>\n",
       "      <td>Setosa</td>\n",
       "    </tr>\n",
       "    <tr>\n",
       "      <th>4</th>\n",
       "      <td>5</td>\n",
       "      <td>5.0</td>\n",
       "      <td>3.6</td>\n",
       "      <td>1.4</td>\n",
       "      <td>0.2</td>\n",
       "      <td>Setosa</td>\n",
       "    </tr>\n",
       "    <tr>\n",
       "      <th>5</th>\n",
       "      <td>6</td>\n",
       "      <td>5.4</td>\n",
       "      <td>3.9</td>\n",
       "      <td>1.7</td>\n",
       "      <td>0.4</td>\n",
       "      <td>Setosa</td>\n",
       "    </tr>\n",
       "    <tr>\n",
       "      <th>6</th>\n",
       "      <td>7</td>\n",
       "      <td>4.6</td>\n",
       "      <td>3.4</td>\n",
       "      <td>1.4</td>\n",
       "      <td>0.3</td>\n",
       "      <td>Setosa</td>\n",
       "    </tr>\n",
       "    <tr>\n",
       "      <th>7</th>\n",
       "      <td>8</td>\n",
       "      <td>5.0</td>\n",
       "      <td>3.4</td>\n",
       "      <td>1.5</td>\n",
       "      <td>0.2</td>\n",
       "      <td>Setosa</td>\n",
       "    </tr>\n",
       "    <tr>\n",
       "      <th>8</th>\n",
       "      <td>9</td>\n",
       "      <td>4.4</td>\n",
       "      <td>2.9</td>\n",
       "      <td>1.4</td>\n",
       "      <td>0.2</td>\n",
       "      <td>Setosa</td>\n",
       "    </tr>\n",
       "    <tr>\n",
       "      <th>9</th>\n",
       "      <td>10</td>\n",
       "      <td>5.0</td>\n",
       "      <td>3.1</td>\n",
       "      <td>1.5</td>\n",
       "      <td>0.1</td>\n",
       "      <td>Setosa</td>\n",
       "    </tr>\n",
       "    <tr>\n",
       "      <th>10</th>\n",
       "      <td>11</td>\n",
       "      <td>5.4</td>\n",
       "      <td>3.7</td>\n",
       "      <td>1.5</td>\n",
       "      <td>0.2</td>\n",
       "      <td>Setosa</td>\n",
       "    </tr>\n",
       "    <tr>\n",
       "      <th>11</th>\n",
       "      <td>12</td>\n",
       "      <td>4.8</td>\n",
       "      <td>3.4</td>\n",
       "      <td>1.6</td>\n",
       "      <td>0.2</td>\n",
       "      <td>Setosa</td>\n",
       "    </tr>\n",
       "    <tr>\n",
       "      <th>12</th>\n",
       "      <td>13</td>\n",
       "      <td>4.8</td>\n",
       "      <td>3.0</td>\n",
       "      <td>1.4</td>\n",
       "      <td>0.1</td>\n",
       "      <td>Setosa</td>\n",
       "    </tr>\n",
       "    <tr>\n",
       "      <th>13</th>\n",
       "      <td>14</td>\n",
       "      <td>4.3</td>\n",
       "      <td>3.0</td>\n",
       "      <td>1.1</td>\n",
       "      <td>0.1</td>\n",
       "      <td>Setosa</td>\n",
       "    </tr>\n",
       "    <tr>\n",
       "      <th>14</th>\n",
       "      <td>15</td>\n",
       "      <td>5.0</td>\n",
       "      <td>4.0</td>\n",
       "      <td>1.2</td>\n",
       "      <td>0.2</td>\n",
       "      <td>Setosa</td>\n",
       "    </tr>\n",
       "    <tr>\n",
       "      <th>15</th>\n",
       "      <td>16</td>\n",
       "      <td>5.7</td>\n",
       "      <td>4.4</td>\n",
       "      <td>1.5</td>\n",
       "      <td>0.4</td>\n",
       "      <td>Setosa</td>\n",
       "    </tr>\n",
       "    <tr>\n",
       "      <th>16</th>\n",
       "      <td>17</td>\n",
       "      <td>5.4</td>\n",
       "      <td>3.9</td>\n",
       "      <td>1.3</td>\n",
       "      <td>0.4</td>\n",
       "      <td>Setosa</td>\n",
       "    </tr>\n",
       "    <tr>\n",
       "      <th>17</th>\n",
       "      <td>18</td>\n",
       "      <td>5.1</td>\n",
       "      <td>3.5</td>\n",
       "      <td>1.4</td>\n",
       "      <td>0.3</td>\n",
       "      <td>Setosa</td>\n",
       "    </tr>\n",
       "    <tr>\n",
       "      <th>18</th>\n",
       "      <td>19</td>\n",
       "      <td>5.7</td>\n",
       "      <td>3.8</td>\n",
       "      <td>1.7</td>\n",
       "      <td>0.3</td>\n",
       "      <td>Setosa</td>\n",
       "    </tr>\n",
       "    <tr>\n",
       "      <th>19</th>\n",
       "      <td>20</td>\n",
       "      <td>5.0</td>\n",
       "      <td>3.8</td>\n",
       "      <td>1.5</td>\n",
       "      <td>0.3</td>\n",
       "      <td>Setosa</td>\n",
       "    </tr>\n",
       "    <tr>\n",
       "      <th>20</th>\n",
       "      <td>21</td>\n",
       "      <td>5.4</td>\n",
       "      <td>3.4</td>\n",
       "      <td>1.7</td>\n",
       "      <td>0.2</td>\n",
       "      <td>Setosa</td>\n",
       "    </tr>\n",
       "    <tr>\n",
       "      <th>21</th>\n",
       "      <td>22</td>\n",
       "      <td>5.1</td>\n",
       "      <td>3.7</td>\n",
       "      <td>1.5</td>\n",
       "      <td>0.4</td>\n",
       "      <td>Setosa</td>\n",
       "    </tr>\n",
       "    <tr>\n",
       "      <th>22</th>\n",
       "      <td>23</td>\n",
       "      <td>4.6</td>\n",
       "      <td>3.6</td>\n",
       "      <td>1.0</td>\n",
       "      <td>0.2</td>\n",
       "      <td>Setosa</td>\n",
       "    </tr>\n",
       "    <tr>\n",
       "      <th>23</th>\n",
       "      <td>24</td>\n",
       "      <td>5.1</td>\n",
       "      <td>3.3</td>\n",
       "      <td>1.7</td>\n",
       "      <td>0.5</td>\n",
       "      <td>Setosa</td>\n",
       "    </tr>\n",
       "    <tr>\n",
       "      <th>24</th>\n",
       "      <td>25</td>\n",
       "      <td>5.0</td>\n",
       "      <td>3.4</td>\n",
       "      <td>1.9</td>\n",
       "      <td>0.2</td>\n",
       "      <td>Setosa</td>\n",
       "    </tr>\n",
       "    <tr>\n",
       "      <th>25</th>\n",
       "      <td>26</td>\n",
       "      <td>5.0</td>\n",
       "      <td>3.0</td>\n",
       "      <td>1.6</td>\n",
       "      <td>0.2</td>\n",
       "      <td>Setosa</td>\n",
       "    </tr>\n",
       "    <tr>\n",
       "      <th>26</th>\n",
       "      <td>27</td>\n",
       "      <td>5.0</td>\n",
       "      <td>3.4</td>\n",
       "      <td>1.6</td>\n",
       "      <td>0.4</td>\n",
       "      <td>Setosa</td>\n",
       "    </tr>\n",
       "    <tr>\n",
       "      <th>27</th>\n",
       "      <td>28</td>\n",
       "      <td>5.2</td>\n",
       "      <td>3.5</td>\n",
       "      <td>1.5</td>\n",
       "      <td>0.2</td>\n",
       "      <td>Setosa</td>\n",
       "    </tr>\n",
       "    <tr>\n",
       "      <th>28</th>\n",
       "      <td>29</td>\n",
       "      <td>5.2</td>\n",
       "      <td>3.4</td>\n",
       "      <td>1.4</td>\n",
       "      <td>0.2</td>\n",
       "      <td>Setosa</td>\n",
       "    </tr>\n",
       "    <tr>\n",
       "      <th>29</th>\n",
       "      <td>30</td>\n",
       "      <td>4.7</td>\n",
       "      <td>3.2</td>\n",
       "      <td>1.6</td>\n",
       "      <td>0.2</td>\n",
       "      <td>Setosa</td>\n",
       "    </tr>\n",
       "    <tr>\n",
       "      <th>30</th>\n",
       "      <td>31</td>\n",
       "      <td>4.8</td>\n",
       "      <td>3.1</td>\n",
       "      <td>1.6</td>\n",
       "      <td>0.2</td>\n",
       "      <td>Setosa</td>\n",
       "    </tr>\n",
       "    <tr>\n",
       "      <th>31</th>\n",
       "      <td>32</td>\n",
       "      <td>5.4</td>\n",
       "      <td>3.4</td>\n",
       "      <td>1.5</td>\n",
       "      <td>0.4</td>\n",
       "      <td>Setosa</td>\n",
       "    </tr>\n",
       "    <tr>\n",
       "      <th>32</th>\n",
       "      <td>33</td>\n",
       "      <td>5.2</td>\n",
       "      <td>4.1</td>\n",
       "      <td>1.5</td>\n",
       "      <td>0.1</td>\n",
       "      <td>Setosa</td>\n",
       "    </tr>\n",
       "    <tr>\n",
       "      <th>33</th>\n",
       "      <td>34</td>\n",
       "      <td>5.5</td>\n",
       "      <td>4.2</td>\n",
       "      <td>1.4</td>\n",
       "      <td>0.2</td>\n",
       "      <td>Setosa</td>\n",
       "    </tr>\n",
       "    <tr>\n",
       "      <th>34</th>\n",
       "      <td>35</td>\n",
       "      <td>4.9</td>\n",
       "      <td>3.1</td>\n",
       "      <td>1.5</td>\n",
       "      <td>0.2</td>\n",
       "      <td>Setosa</td>\n",
       "    </tr>\n",
       "    <tr>\n",
       "      <th>35</th>\n",
       "      <td>36</td>\n",
       "      <td>5.0</td>\n",
       "      <td>3.2</td>\n",
       "      <td>1.2</td>\n",
       "      <td>0.2</td>\n",
       "      <td>Setosa</td>\n",
       "    </tr>\n",
       "    <tr>\n",
       "      <th>36</th>\n",
       "      <td>37</td>\n",
       "      <td>5.5</td>\n",
       "      <td>3.5</td>\n",
       "      <td>1.3</td>\n",
       "      <td>0.2</td>\n",
       "      <td>Setosa</td>\n",
       "    </tr>\n",
       "    <tr>\n",
       "      <th>37</th>\n",
       "      <td>38</td>\n",
       "      <td>4.9</td>\n",
       "      <td>3.6</td>\n",
       "      <td>1.4</td>\n",
       "      <td>0.1</td>\n",
       "      <td>Setosa</td>\n",
       "    </tr>\n",
       "    <tr>\n",
       "      <th>38</th>\n",
       "      <td>39</td>\n",
       "      <td>4.4</td>\n",
       "      <td>3.0</td>\n",
       "      <td>1.3</td>\n",
       "      <td>0.2</td>\n",
       "      <td>Setosa</td>\n",
       "    </tr>\n",
       "    <tr>\n",
       "      <th>39</th>\n",
       "      <td>40</td>\n",
       "      <td>5.1</td>\n",
       "      <td>3.4</td>\n",
       "      <td>1.5</td>\n",
       "      <td>0.2</td>\n",
       "      <td>Setosa</td>\n",
       "    </tr>\n",
       "    <tr>\n",
       "      <th>40</th>\n",
       "      <td>41</td>\n",
       "      <td>5.0</td>\n",
       "      <td>3.5</td>\n",
       "      <td>1.3</td>\n",
       "      <td>0.3</td>\n",
       "      <td>Setosa</td>\n",
       "    </tr>\n",
       "    <tr>\n",
       "      <th>41</th>\n",
       "      <td>42</td>\n",
       "      <td>4.5</td>\n",
       "      <td>2.3</td>\n",
       "      <td>1.3</td>\n",
       "      <td>0.3</td>\n",
       "      <td>Setosa</td>\n",
       "    </tr>\n",
       "    <tr>\n",
       "      <th>42</th>\n",
       "      <td>43</td>\n",
       "      <td>4.4</td>\n",
       "      <td>3.2</td>\n",
       "      <td>1.3</td>\n",
       "      <td>0.2</td>\n",
       "      <td>Setosa</td>\n",
       "    </tr>\n",
       "    <tr>\n",
       "      <th>43</th>\n",
       "      <td>44</td>\n",
       "      <td>5.0</td>\n",
       "      <td>3.5</td>\n",
       "      <td>1.6</td>\n",
       "      <td>0.6</td>\n",
       "      <td>Setosa</td>\n",
       "    </tr>\n",
       "    <tr>\n",
       "      <th>44</th>\n",
       "      <td>45</td>\n",
       "      <td>5.1</td>\n",
       "      <td>3.8</td>\n",
       "      <td>1.9</td>\n",
       "      <td>0.4</td>\n",
       "      <td>Setosa</td>\n",
       "    </tr>\n",
       "    <tr>\n",
       "      <th>45</th>\n",
       "      <td>46</td>\n",
       "      <td>4.8</td>\n",
       "      <td>3.0</td>\n",
       "      <td>1.4</td>\n",
       "      <td>0.3</td>\n",
       "      <td>Setosa</td>\n",
       "    </tr>\n",
       "    <tr>\n",
       "      <th>46</th>\n",
       "      <td>47</td>\n",
       "      <td>5.1</td>\n",
       "      <td>3.8</td>\n",
       "      <td>1.6</td>\n",
       "      <td>0.2</td>\n",
       "      <td>Setosa</td>\n",
       "    </tr>\n",
       "    <tr>\n",
       "      <th>47</th>\n",
       "      <td>48</td>\n",
       "      <td>4.6</td>\n",
       "      <td>3.2</td>\n",
       "      <td>1.4</td>\n",
       "      <td>0.2</td>\n",
       "      <td>Setosa</td>\n",
       "    </tr>\n",
       "    <tr>\n",
       "      <th>48</th>\n",
       "      <td>49</td>\n",
       "      <td>5.3</td>\n",
       "      <td>3.7</td>\n",
       "      <td>1.5</td>\n",
       "      <td>0.2</td>\n",
       "      <td>Setosa</td>\n",
       "    </tr>\n",
       "    <tr>\n",
       "      <th>49</th>\n",
       "      <td>50</td>\n",
       "      <td>5.0</td>\n",
       "      <td>3.3</td>\n",
       "      <td>1.4</td>\n",
       "      <td>0.2</td>\n",
       "      <td>Setosa</td>\n",
       "    </tr>\n",
       "  </tbody>\n",
       "</table>\n",
       "</div>"
      ],
      "text/plain": [
       "    id  sepal.length  sepal.width  petal.length  petal.width variety\n",
       "0    1           5.1          3.5           1.4          0.2  Setosa\n",
       "1    2           4.9          3.0           1.4          0.2  Setosa\n",
       "2    3           4.7          3.2           1.3          0.2  Setosa\n",
       "3    4           4.6          3.1           1.5          0.2  Setosa\n",
       "4    5           5.0          3.6           1.4          0.2  Setosa\n",
       "5    6           5.4          3.9           1.7          0.4  Setosa\n",
       "6    7           4.6          3.4           1.4          0.3  Setosa\n",
       "7    8           5.0          3.4           1.5          0.2  Setosa\n",
       "8    9           4.4          2.9           1.4          0.2  Setosa\n",
       "9   10           5.0          3.1           1.5          0.1  Setosa\n",
       "10  11           5.4          3.7           1.5          0.2  Setosa\n",
       "11  12           4.8          3.4           1.6          0.2  Setosa\n",
       "12  13           4.8          3.0           1.4          0.1  Setosa\n",
       "13  14           4.3          3.0           1.1          0.1  Setosa\n",
       "14  15           5.0          4.0           1.2          0.2  Setosa\n",
       "15  16           5.7          4.4           1.5          0.4  Setosa\n",
       "16  17           5.4          3.9           1.3          0.4  Setosa\n",
       "17  18           5.1          3.5           1.4          0.3  Setosa\n",
       "18  19           5.7          3.8           1.7          0.3  Setosa\n",
       "19  20           5.0          3.8           1.5          0.3  Setosa\n",
       "20  21           5.4          3.4           1.7          0.2  Setosa\n",
       "21  22           5.1          3.7           1.5          0.4  Setosa\n",
       "22  23           4.6          3.6           1.0          0.2  Setosa\n",
       "23  24           5.1          3.3           1.7          0.5  Setosa\n",
       "24  25           5.0          3.4           1.9          0.2  Setosa\n",
       "25  26           5.0          3.0           1.6          0.2  Setosa\n",
       "26  27           5.0          3.4           1.6          0.4  Setosa\n",
       "27  28           5.2          3.5           1.5          0.2  Setosa\n",
       "28  29           5.2          3.4           1.4          0.2  Setosa\n",
       "29  30           4.7          3.2           1.6          0.2  Setosa\n",
       "30  31           4.8          3.1           1.6          0.2  Setosa\n",
       "31  32           5.4          3.4           1.5          0.4  Setosa\n",
       "32  33           5.2          4.1           1.5          0.1  Setosa\n",
       "33  34           5.5          4.2           1.4          0.2  Setosa\n",
       "34  35           4.9          3.1           1.5          0.2  Setosa\n",
       "35  36           5.0          3.2           1.2          0.2  Setosa\n",
       "36  37           5.5          3.5           1.3          0.2  Setosa\n",
       "37  38           4.9          3.6           1.4          0.1  Setosa\n",
       "38  39           4.4          3.0           1.3          0.2  Setosa\n",
       "39  40           5.1          3.4           1.5          0.2  Setosa\n",
       "40  41           5.0          3.5           1.3          0.3  Setosa\n",
       "41  42           4.5          2.3           1.3          0.3  Setosa\n",
       "42  43           4.4          3.2           1.3          0.2  Setosa\n",
       "43  44           5.0          3.5           1.6          0.6  Setosa\n",
       "44  45           5.1          3.8           1.9          0.4  Setosa\n",
       "45  46           4.8          3.0           1.4          0.3  Setosa\n",
       "46  47           5.1          3.8           1.6          0.2  Setosa\n",
       "47  48           4.6          3.2           1.4          0.2  Setosa\n",
       "48  49           5.3          3.7           1.5          0.2  Setosa\n",
       "49  50           5.0          3.3           1.4          0.2  Setosa"
      ]
     },
     "execution_count": 5,
     "metadata": {},
     "output_type": "execute_result"
    }
   ],
   "outputs_reference": "s3:deepnote-cell-outputs-production/20388c95-cb88-414e-bddb-03e9d0ec179c",
   "source": [
    "df_5 = _deepnote_execute_sql('SELECT * FROM `irismysql`.`irisfull` WHERE `sepal.length` IS NOT NULL AND `variety` = \\'Setosa\\'', 'SQL_69180BE6_4514_45E9_A13B_52B1406EF574', audit_sql_comment='', sql_cache_mode='cache_disabled')\n",
    "df_5"
   ]
  },
  {
   "block_group": "22ec03f9ec6a4bef9c7311489d9e835a",
   "cell_type": "markdown",
   "metadata": {
    "cell_id": "0ba2db639e214235b539564e2bdacd8e",
    "deepnote_app_block_visible": true,
    "deepnote_cell_type": "text-cell-p",
    "formattedRanges": [],
    "is_collapsed": false
   },
   "source": [
    "-> Mengisi dengan mencari rata-rata dengan memerhatikan classnya (jika class pada data NULL itu berbeda)."
   ]
  },
  {
   "block_group": "55805f1717f34d55b0558df5e46aa5ef",
   "cell_type": "code",
   "execution_count": 6,
   "metadata": {
    "cell_id": "8147eb9be6d14331b3ec909933aa38ee",
    "deepnote_app_block_visible": true,
    "deepnote_app_is_code_hidden": false,
    "deepnote_cell_type": "code",
    "deepnote_to_be_reexecuted": false,
    "execution_millis": 221,
    "execution_start": 1710914767612,
    "source_hash": "3e39d323"
   },
   "outputs": [
    {
     "name": "stdout",
     "output_type": "stream",
     "text": [
      "4.994\n"
     ]
    }
   ],
   "outputs_reference": "dbtable:cell_outputs/64271bf9-76d7-4c36-9dca-21c4fe4e5fb4",
   "source": [
    "average = df_5['sepal.length'].mean()\n",
    "print(average)"
   ]
  },
  {
   "block_group": "5b5d87b541d44ac8bda1c8f298f2cba8",
   "cell_type": "markdown",
   "metadata": {
    "cell_id": "ddb6e9b6318441ebbde663c38d81850b",
    "deepnote_app_block_visible": true,
    "deepnote_cell_type": "text-cell-p",
    "formattedRanges": [
     {
      "fromCodePoint": 28,
      "marks": {
       "italic": true
      },
      "toCodePoint": 38,
      "type": "marks"
     },
     {
      "fromCodePoint": 129,
      "marks": {
       "bold": true
      },
      "toCodePoint": 133,
      "type": "marks"
     }
    ]
   },
   "source": [
    "-> Mendapatkan hasil bahwa, rata-rata nilai dari kolom 'sepal.length' yang tidak kosong (IS NOT NULL) pada class 'Setosa' adalah 4.99."
   ]
  },
  {
   "block_group": "2721387c90cc43649017654f30da2968",
   "cell_type": "code",
   "execution_count": 7,
   "metadata": {
    "cell_id": "4ba165ff2b7640cdbff8bdaf22d7a35e",
    "deepnote_app_block_visible": true,
    "deepnote_app_is_code_hidden": false,
    "deepnote_cell_type": "sql",
    "deepnote_sql_source": "UPDATE `irismysql`.`irisfull` SET `sepal.length` = '4.99' WHERE `variety` = 'Setosa' AND `sepal.length` IS NULL",
    "deepnote_to_be_reexecuted": false,
    "deepnote_variable_name": "df_6",
    "execution_millis": 3099,
    "execution_start": 1710914767618,
    "source_hash": "3e7af3a7",
    "sql_integration_id": "69180be6-4514-45e9-a13b-52b1406ef574"
   },
   "outputs": [],
   "outputs_reference": null,
   "source": [
    "df_6 = _deepnote_execute_sql('UPDATE `irismysql`.`irisfull` SET `sepal.length` = \\'4.99\\' WHERE `variety` = \\'Setosa\\' AND `sepal.length` IS NULL', 'SQL_69180BE6_4514_45E9_A13B_52B1406EF574', audit_sql_comment='', sql_cache_mode='cache_disabled')\n",
    "df_6"
   ]
  },
  {
   "block_group": "45fe31e6bfe043bb8fd04389226c390c",
   "cell_type": "markdown",
   "metadata": {
    "cell_id": "135bf59120b54e97a594efb3ae074436",
    "deepnote_app_block_visible": true,
    "deepnote_cell_type": "text-cell-p",
    "formattedRanges": [
     {
      "fromCodePoint": 116,
      "marks": {
       "bold": true
      },
      "toCodePoint": 123,
      "type": "marks"
     }
    ]
   },
   "source": [
    "-> Melakukan update data secara Query dengan memasukkan nilai rata-rata yang telah dicari pada kolom 'sepal.length' IS NULL / Kosong"
   ]
  },
  {
   "block_group": "e17dbaab6d9240739e850fbe7927f397",
   "cell_type": "code",
   "execution_count": 8,
   "metadata": {
    "cell_id": "318661a4e3a1463897d458f0ae1399eb",
    "deepnote_app_block_visible": true,
    "deepnote_app_is_code_hidden": false,
    "deepnote_cell_type": "sql",
    "deepnote_sql_source": "SELECT * FROM `irismysql`.`irisfull` WHERE `sepal.length` IS NOT NULL AND `variety` = 'Setosa'",
    "deepnote_to_be_reexecuted": false,
    "deepnote_variable_name": "df_7",
    "execution_millis": 3434,
    "execution_start": 1710914770723,
    "source_hash": "e2b1010b",
    "sql_integration_id": "69180be6-4514-45e9-a13b-52b1406ef574"
   },
   "outputs": [
    {
     "data": {
      "application/vnd.deepnote.sql-output-metadata+json": {
       "size_in_bytes": 5278,
       "status": "success_no_cache"
      }
     },
     "metadata": {},
     "output_type": "display_data"
    },
    {
     "data": {
      "application/vnd.deepnote.dataframe.v3+json": {
       "column_count": 6,
       "columns": [
        {
         "dtype": "int64",
         "name": "id",
         "stats": {
          "histogram": [
           {
            "bin_end": 5.9,
            "bin_start": 1,
            "count": 5
           },
           {
            "bin_end": 10.8,
            "bin_start": 5.9,
            "count": 5
           },
           {
            "bin_end": 15.700000000000001,
            "bin_start": 10.8,
            "count": 5
           },
           {
            "bin_end": 20.6,
            "bin_start": 15.700000000000001,
            "count": 5
           },
           {
            "bin_end": 25.5,
            "bin_start": 20.6,
            "count": 5
           },
           {
            "bin_end": 30.400000000000002,
            "bin_start": 25.5,
            "count": 5
           },
           {
            "bin_end": 35.300000000000004,
            "bin_start": 30.400000000000002,
            "count": 5
           },
           {
            "bin_end": 40.2,
            "bin_start": 35.300000000000004,
            "count": 5
           },
           {
            "bin_end": 45.1,
            "bin_start": 40.2,
            "count": 5
           },
           {
            "bin_end": 50,
            "bin_start": 45.1,
            "count": 5
           }
          ],
          "max": "50",
          "min": "1",
          "nan_count": 0,
          "unique_count": 50
         }
        },
        {
         "dtype": "float64",
         "name": "sepal.length",
         "stats": {
          "histogram": [
           {
            "bin_end": 4.4399999999999995,
            "bin_start": 4.3,
            "count": 4
           },
           {
            "bin_end": 4.58,
            "bin_start": 4.4399999999999995,
            "count": 1
           },
           {
            "bin_end": 4.72,
            "bin_start": 4.58,
            "count": 6
           },
           {
            "bin_end": 4.86,
            "bin_start": 4.72,
            "count": 4
           },
           {
            "bin_end": 5,
            "bin_start": 4.86,
            "count": 3
           },
           {
            "bin_end": 5.140000000000001,
            "bin_start": 5,
            "count": 19
           },
           {
            "bin_end": 5.28,
            "bin_start": 5.140000000000001,
            "count": 3
           },
           {
            "bin_end": 5.42,
            "bin_start": 5.28,
            "count": 6
           },
           {
            "bin_end": 5.5600000000000005,
            "bin_start": 5.42,
            "count": 2
           },
           {
            "bin_end": 5.7,
            "bin_start": 5.5600000000000005,
            "count": 2
           }
          ],
          "max": "5.7",
          "min": "4.3",
          "nan_count": 0,
          "unique_count": 14
         }
        },
        {
         "dtype": "float64",
         "name": "sepal.width",
         "stats": {
          "histogram": [
           {
            "bin_end": 2.51,
            "bin_start": 2.3,
            "count": 1
           },
           {
            "bin_end": 2.7199999999999998,
            "bin_start": 2.51,
            "count": 0
           },
           {
            "bin_end": 2.9299999999999997,
            "bin_start": 2.7199999999999998,
            "count": 1
           },
           {
            "bin_end": 3.14,
            "bin_start": 2.9299999999999997,
            "count": 10
           },
           {
            "bin_end": 3.35,
            "bin_start": 3.14,
            "count": 7
           },
           {
            "bin_end": 3.56,
            "bin_start": 3.35,
            "count": 15
           },
           {
            "bin_end": 3.7700000000000005,
            "bin_start": 3.56,
            "count": 6
           },
           {
            "bin_end": 3.9800000000000004,
            "bin_start": 3.7700000000000005,
            "count": 6
           },
           {
            "bin_end": 4.19,
            "bin_start": 3.9800000000000004,
            "count": 2
           },
           {
            "bin_end": 4.4,
            "bin_start": 4.19,
            "count": 2
           }
          ],
          "max": "4.4",
          "min": "2.3",
          "nan_count": 0,
          "unique_count": 16
         }
        },
        {
         "dtype": "float64",
         "name": "petal.length",
         "stats": {
          "histogram": [
           {
            "bin_end": 1.09,
            "bin_start": 1,
            "count": 1
           },
           {
            "bin_end": 1.18,
            "bin_start": 1.09,
            "count": 1
           },
           {
            "bin_end": 1.27,
            "bin_start": 1.18,
            "count": 2
           },
           {
            "bin_end": 1.3599999999999999,
            "bin_start": 1.27,
            "count": 7
           },
           {
            "bin_end": 1.45,
            "bin_start": 1.3599999999999999,
            "count": 13
           },
           {
            "bin_end": 1.54,
            "bin_start": 1.45,
            "count": 13
           },
           {
            "bin_end": 1.63,
            "bin_start": 1.54,
            "count": 7
           },
           {
            "bin_end": 1.72,
            "bin_start": 1.63,
            "count": 4
           },
           {
            "bin_end": 1.81,
            "bin_start": 1.72,
            "count": 0
           },
           {
            "bin_end": 1.9,
            "bin_start": 1.81,
            "count": 2
           }
          ],
          "max": "1.9",
          "min": "1.0",
          "nan_count": 0,
          "unique_count": 9
         }
        },
        {
         "dtype": "float64",
         "name": "petal.width",
         "stats": {
          "histogram": [
           {
            "bin_end": 0.15000000000000002,
            "bin_start": 0.1,
            "count": 5
           },
           {
            "bin_end": 0.2,
            "bin_start": 0.15000000000000002,
            "count": 0
           },
           {
            "bin_end": 0.25,
            "bin_start": 0.2,
            "count": 29
           },
           {
            "bin_end": 0.30000000000000004,
            "bin_start": 0.25,
            "count": 7
           },
           {
            "bin_end": 0.35,
            "bin_start": 0.30000000000000004,
            "count": 0
           },
           {
            "bin_end": 0.4,
            "bin_start": 0.35,
            "count": 0
           },
           {
            "bin_end": 0.45000000000000007,
            "bin_start": 0.4,
            "count": 7
           },
           {
            "bin_end": 0.5,
            "bin_start": 0.45000000000000007,
            "count": 0
           },
           {
            "bin_end": 0.55,
            "bin_start": 0.5,
            "count": 1
           },
           {
            "bin_end": 0.6,
            "bin_start": 0.55,
            "count": 1
           }
          ],
          "max": "0.6",
          "min": "0.1",
          "nan_count": 0,
          "unique_count": 6
         }
        },
        {
         "dtype": "object",
         "name": "variety",
         "stats": {
          "categories": [
           {
            "count": 50,
            "name": "Setosa"
           }
          ],
          "nan_count": 0,
          "unique_count": 1
         }
        },
        {
         "dtype": "int64",
         "name": "_deepnote_index_column"
        }
       ],
       "row_count": 50,
       "rows": [
        {
         "_deepnote_index_column": 0,
         "id": 1,
         "petal.length": 1.4,
         "petal.width": 0.2,
         "sepal.length": 5.1,
         "sepal.width": 3.5,
         "variety": "Setosa"
        },
        {
         "_deepnote_index_column": 1,
         "id": 2,
         "petal.length": 1.4,
         "petal.width": 0.2,
         "sepal.length": 4.9,
         "sepal.width": 3,
         "variety": "Setosa"
        },
        {
         "_deepnote_index_column": 2,
         "id": 3,
         "petal.length": 1.3,
         "petal.width": 0.2,
         "sepal.length": 4.7,
         "sepal.width": 3.2,
         "variety": "Setosa"
        },
        {
         "_deepnote_index_column": 3,
         "id": 4,
         "petal.length": 1.5,
         "petal.width": 0.2,
         "sepal.length": 4.6,
         "sepal.width": 3.1,
         "variety": "Setosa"
        },
        {
         "_deepnote_index_column": 4,
         "id": 5,
         "petal.length": 1.4,
         "petal.width": 0.2,
         "sepal.length": 5,
         "sepal.width": 3.6,
         "variety": "Setosa"
        },
        {
         "_deepnote_index_column": 5,
         "id": 6,
         "petal.length": 1.7,
         "petal.width": 0.4,
         "sepal.length": 5.4,
         "sepal.width": 3.9,
         "variety": "Setosa"
        },
        {
         "_deepnote_index_column": 6,
         "id": 7,
         "petal.length": 1.4,
         "petal.width": 0.3,
         "sepal.length": 4.6,
         "sepal.width": 3.4,
         "variety": "Setosa"
        },
        {
         "_deepnote_index_column": 7,
         "id": 8,
         "petal.length": 1.5,
         "petal.width": 0.2,
         "sepal.length": 5,
         "sepal.width": 3.4,
         "variety": "Setosa"
        },
        {
         "_deepnote_index_column": 8,
         "id": 9,
         "petal.length": 1.4,
         "petal.width": 0.2,
         "sepal.length": 4.4,
         "sepal.width": 2.9,
         "variety": "Setosa"
        },
        {
         "_deepnote_index_column": 9,
         "id": 10,
         "petal.length": 1.5,
         "petal.width": 0.1,
         "sepal.length": 5,
         "sepal.width": 3.1,
         "variety": "Setosa"
        }
       ]
      },
      "text/html": [
       "<div>\n",
       "<style scoped>\n",
       "    .dataframe tbody tr th:only-of-type {\n",
       "        vertical-align: middle;\n",
       "    }\n",
       "\n",
       "    .dataframe tbody tr th {\n",
       "        vertical-align: top;\n",
       "    }\n",
       "\n",
       "    .dataframe thead th {\n",
       "        text-align: right;\n",
       "    }\n",
       "</style>\n",
       "<table border=\"1\" class=\"dataframe\">\n",
       "  <thead>\n",
       "    <tr style=\"text-align: right;\">\n",
       "      <th></th>\n",
       "      <th>id</th>\n",
       "      <th>sepal.length</th>\n",
       "      <th>sepal.width</th>\n",
       "      <th>petal.length</th>\n",
       "      <th>petal.width</th>\n",
       "      <th>variety</th>\n",
       "    </tr>\n",
       "  </thead>\n",
       "  <tbody>\n",
       "    <tr>\n",
       "      <th>0</th>\n",
       "      <td>1</td>\n",
       "      <td>5.1</td>\n",
       "      <td>3.5</td>\n",
       "      <td>1.4</td>\n",
       "      <td>0.2</td>\n",
       "      <td>Setosa</td>\n",
       "    </tr>\n",
       "    <tr>\n",
       "      <th>1</th>\n",
       "      <td>2</td>\n",
       "      <td>4.9</td>\n",
       "      <td>3.0</td>\n",
       "      <td>1.4</td>\n",
       "      <td>0.2</td>\n",
       "      <td>Setosa</td>\n",
       "    </tr>\n",
       "    <tr>\n",
       "      <th>2</th>\n",
       "      <td>3</td>\n",
       "      <td>4.7</td>\n",
       "      <td>3.2</td>\n",
       "      <td>1.3</td>\n",
       "      <td>0.2</td>\n",
       "      <td>Setosa</td>\n",
       "    </tr>\n",
       "    <tr>\n",
       "      <th>3</th>\n",
       "      <td>4</td>\n",
       "      <td>4.6</td>\n",
       "      <td>3.1</td>\n",
       "      <td>1.5</td>\n",
       "      <td>0.2</td>\n",
       "      <td>Setosa</td>\n",
       "    </tr>\n",
       "    <tr>\n",
       "      <th>4</th>\n",
       "      <td>5</td>\n",
       "      <td>5.0</td>\n",
       "      <td>3.6</td>\n",
       "      <td>1.4</td>\n",
       "      <td>0.2</td>\n",
       "      <td>Setosa</td>\n",
       "    </tr>\n",
       "    <tr>\n",
       "      <th>5</th>\n",
       "      <td>6</td>\n",
       "      <td>5.4</td>\n",
       "      <td>3.9</td>\n",
       "      <td>1.7</td>\n",
       "      <td>0.4</td>\n",
       "      <td>Setosa</td>\n",
       "    </tr>\n",
       "    <tr>\n",
       "      <th>6</th>\n",
       "      <td>7</td>\n",
       "      <td>4.6</td>\n",
       "      <td>3.4</td>\n",
       "      <td>1.4</td>\n",
       "      <td>0.3</td>\n",
       "      <td>Setosa</td>\n",
       "    </tr>\n",
       "    <tr>\n",
       "      <th>7</th>\n",
       "      <td>8</td>\n",
       "      <td>5.0</td>\n",
       "      <td>3.4</td>\n",
       "      <td>1.5</td>\n",
       "      <td>0.2</td>\n",
       "      <td>Setosa</td>\n",
       "    </tr>\n",
       "    <tr>\n",
       "      <th>8</th>\n",
       "      <td>9</td>\n",
       "      <td>4.4</td>\n",
       "      <td>2.9</td>\n",
       "      <td>1.4</td>\n",
       "      <td>0.2</td>\n",
       "      <td>Setosa</td>\n",
       "    </tr>\n",
       "    <tr>\n",
       "      <th>9</th>\n",
       "      <td>10</td>\n",
       "      <td>5.0</td>\n",
       "      <td>3.1</td>\n",
       "      <td>1.5</td>\n",
       "      <td>0.1</td>\n",
       "      <td>Setosa</td>\n",
       "    </tr>\n",
       "    <tr>\n",
       "      <th>10</th>\n",
       "      <td>11</td>\n",
       "      <td>5.4</td>\n",
       "      <td>3.7</td>\n",
       "      <td>1.5</td>\n",
       "      <td>0.2</td>\n",
       "      <td>Setosa</td>\n",
       "    </tr>\n",
       "    <tr>\n",
       "      <th>11</th>\n",
       "      <td>12</td>\n",
       "      <td>4.8</td>\n",
       "      <td>3.4</td>\n",
       "      <td>1.6</td>\n",
       "      <td>0.2</td>\n",
       "      <td>Setosa</td>\n",
       "    </tr>\n",
       "    <tr>\n",
       "      <th>12</th>\n",
       "      <td>13</td>\n",
       "      <td>4.8</td>\n",
       "      <td>3.0</td>\n",
       "      <td>1.4</td>\n",
       "      <td>0.1</td>\n",
       "      <td>Setosa</td>\n",
       "    </tr>\n",
       "    <tr>\n",
       "      <th>13</th>\n",
       "      <td>14</td>\n",
       "      <td>4.3</td>\n",
       "      <td>3.0</td>\n",
       "      <td>1.1</td>\n",
       "      <td>0.1</td>\n",
       "      <td>Setosa</td>\n",
       "    </tr>\n",
       "    <tr>\n",
       "      <th>14</th>\n",
       "      <td>15</td>\n",
       "      <td>5.0</td>\n",
       "      <td>4.0</td>\n",
       "      <td>1.2</td>\n",
       "      <td>0.2</td>\n",
       "      <td>Setosa</td>\n",
       "    </tr>\n",
       "    <tr>\n",
       "      <th>15</th>\n",
       "      <td>16</td>\n",
       "      <td>5.7</td>\n",
       "      <td>4.4</td>\n",
       "      <td>1.5</td>\n",
       "      <td>0.4</td>\n",
       "      <td>Setosa</td>\n",
       "    </tr>\n",
       "    <tr>\n",
       "      <th>16</th>\n",
       "      <td>17</td>\n",
       "      <td>5.4</td>\n",
       "      <td>3.9</td>\n",
       "      <td>1.3</td>\n",
       "      <td>0.4</td>\n",
       "      <td>Setosa</td>\n",
       "    </tr>\n",
       "    <tr>\n",
       "      <th>17</th>\n",
       "      <td>18</td>\n",
       "      <td>5.1</td>\n",
       "      <td>3.5</td>\n",
       "      <td>1.4</td>\n",
       "      <td>0.3</td>\n",
       "      <td>Setosa</td>\n",
       "    </tr>\n",
       "    <tr>\n",
       "      <th>18</th>\n",
       "      <td>19</td>\n",
       "      <td>5.7</td>\n",
       "      <td>3.8</td>\n",
       "      <td>1.7</td>\n",
       "      <td>0.3</td>\n",
       "      <td>Setosa</td>\n",
       "    </tr>\n",
       "    <tr>\n",
       "      <th>19</th>\n",
       "      <td>20</td>\n",
       "      <td>5.0</td>\n",
       "      <td>3.8</td>\n",
       "      <td>1.5</td>\n",
       "      <td>0.3</td>\n",
       "      <td>Setosa</td>\n",
       "    </tr>\n",
       "    <tr>\n",
       "      <th>20</th>\n",
       "      <td>21</td>\n",
       "      <td>5.4</td>\n",
       "      <td>3.4</td>\n",
       "      <td>1.7</td>\n",
       "      <td>0.2</td>\n",
       "      <td>Setosa</td>\n",
       "    </tr>\n",
       "    <tr>\n",
       "      <th>21</th>\n",
       "      <td>22</td>\n",
       "      <td>5.1</td>\n",
       "      <td>3.7</td>\n",
       "      <td>1.5</td>\n",
       "      <td>0.4</td>\n",
       "      <td>Setosa</td>\n",
       "    </tr>\n",
       "    <tr>\n",
       "      <th>22</th>\n",
       "      <td>23</td>\n",
       "      <td>4.6</td>\n",
       "      <td>3.6</td>\n",
       "      <td>1.0</td>\n",
       "      <td>0.2</td>\n",
       "      <td>Setosa</td>\n",
       "    </tr>\n",
       "    <tr>\n",
       "      <th>23</th>\n",
       "      <td>24</td>\n",
       "      <td>5.1</td>\n",
       "      <td>3.3</td>\n",
       "      <td>1.7</td>\n",
       "      <td>0.5</td>\n",
       "      <td>Setosa</td>\n",
       "    </tr>\n",
       "    <tr>\n",
       "      <th>24</th>\n",
       "      <td>25</td>\n",
       "      <td>5.0</td>\n",
       "      <td>3.4</td>\n",
       "      <td>1.9</td>\n",
       "      <td>0.2</td>\n",
       "      <td>Setosa</td>\n",
       "    </tr>\n",
       "    <tr>\n",
       "      <th>25</th>\n",
       "      <td>26</td>\n",
       "      <td>5.0</td>\n",
       "      <td>3.0</td>\n",
       "      <td>1.6</td>\n",
       "      <td>0.2</td>\n",
       "      <td>Setosa</td>\n",
       "    </tr>\n",
       "    <tr>\n",
       "      <th>26</th>\n",
       "      <td>27</td>\n",
       "      <td>5.0</td>\n",
       "      <td>3.4</td>\n",
       "      <td>1.6</td>\n",
       "      <td>0.4</td>\n",
       "      <td>Setosa</td>\n",
       "    </tr>\n",
       "    <tr>\n",
       "      <th>27</th>\n",
       "      <td>28</td>\n",
       "      <td>5.2</td>\n",
       "      <td>3.5</td>\n",
       "      <td>1.5</td>\n",
       "      <td>0.2</td>\n",
       "      <td>Setosa</td>\n",
       "    </tr>\n",
       "    <tr>\n",
       "      <th>28</th>\n",
       "      <td>29</td>\n",
       "      <td>5.2</td>\n",
       "      <td>3.4</td>\n",
       "      <td>1.4</td>\n",
       "      <td>0.2</td>\n",
       "      <td>Setosa</td>\n",
       "    </tr>\n",
       "    <tr>\n",
       "      <th>29</th>\n",
       "      <td>30</td>\n",
       "      <td>4.7</td>\n",
       "      <td>3.2</td>\n",
       "      <td>1.6</td>\n",
       "      <td>0.2</td>\n",
       "      <td>Setosa</td>\n",
       "    </tr>\n",
       "    <tr>\n",
       "      <th>30</th>\n",
       "      <td>31</td>\n",
       "      <td>4.8</td>\n",
       "      <td>3.1</td>\n",
       "      <td>1.6</td>\n",
       "      <td>0.2</td>\n",
       "      <td>Setosa</td>\n",
       "    </tr>\n",
       "    <tr>\n",
       "      <th>31</th>\n",
       "      <td>32</td>\n",
       "      <td>5.4</td>\n",
       "      <td>3.4</td>\n",
       "      <td>1.5</td>\n",
       "      <td>0.4</td>\n",
       "      <td>Setosa</td>\n",
       "    </tr>\n",
       "    <tr>\n",
       "      <th>32</th>\n",
       "      <td>33</td>\n",
       "      <td>5.2</td>\n",
       "      <td>4.1</td>\n",
       "      <td>1.5</td>\n",
       "      <td>0.1</td>\n",
       "      <td>Setosa</td>\n",
       "    </tr>\n",
       "    <tr>\n",
       "      <th>33</th>\n",
       "      <td>34</td>\n",
       "      <td>5.5</td>\n",
       "      <td>4.2</td>\n",
       "      <td>1.4</td>\n",
       "      <td>0.2</td>\n",
       "      <td>Setosa</td>\n",
       "    </tr>\n",
       "    <tr>\n",
       "      <th>34</th>\n",
       "      <td>35</td>\n",
       "      <td>4.9</td>\n",
       "      <td>3.1</td>\n",
       "      <td>1.5</td>\n",
       "      <td>0.2</td>\n",
       "      <td>Setosa</td>\n",
       "    </tr>\n",
       "    <tr>\n",
       "      <th>35</th>\n",
       "      <td>36</td>\n",
       "      <td>5.0</td>\n",
       "      <td>3.2</td>\n",
       "      <td>1.2</td>\n",
       "      <td>0.2</td>\n",
       "      <td>Setosa</td>\n",
       "    </tr>\n",
       "    <tr>\n",
       "      <th>36</th>\n",
       "      <td>37</td>\n",
       "      <td>5.5</td>\n",
       "      <td>3.5</td>\n",
       "      <td>1.3</td>\n",
       "      <td>0.2</td>\n",
       "      <td>Setosa</td>\n",
       "    </tr>\n",
       "    <tr>\n",
       "      <th>37</th>\n",
       "      <td>38</td>\n",
       "      <td>4.9</td>\n",
       "      <td>3.6</td>\n",
       "      <td>1.4</td>\n",
       "      <td>0.1</td>\n",
       "      <td>Setosa</td>\n",
       "    </tr>\n",
       "    <tr>\n",
       "      <th>38</th>\n",
       "      <td>39</td>\n",
       "      <td>4.4</td>\n",
       "      <td>3.0</td>\n",
       "      <td>1.3</td>\n",
       "      <td>0.2</td>\n",
       "      <td>Setosa</td>\n",
       "    </tr>\n",
       "    <tr>\n",
       "      <th>39</th>\n",
       "      <td>40</td>\n",
       "      <td>5.1</td>\n",
       "      <td>3.4</td>\n",
       "      <td>1.5</td>\n",
       "      <td>0.2</td>\n",
       "      <td>Setosa</td>\n",
       "    </tr>\n",
       "    <tr>\n",
       "      <th>40</th>\n",
       "      <td>41</td>\n",
       "      <td>5.0</td>\n",
       "      <td>3.5</td>\n",
       "      <td>1.3</td>\n",
       "      <td>0.3</td>\n",
       "      <td>Setosa</td>\n",
       "    </tr>\n",
       "    <tr>\n",
       "      <th>41</th>\n",
       "      <td>42</td>\n",
       "      <td>4.5</td>\n",
       "      <td>2.3</td>\n",
       "      <td>1.3</td>\n",
       "      <td>0.3</td>\n",
       "      <td>Setosa</td>\n",
       "    </tr>\n",
       "    <tr>\n",
       "      <th>42</th>\n",
       "      <td>43</td>\n",
       "      <td>4.4</td>\n",
       "      <td>3.2</td>\n",
       "      <td>1.3</td>\n",
       "      <td>0.2</td>\n",
       "      <td>Setosa</td>\n",
       "    </tr>\n",
       "    <tr>\n",
       "      <th>43</th>\n",
       "      <td>44</td>\n",
       "      <td>5.0</td>\n",
       "      <td>3.5</td>\n",
       "      <td>1.6</td>\n",
       "      <td>0.6</td>\n",
       "      <td>Setosa</td>\n",
       "    </tr>\n",
       "    <tr>\n",
       "      <th>44</th>\n",
       "      <td>45</td>\n",
       "      <td>5.1</td>\n",
       "      <td>3.8</td>\n",
       "      <td>1.9</td>\n",
       "      <td>0.4</td>\n",
       "      <td>Setosa</td>\n",
       "    </tr>\n",
       "    <tr>\n",
       "      <th>45</th>\n",
       "      <td>46</td>\n",
       "      <td>4.8</td>\n",
       "      <td>3.0</td>\n",
       "      <td>1.4</td>\n",
       "      <td>0.3</td>\n",
       "      <td>Setosa</td>\n",
       "    </tr>\n",
       "    <tr>\n",
       "      <th>46</th>\n",
       "      <td>47</td>\n",
       "      <td>5.1</td>\n",
       "      <td>3.8</td>\n",
       "      <td>1.6</td>\n",
       "      <td>0.2</td>\n",
       "      <td>Setosa</td>\n",
       "    </tr>\n",
       "    <tr>\n",
       "      <th>47</th>\n",
       "      <td>48</td>\n",
       "      <td>4.6</td>\n",
       "      <td>3.2</td>\n",
       "      <td>1.4</td>\n",
       "      <td>0.2</td>\n",
       "      <td>Setosa</td>\n",
       "    </tr>\n",
       "    <tr>\n",
       "      <th>48</th>\n",
       "      <td>49</td>\n",
       "      <td>5.3</td>\n",
       "      <td>3.7</td>\n",
       "      <td>1.5</td>\n",
       "      <td>0.2</td>\n",
       "      <td>Setosa</td>\n",
       "    </tr>\n",
       "    <tr>\n",
       "      <th>49</th>\n",
       "      <td>50</td>\n",
       "      <td>5.0</td>\n",
       "      <td>3.3</td>\n",
       "      <td>1.4</td>\n",
       "      <td>0.2</td>\n",
       "      <td>Setosa</td>\n",
       "    </tr>\n",
       "  </tbody>\n",
       "</table>\n",
       "</div>"
      ],
      "text/plain": [
       "    id  sepal.length  sepal.width  petal.length  petal.width variety\n",
       "0    1           5.1          3.5           1.4          0.2  Setosa\n",
       "1    2           4.9          3.0           1.4          0.2  Setosa\n",
       "2    3           4.7          3.2           1.3          0.2  Setosa\n",
       "3    4           4.6          3.1           1.5          0.2  Setosa\n",
       "4    5           5.0          3.6           1.4          0.2  Setosa\n",
       "5    6           5.4          3.9           1.7          0.4  Setosa\n",
       "6    7           4.6          3.4           1.4          0.3  Setosa\n",
       "7    8           5.0          3.4           1.5          0.2  Setosa\n",
       "8    9           4.4          2.9           1.4          0.2  Setosa\n",
       "9   10           5.0          3.1           1.5          0.1  Setosa\n",
       "10  11           5.4          3.7           1.5          0.2  Setosa\n",
       "11  12           4.8          3.4           1.6          0.2  Setosa\n",
       "12  13           4.8          3.0           1.4          0.1  Setosa\n",
       "13  14           4.3          3.0           1.1          0.1  Setosa\n",
       "14  15           5.0          4.0           1.2          0.2  Setosa\n",
       "15  16           5.7          4.4           1.5          0.4  Setosa\n",
       "16  17           5.4          3.9           1.3          0.4  Setosa\n",
       "17  18           5.1          3.5           1.4          0.3  Setosa\n",
       "18  19           5.7          3.8           1.7          0.3  Setosa\n",
       "19  20           5.0          3.8           1.5          0.3  Setosa\n",
       "20  21           5.4          3.4           1.7          0.2  Setosa\n",
       "21  22           5.1          3.7           1.5          0.4  Setosa\n",
       "22  23           4.6          3.6           1.0          0.2  Setosa\n",
       "23  24           5.1          3.3           1.7          0.5  Setosa\n",
       "24  25           5.0          3.4           1.9          0.2  Setosa\n",
       "25  26           5.0          3.0           1.6          0.2  Setosa\n",
       "26  27           5.0          3.4           1.6          0.4  Setosa\n",
       "27  28           5.2          3.5           1.5          0.2  Setosa\n",
       "28  29           5.2          3.4           1.4          0.2  Setosa\n",
       "29  30           4.7          3.2           1.6          0.2  Setosa\n",
       "30  31           4.8          3.1           1.6          0.2  Setosa\n",
       "31  32           5.4          3.4           1.5          0.4  Setosa\n",
       "32  33           5.2          4.1           1.5          0.1  Setosa\n",
       "33  34           5.5          4.2           1.4          0.2  Setosa\n",
       "34  35           4.9          3.1           1.5          0.2  Setosa\n",
       "35  36           5.0          3.2           1.2          0.2  Setosa\n",
       "36  37           5.5          3.5           1.3          0.2  Setosa\n",
       "37  38           4.9          3.6           1.4          0.1  Setosa\n",
       "38  39           4.4          3.0           1.3          0.2  Setosa\n",
       "39  40           5.1          3.4           1.5          0.2  Setosa\n",
       "40  41           5.0          3.5           1.3          0.3  Setosa\n",
       "41  42           4.5          2.3           1.3          0.3  Setosa\n",
       "42  43           4.4          3.2           1.3          0.2  Setosa\n",
       "43  44           5.0          3.5           1.6          0.6  Setosa\n",
       "44  45           5.1          3.8           1.9          0.4  Setosa\n",
       "45  46           4.8          3.0           1.4          0.3  Setosa\n",
       "46  47           5.1          3.8           1.6          0.2  Setosa\n",
       "47  48           4.6          3.2           1.4          0.2  Setosa\n",
       "48  49           5.3          3.7           1.5          0.2  Setosa\n",
       "49  50           5.0          3.3           1.4          0.2  Setosa"
      ]
     },
     "execution_count": 8,
     "metadata": {},
     "output_type": "execute_result"
    }
   ],
   "outputs_reference": "s3:deepnote-cell-outputs-production/8b734097-044e-45a6-800e-b797666014ff",
   "source": [
    "df_7 = _deepnote_execute_sql('SELECT * FROM `irismysql`.`irisfull` WHERE `sepal.length` IS NOT NULL AND `variety` = \\'Setosa\\'', 'SQL_69180BE6_4514_45E9_A13B_52B1406EF574', audit_sql_comment='', sql_cache_mode='cache_disabled')\n",
    "df_7"
   ]
  },
  {
   "block_group": "9b026c2361bb4c1ab4afab09a75a0623",
   "cell_type": "markdown",
   "metadata": {
    "cell_id": "a30280fb88ec4768b92be72695ccc37a",
    "deepnote_app_block_visible": true,
    "deepnote_cell_type": "text-cell-p",
    "formattedRanges": [
     {
      "fromCodePoint": 14,
      "marks": {
       "bold": true
      },
      "toCodePoint": 20,
      "type": "marks"
     },
     {
      "fromCodePoint": 50,
      "marks": {
       "italic": true
      },
      "toCodePoint": 54,
      "type": "marks"
     },
     {
      "fromCodePoint": 73,
      "marks": {
       "bold": true
      },
      "toCodePoint": 77,
      "type": "marks"
     },
     {
      "fromCodePoint": 88,
      "marks": {
       "bold": true
      },
      "toCodePoint": 89,
      "type": "marks"
     }
    ]
   },
   "source": [
    "-> Setelah di UPDATE, akan menghasilkan data yang NULL tadi dengan nilai 4.99 (Bernilai 5 jika dibulatkan)"
   ]
  },
  {
   "block_group": "29cce7f75d744489b4669762e5573d04",
   "cell_type": "markdown",
   "metadata": {
    "cell_id": "6b294c28ce60442cae8c0dbaba6db2f0",
    "deepnote_app_block_visible": true,
    "deepnote_cell_type": "text-cell-p",
    "formattedRanges": [
     {
      "fromCodePoint": 0,
      "marks": {
       "bold": true
      },
      "toCodePoint": 8,
      "type": "marks"
     },
     {
      "fromCodePoint": 185,
      "marks": {
       "italic": true
      },
      "toCodePoint": 190,
      "type": "marks"
     },
     {
      "fromCodePoint": 228,
      "marks": {
       "italic": true
      },
      "toCodePoint": 234,
      "type": "marks"
     }
    ]
   },
   "source": [
    "Catatan: Jika suatu data tidak ada class (Label), maka jika mencari rata-rata data yang ada Missing Values, tinggal rata-rata keseluruhan data yang tidak kosong tanpa memikirkan setiap classnya. Dikarenakan data tidak mempunyai class / Label."
   ]
  },
  {
   "block_group": "1b797d3604df4ff7b81d04901cd941f7",
   "cell_type": "markdown",
   "metadata": {
    "cell_id": "1f526b09a9ee431ba943c1993a95068c",
    "deepnote_app_block_visible": true,
    "deepnote_cell_type": "text-cell-h3",
    "formattedRanges": []
   },
   "source": [
    "### Perbedaan Jenis Kategori atau Nilai"
   ]
  },
  {
   "block_group": "e4c7cd9bec834c79b7307808137fa6ab",
   "cell_type": "markdown",
   "metadata": {
    "cell_id": "1704747e2c6c45e7965aaaae23e82c77",
    "deepnote_app_block_visible": true,
    "deepnote_cell_type": "text-cell-bullet",
    "formattedRanges": [
     {
      "fromCodePoint": 53,
      "marks": {
       "bold": true
      },
      "toCodePoint": 61,
      "type": "marks"
     },
     {
      "fromCodePoint": 80,
      "marks": {
       "bold": true
      },
      "toCodePoint": 114,
      "type": "marks"
     }
    ]
   },
   "source": [
    "- Jika mencari data yang MISSING VALUES dengan datanya kategori -> mencari dengan banyaknya data yang sering muncul (MODUS)"
   ]
  },
  {
   "block_group": "78e245b07af045a795fe312bf57f4e37",
   "cell_type": "markdown",
   "metadata": {
    "cell_id": "1724882018b24270851ea4efeed8496e",
    "deepnote_app_block_visible": true,
    "deepnote_cell_type": "text-cell-bullet",
    "formattedRanges": [
     {
      "fromCodePoint": 53,
      "marks": {
       "bold": true
      },
      "toCodePoint": 62,
      "type": "marks"
     },
     {
      "fromCodePoint": 95,
      "marks": {
       "bold": true
      },
      "toCodePoint": 104,
      "type": "marks"
     }
    ]
   },
   "source": [
    "- Sedangkan, mencari data MISSING VALUES dengandatanya bernilai -> mencari dengan cara meghitung rata-rata nya "
   ]
  },
  {
   "block_group": "f24e31d4825349d48213c4bde0bfdbae",
   "cell_type": "markdown",
   "metadata": {
    "cell_id": "1fe0bafc16f14b09892eeebafeda6e30",
    "deepnote_app_block_visible": true,
    "deepnote_cell_type": "text-cell-h3",
    "formattedRanges": []
   },
   "source": [
    "### Metode K-NN"
   ]
  },
  {
   "block_group": "e10d1c28559a431f8f55a9d1fb12d8f4",
   "cell_type": "markdown",
   "metadata": {
    "cell_id": "b56e43af447542de8e8a959a51f73d81",
    "deepnote_app_block_visible": true,
    "deepnote_cell_type": "text-cell-p",
    "formattedRanges": []
   },
   "source": [
    "K-Nearest Neighbors (K-NN) adalah salah satu metode dalam supervised learning pada Machine Learning yang dapat digunakan untuk klasifikasi dan regresi. K-NN bekerja dengan mencari jarak antara titik baru dan semua titik dalam dataset pelatihan. Jarak-jarak tersebut diurutkan dan K titik dalam dataset pelatihan terdekat terpilih sebagai tetangga terdekat. \n",
    "\n",
    "Untuk masalah klasifikasi, label kelas dari titik baru adalah label yang paling sering dari K tetangga terdekat. Sedangkan untuk masalah regresi, label atau output adalah rata-rata atau median dari K tetangga terdekat. \n",
    "\n",
    "Nilai K dalam K-NN adalah hiperparameter yang harus dipilih oleh pengguna. Nilai K yang berbeda-beda dapat menghasilkan model yang berbeda-beda dan memiliki performa yang berbeda-beda pada dataset yang sama. "
   ]
  },
  {
   "block_group": "69ead3534c954cd4a65a9420f9b4de35",
   "cell_type": "markdown",
   "metadata": {
    "cell_id": "2e50f0a90c984927ad0861a7d8ff4543",
    "deepnote_app_block_visible": true,
    "deepnote_cell_type": "text-cell-bullet",
    "formattedRanges": [
     {
      "fromCodePoint": 0,
      "marks": {
       "bold": true
      },
      "toCodePoint": 29,
      "type": "marks"
     }
    ],
    "is_collapsed": false
   },
   "source": [
    "- Study Case #2 - 07 Maret 2024"
   ]
  },
  {
   "block_group": "44b7b6a02e1e4ab8a6dc73e39e12bee6",
   "cell_type": "markdown",
   "metadata": {
    "cell_id": "030f03c9a747415d8e5e9b71b6fc8689",
    "deepnote_app_block_visible": true,
    "deepnote_cell_type": "text-cell-p",
    "formattedRanges": [
     {
      "fromCodePoint": 169,
      "marks": {
       "bold": true
      },
      "toCodePoint": 181,
      "type": "marks"
     }
    ]
   },
   "source": [
    "Menjelaskan algoritma KNN beserta contoh cara menghitung manual (Excel Version)\r\n",
    "Implementasikan pada missing values data anda (Missing values = 5)\r\n",
    "menggunakan library scikit learn -> sklearn.impute.KNNImputer"
   ]
  },
  {
   "block_group": "1dfe5c8215434169961a02e1a6cc9655",
   "cell_type": "markdown",
   "metadata": {
    "cell_id": "1a1448191d7e4d89ab184ccebc2b4115",
    "deepnote_app_block_visible": true,
    "deepnote_cell_type": "text-cell-p",
    "formattedRanges": [
     {
      "fromCodePoint": 0,
      "marks": {
       "bold": true
      },
      "toCodePoint": 13,
      "type": "marks"
     }
    ]
   },
   "source": [
    "Penyelesaian:"
   ]
  },
  {
   "block_group": "8a69dc01154a452f8b0e02b3777c3cd0",
   "cell_type": "markdown",
   "metadata": {
    "cell_id": "66e1285b60544995bdbf259894546339",
    "deepnote_app_block_visible": true,
    "deepnote_cell_type": "text-cell-h3",
    "formattedRanges": [
     {
      "fromCodePoint": 0,
      "marks": {
       "bold": true
      },
      "toCodePoint": 28,
      "type": "marks"
     }
    ],
    "is_collapsed": false
   },
   "source": [
    "### Algoritma K-Nearest Neighbor"
   ]
  },
  {
   "block_group": "bc69e097a7714ab1a7ff59a2c35f93d8",
   "cell_type": "markdown",
   "metadata": {
    "cell_id": "24f19fd5e21b459caf3030d0c7b3e45c",
    "deepnote_app_block_visible": true,
    "deepnote_cell_type": "text-cell-p",
    "formattedRanges": [
     {
      "fromCodePoint": 313,
      "marks": {
       "italic": true
      },
      "toCodePoint": 320,
      "type": "marks"
     }
    ]
   },
   "source": [
    "1. Menentukan nilai K (tetangga terdekat itu siapa -> jika awal = 2, maka akhiran nanti juga = 2)\r\n",
    "2. Menghitung jarak antara data uji dengan data latih\r\n",
    "3. Mengurutkan jarak dari yang terkecil hingga terbesar\r\n",
    "4. Mengambil data sebanyak K terdekat\r\n",
    "5. Memilih kelas mayor (menghitung rata-rata -> karena datanya numerik)"
   ]
  },
  {
   "block_group": "0bf7ca2322f74a7c87ce3e2626c1511a",
   "cell_type": "markdown",
   "metadata": {
    "cell_id": "4ea8bedef1504ee28cb3b90df9b9b018",
    "deepnote_app_block_visible": true,
    "deepnote_cell_type": "text-cell-p",
    "formattedRanges": [
     {
      "fromCodePoint": 56,
      "marks": {
       "italic": true
      },
      "toCodePoint": 61,
      "type": "marks"
     }
    ]
   },
   "source": [
    "Untuk mencari dekat atau jauhnya jarak antar titik pada class K biasanya dihitung menggunakan jarak Euclidean. Jarak Euclidean adalah formula untuk mencari jarak antara 2 titik dalam ruang dua dimensi. Berikut rumus untuk menghitung jarak Euclidean:"
   ]
  },
  {
   "block_group": "e298e97c74d7404eaee534d38ed92fa1",
   "cell_type": "markdown",
   "metadata": {
    "cell_id": "217ecd5a441a4e9aa3b1a46e43d22e79",
    "deepnote_app_block_visible": true,
    "deepnote_cell_type": "text-cell-h3",
    "formattedRanges": []
   },
   "source": [
    "### Rumus Euclidean Distance"
   ]
  },
  {
   "block_group": "9ca73a18588a4f0f8b545c645f7af28c",
   "cell_type": "markdown",
   "metadata": {
    "cell_id": "ecd6d400311f4c5da3d992da773aa22d",
    "deepnote_app_block_visible": true,
    "deepnote_cell_type": "markdown"
   },
   "source": [
    "$$ d(x,y) = \\sqrt{\\sum_{i=1}^n (x_i - y_i)^2} $$"
   ]
  },
  {
   "block_group": "aa3924932f474c38b387928cc583b190",
   "cell_type": "markdown",
   "metadata": {
    "cell_id": "1beb58042951427795565a78974a6467",
    "deepnote_app_block_visible": true,
    "deepnote_cell_type": "text-cell-h3",
    "formattedRanges": []
   },
   "source": [
    "### Implementasi Algoritma KNN Manual"
   ]
  },
  {
   "block_group": "3c469c1805374fcfa30e31f9cbb9ecd0",
   "cell_type": "markdown",
   "metadata": {
    "cell_id": "4658b07283b647d899f378278ebf93ba",
    "deepnote_app_block_visible": true,
    "deepnote_cell_type": "image",
    "deepnote_img_alignment": "center",
    "deepnote_img_src": "KNN Manual/data mentah.jpg",
    "deepnote_img_width": "75%"
   },
   "source": [
    "<img src=\"KNN Manual/data mentah.jpg\" width=\"75%\" align=\"center\" />"
   ]
  },
  {
   "block_group": "3c469c1805374fcfa30e31f9cbb9ecd0",
   "cell_type": "markdown",
   "metadata": {
    "cell_id": "e30d57901d6e42e291018c10d9230b0f",
    "deepnote_app_block_visible": true,
    "deepnote_cell_type": "image",
    "deepnote_img_alignment": "left",
    "deepnote_img_src": "KNN Manual/data mentah (2).jpg",
    "deepnote_img_width": "75%"
   },
   "source": [
    "<img src=\"KNN Manual/data mentah (2).jpg\" width=\"75%\" align=\"left\" />"
   ]
  },
  {
   "block_group": "0b077fe3b0c54d4f8b72b7c9055f5a36",
   "cell_type": "markdown",
   "metadata": {
    "cell_id": "a88dab3edb4540778a2026d2053fc356",
    "deepnote_app_block_visible": true,
    "deepnote_cell_type": "text-cell-p",
    "formattedRanges": [
     {
      "fromCodePoint": 44,
      "marks": {
       "bold": true
      },
      "toCodePoint": 59,
      "type": "marks"
     }
    ]
   },
   "source": [
    "Dapat diketahui bahwa terdapat 5 kolom yang missing values yakni pada kolom 'sepal.length' di id 5, 10, 15, 20, dan 25. Untuk memudahkan proses penghitungan, 5 kolom tersebut diletakkan pada baris paling bawah (sebelumnya berurutan)."
   ]
  },
  {
   "block_group": "6a700905a7fc408b9c337e1275645d61",
   "cell_type": "markdown",
   "metadata": {
    "cell_id": "0a3d2ffde20346e6879e1a4c96d5acd5",
    "deepnote_app_block_visible": true,
    "deepnote_cell_type": "image",
    "deepnote_img_src": "KNN Manual/Jarak Euclidean.jpg",
    "deepnote_img_width": "75%"
   },
   "source": [
    "<img src=\"KNN Manual/Jarak Euclidean.jpg\" width=\"75%\" align=\"\" />"
   ]
  },
  {
   "block_group": "6a700905a7fc408b9c337e1275645d61",
   "cell_type": "markdown",
   "metadata": {
    "cell_id": "e1e7c6a936ab44b693fbd3c33083ee2d",
    "deepnote_app_block_visible": true,
    "deepnote_cell_type": "image",
    "deepnote_img_alignment": "left",
    "deepnote_img_src": "KNN Manual/Jarak Euclidean (2).jpg",
    "deepnote_img_width": "75%"
   },
   "source": [
    "<img src=\"KNN Manual/Jarak Euclidean (2).jpg\" width=\"75%\" align=\"left\" />"
   ]
  },
  {
   "block_group": "1d334fd6f51c4fa69d8a886aa5f22758",
   "cell_type": "markdown",
   "metadata": {
    "cell_id": "8cb2aa10ffe54a1ab69a518ba784174f",
    "deepnote_app_block_visible": true,
    "deepnote_cell_type": "text-cell-p",
    "formattedRanges": [
     {
      "fromCodePoint": 22,
      "marks": {
       "bold": true
      },
      "toCodePoint": 37,
      "type": "marks"
     },
     {
      "fromCodePoint": 111,
      "marks": {
       "italic": true
      },
      "toCodePoint": 115,
      "type": "marks"
     },
     {
      "fromCodePoint": 185,
      "marks": {
       "italic": true
      },
      "toCodePoint": 205,
      "type": "marks"
     },
     {
      "fromCodePoint": 221,
      "marks": {
       "bold": true
      },
      "toCodePoint": 237,
      "type": "marks"
     },
     {
      "fromCodePoint": 377,
      "marks": {
       "italic": true
      },
      "toCodePoint": 381,
      "type": "marks"
     }
    ]
   },
   "source": [
    "Selanjutnya, dihitung jarak Euclidean nya dengan rumus yang tertera di atas (acuan pengurangan ke kolom kosong/NULL, yaitu id 5, 10, 15, 20, 25). Setelah dihitung tersebut, dilanjutkan menghitung rata-rata dari tiap hasil jarak Euclidean pada masing-masing kolom (sepal.width, petal.length, petal.width). Lalu, diberikan label / penanda dengan kolom 'Urutan' untuk mempermudah step selanjutnya."
   ]
  },
  {
   "block_group": "c4389821d14a4eaeb35fe69b67b93d62",
   "cell_type": "markdown",
   "metadata": {
    "cell_id": "f50c265075f64ecfb27e4a4cfa8688b6",
    "deepnote_app_block_visible": true,
    "deepnote_cell_type": "image",
    "deepnote_img_src": "KNN Manual/Hasil Sorting.png",
    "deepnote_img_width": "50%"
   },
   "source": [
    "<img src=\"KNN Manual/Hasil Sorting.png\" width=\"50%\" align=\"\" />"
   ]
  },
  {
   "block_group": "c4389821d14a4eaeb35fe69b67b93d62",
   "cell_type": "markdown",
   "metadata": {
    "cell_id": "b07238ce36464b178d9fb9e0a89b1b7e",
    "deepnote_app_block_visible": true,
    "deepnote_cell_type": "image",
    "deepnote_img_alignment": "left",
    "deepnote_img_src": "KNN Manual/Hasil Sorting (2).png",
    "deepnote_img_width": "50%"
   },
   "source": [
    "<img src=\"KNN Manual/Hasil Sorting (2).png\" width=\"50%\" align=\"left\" />"
   ]
  },
  {
   "block_group": "23f284db0e154f368aa88e93e0c36154",
   "cell_type": "markdown",
   "metadata": {
    "cell_id": "2c6ef28528ab4d1bbda3c04568fd6eb0",
    "deepnote_app_block_visible": true,
    "deepnote_cell_type": "text-cell-p",
    "formattedRanges": [
     {
      "fromCodePoint": 20,
      "marks": {
       "bold": true
      },
      "toCodePoint": 28,
      "type": "marks"
     },
     {
      "fromCodePoint": 113,
      "marks": {
       "italic": true
      },
      "toCodePoint": 118,
      "type": "marks"
     },
     {
      "fromCodePoint": 182,
      "marks": {
       "bold": true,
       "color": "#F63E8E"
      },
      "toCodePoint": 190,
      "type": "marks"
     },
     {
      "fromCodePoint": 213,
      "marks": {
       "bold": true,
       "color": "#F63E8E"
      },
      "toCodePoint": 221,
      "type": "marks"
     }
    ]
   },
   "source": [
    "Kemudian, dilakukan Sorting atau diurutkan dari nilai terkecil hingga terbesar dengan penanda yang telah ditulis step sebelumnya. Dapat dilihat gambar diatas, dimulai nilai terkecil 0.457478 hingga terbesar yaitu 1.296331."
   ]
  },
  {
   "block_group": "4cca417eb60c4796a32acc45c1442905",
   "cell_type": "markdown",
   "metadata": {
    "cell_id": "9b46c603cba044b9a2b45b6323dd7376",
    "deepnote_app_block_visible": true,
    "deepnote_cell_type": "image",
    "deepnote_img_src": "KNN Manual/Ambil K Terdekat.png",
    "deepnote_img_width": "75%"
   },
   "source": [
    "<img src=\"KNN Manual/Ambil K Terdekat.png\" width=\"75%\" align=\"\" />"
   ]
  },
  {
   "block_group": "4cca417eb60c4796a32acc45c1442905",
   "cell_type": "markdown",
   "metadata": {
    "cell_id": "0416f644aa714f728c528cb5cd852d55",
    "deepnote_app_block_visible": true,
    "deepnote_cell_type": "image",
    "deepnote_img_alignment": "left",
    "deepnote_img_src": "KNN Manual/Ambil K Terdekat (2).png",
    "deepnote_img_width": "100%"
   },
   "source": [
    "<img src=\"KNN Manual/Ambil K Terdekat (2).png\" width=\"100%\" align=\"left\" />"
   ]
  },
  {
   "block_group": "4afbffb2165a4209a103d8751a5f21db",
   "cell_type": "markdown",
   "metadata": {
    "cell_id": "ae905a10f8e249b8a0b047d71a252fc0",
    "deepnote_app_block_visible": true,
    "deepnote_cell_type": "text-cell-p",
    "formattedRanges": [
     {
      "fromCodePoint": 13,
      "marks": {
       "bold": true
      },
      "toCodePoint": 27,
      "type": "marks"
     },
     {
      "fromCodePoint": 28,
      "marks": {
       "bold": true
      },
      "toCodePoint": 47,
      "type": "marks"
     },
     {
      "fromCodePoint": 125,
      "marks": {
       "italic": true
      },
      "toCodePoint": 130,
      "type": "marks"
     }
    ]
   },
   "source": [
    "Setelah itu, mengambil data sebanyak K terdekat. Dapat diketahui, K yang ditentukan pada awal yaitu 5. Oleh karena itu, pada step ini juga mengambil data sebanyak 5. Dengan kata lain, awal dan akhiran harus sama untuk menentukan banyaknya K. Dapat dilihat pada gambar diatas, data yang telah diurutkan sekaligus diambil 5 data terdekat, di antaranya id 4, 38, 28, 30, dan 36."
   ]
  },
  {
   "block_group": "1c744b9afd2142f1a0468ed381944f92",
   "cell_type": "markdown",
   "metadata": {
    "cell_id": "8247c3c471654d89aee233a30fbfe463",
    "deepnote_app_block_visible": true,
    "deepnote_cell_type": "image",
    "deepnote_img_alignment": "left",
    "deepnote_img_src": "KNN Manual/Hasil Akhir KNN Manual.png",
    "deepnote_img_width": "actual"
   },
   "source": [
    "<img src=\"KNN Manual/Hasil Akhir KNN Manual.png\" width=\"actual\" align=\"left\" />"
   ]
  },
  {
   "block_group": "1c744b9afd2142f1a0468ed381944f92",
   "cell_type": "markdown",
   "metadata": {
    "cell_id": "698e9fcbce1f4a4c89bd78ba1fe6ed3c",
    "deepnote_app_block_visible": true,
    "deepnote_cell_type": "markdown"
   },
   "source": [
    "$$\n",
    "\\overline{S} = \\frac{\\sum_{i=4}^{8} S_i}{5}\n",
    "$$"
   ]
  },
  {
   "block_group": "53ebc93831b04996aa1c16e01fe774cf",
   "cell_type": "markdown",
   "metadata": {
    "cell_id": "45d7f70fb3a648a9b0130b7f9b66d581",
    "deepnote_app_block_visible": true,
    "deepnote_cell_type": "text-cell-p",
    "formattedRanges": [
     {
      "fromCodePoint": 119,
      "marks": {
       "italic": true
      },
      "toCodePoint": 131,
      "type": "marks"
     },
     {
      "fromCodePoint": 196,
      "marks": {
       "italic": true
      },
      "toCodePoint": 209,
      "type": "marks"
     },
     {
      "fromCodePoint": 293,
      "marks": {
       "bold": true
      },
      "toCodePoint": 297,
      "type": "marks"
     }
    ]
   },
   "source": [
    "Pada akhirnya, tinggal menghitung rata-rata dari kelima data yang terdekat itu. Rata-rata yang digunakan adalah kolom 'sepal.length'. Dapat dilihat rumus dan gambar diatas, penjumlahan dari kolom 'sepal.length' di id 4, 38, 28, 30, 36 dibagi dengan 5 dengan menghasilkan nilai akhirnya adalah 4.88."
   ]
  },
  {
   "block_group": "17801ba5b19941b5aed61a513780bc81",
   "cell_type": "markdown",
   "metadata": {
    "cell_id": "9039d65ae14f44c6ac74eb20db2d1cbb",
    "deepnote_app_block_visible": true,
    "deepnote_cell_type": "text-cell-p",
    "formattedRanges": [
     {
      "fromCodePoint": 33,
      "marks": {
       "bold": true
      },
      "toCodePoint": 52,
      "type": "marks"
     },
     {
      "fromCodePoint": 166,
      "marks": {
       "bold": true
      },
      "toCodePoint": 185,
      "type": "marks"
     },
     {
      "fromCodePoint": 253,
      "marks": {
       "bold": true
      },
      "toCodePoint": 272,
      "type": "marks"
     },
     {
      "fromCodePoint": 293,
      "marks": {
       "italic": true
      },
      "toCodePoint": 300,
      "type": "marks"
     },
     {
      "fromCodePoint": 312,
      "marks": {
       "italic": true
      },
      "toCodePoint": 320,
      "type": "marks"
     },
     {
      "fromCodePoint": 320,
      "marks": {
       "bold": true
      },
      "toCodePoint": 332,
      "type": "marks"
     }
    ]
   },
   "source": [
    "Dengan demikian, cara menghitung K-Nearest Neighbor secara manual telah dilakukan. Diharapkan dengan menggunakan cara manual ini, dapat memahami lebih dalam mengenai K-Nearest Neighbor itu. Dimana, hal ini merupakan pondasi untuk melakukan penghitungan K-Nearest Neighbor secara otomatisasi / coding menggunakan library scikit learn -> sklearn.impute.KNNImputer."
   ]
  },
  {
   "block_group": "692788387e024f4ea16676e516fdadac",
   "cell_type": "markdown",
   "metadata": {
    "cell_id": "9ed29dddc9bf421b8414ebabab364376",
    "deepnote_app_block_visible": true,
    "deepnote_cell_type": "text-cell-h3",
    "formattedRanges": []
   },
   "source": [
    "### Implementasi KNN Library Scikit Learn"
   ]
  },
  {
   "block_group": "e624e23b31fd4b449f7c956ed9d51802",
   "cell_type": "code",
   "execution_count": 9,
   "metadata": {
    "cell_id": "53c3eff3c281499985fbc99c3ec88e5e",
    "deepnote_app_block_visible": true,
    "deepnote_cell_type": "sql",
    "deepnote_sql_source": "SELECT * FROM irisfull",
    "deepnote_table_loading": false,
    "deepnote_table_state": {
     "filters": [],
     "pageIndex": 13,
     "pageSize": 10,
     "sortBy": []
    },
    "deepnote_to_be_reexecuted": false,
    "deepnote_variable_name": "df_8",
    "execution_millis": 3946,
    "execution_start": 1710914774174,
    "source_hash": "80eabb4b",
    "sql_integration_id": "ed09b93e-4fb0-4700-a502-93a277042fcf"
   },
   "outputs": [
    {
     "data": {
      "application/vnd.deepnote.sql-output-metadata+json": {
       "size_in_bytes": 23620,
       "status": "success_no_cache"
      }
     },
     "metadata": {},
     "output_type": "display_data"
    },
    {
     "data": {
      "application/vnd.deepnote.dataframe.v3+json": {
       "column_count": 6,
       "columns": [
        {
         "dtype": "object",
         "name": "id",
         "stats": {
          "categories": [
           {
            "count": 1,
            "name": "1"
           },
           {
            "count": 1,
            "name": "2"
           },
           {
            "count": 148,
            "name": "148 others"
           }
          ],
          "nan_count": 0,
          "unique_count": 150
         }
        },
        {
         "dtype": "float64",
         "name": "sepal.length",
         "stats": {
          "histogram": [
           {
            "bin_end": 4.66,
            "bin_start": 4.3,
            "count": 9
           },
           {
            "bin_end": 5.02,
            "bin_start": 4.66,
            "count": 20
           },
           {
            "bin_end": 5.38,
            "bin_start": 5.02,
            "count": 13
           },
           {
            "bin_end": 5.74,
            "bin_start": 5.38,
            "count": 27
           },
           {
            "bin_end": 6.1,
            "bin_start": 5.74,
            "count": 15
           },
           {
            "bin_end": 6.46,
            "bin_start": 6.1,
            "count": 26
           },
           {
            "bin_end": 6.82,
            "bin_start": 6.46,
            "count": 18
           },
           {
            "bin_end": 7.18,
            "bin_start": 6.82,
            "count": 6
           },
           {
            "bin_end": 7.54,
            "bin_start": 7.18,
            "count": 5
           },
           {
            "bin_end": 7.9,
            "bin_start": 7.54,
            "count": 6
           }
          ],
          "max": "7.9",
          "min": "4.3",
          "nan_count": 5,
          "unique_count": 35
         }
        },
        {
         "dtype": "float64",
         "name": "sepal.width",
         "stats": {
          "histogram": [
           {
            "bin_end": 2.24,
            "bin_start": 2,
            "count": 4
           },
           {
            "bin_end": 2.48,
            "bin_start": 2.24,
            "count": 7
           },
           {
            "bin_end": 2.72,
            "bin_start": 2.48,
            "count": 22
           },
           {
            "bin_end": 2.96,
            "bin_start": 2.72,
            "count": 24
           },
           {
            "bin_end": 3.2,
            "bin_start": 2.96,
            "count": 37
           },
           {
            "bin_end": 3.4400000000000004,
            "bin_start": 3.2,
            "count": 31
           },
           {
            "bin_end": 3.6800000000000006,
            "bin_start": 3.4400000000000004,
            "count": 10
           },
           {
            "bin_end": 3.9200000000000004,
            "bin_start": 3.6800000000000006,
            "count": 11
           },
           {
            "bin_end": 4.16,
            "bin_start": 3.9200000000000004,
            "count": 2
           },
           {
            "bin_end": 4.4,
            "bin_start": 4.16,
            "count": 2
           }
          ],
          "max": "4.4",
          "min": "2.0",
          "nan_count": 0,
          "unique_count": 23
         }
        },
        {
         "dtype": "float64",
         "name": "petal.length",
         "stats": {
          "histogram": [
           {
            "bin_end": 1.59,
            "bin_start": 1,
            "count": 37
           },
           {
            "bin_end": 2.18,
            "bin_start": 1.59,
            "count": 13
           },
           {
            "bin_end": 2.7700000000000005,
            "bin_start": 2.18,
            "count": 0
           },
           {
            "bin_end": 3.3600000000000003,
            "bin_start": 2.7700000000000005,
            "count": 3
           },
           {
            "bin_end": 3.95,
            "bin_start": 3.3600000000000003,
            "count": 8
           },
           {
            "bin_end": 4.540000000000001,
            "bin_start": 3.95,
            "count": 26
           },
           {
            "bin_end": 5.130000000000001,
            "bin_start": 4.540000000000001,
            "count": 29
           },
           {
            "bin_end": 5.720000000000001,
            "bin_start": 5.130000000000001,
            "count": 18
           },
           {
            "bin_end": 6.3100000000000005,
            "bin_start": 5.720000000000001,
            "count": 11
           },
           {
            "bin_end": 6.9,
            "bin_start": 6.3100000000000005,
            "count": 5
           }
          ],
          "max": "6.9",
          "min": "1.0",
          "nan_count": 0,
          "unique_count": 43
         }
        },
        {
         "dtype": "float64",
         "name": "petal.width",
         "stats": {
          "histogram": [
           {
            "bin_end": 0.33999999999999997,
            "bin_start": 0.1,
            "count": 41
           },
           {
            "bin_end": 0.58,
            "bin_start": 0.33999999999999997,
            "count": 8
           },
           {
            "bin_end": 0.82,
            "bin_start": 0.58,
            "count": 1
           },
           {
            "bin_end": 1.06,
            "bin_start": 0.82,
            "count": 7
           },
           {
            "bin_end": 1.3,
            "bin_start": 1.06,
            "count": 8
           },
           {
            "bin_end": 1.54,
            "bin_start": 1.3,
            "count": 33
           },
           {
            "bin_end": 1.78,
            "bin_start": 1.54,
            "count": 6
           },
           {
            "bin_end": 2.02,
            "bin_start": 1.78,
            "count": 23
           },
           {
            "bin_end": 2.2600000000000002,
            "bin_start": 2.02,
            "count": 9
           },
           {
            "bin_end": 2.5,
            "bin_start": 2.2600000000000002,
            "count": 14
           }
          ],
          "max": "2.5",
          "min": "0.1",
          "nan_count": 0,
          "unique_count": 22
         }
        },
        {
         "dtype": "object",
         "name": "variety",
         "stats": {
          "categories": [
           {
            "count": 50,
            "name": "Setosa"
           },
           {
            "count": 50,
            "name": "Versicolor"
           },
           {
            "count": 50,
            "name": "Virginica"
           }
          ],
          "nan_count": 0,
          "unique_count": 3
         }
        },
        {
         "dtype": "int64",
         "name": "_deepnote_index_column"
        }
       ],
       "row_count": 150,
       "rows": [
        {
         "_deepnote_index_column": 130,
         "id": "132",
         "petal.length": 6.4,
         "petal.width": 2,
         "sepal.length": 7.9,
         "sepal.width": 3.8,
         "variety": "Virginica"
        },
        {
         "_deepnote_index_column": 131,
         "id": "133",
         "petal.length": 5.6,
         "petal.width": 2.2,
         "sepal.length": 6.4,
         "sepal.width": 2.8,
         "variety": "Virginica"
        },
        {
         "_deepnote_index_column": 132,
         "id": "134",
         "petal.length": 5.1,
         "petal.width": 1.5,
         "sepal.length": 6.3,
         "sepal.width": 2.8,
         "variety": "Virginica"
        },
        {
         "_deepnote_index_column": 133,
         "id": "135",
         "petal.length": 5.6,
         "petal.width": 1.4,
         "sepal.length": 6.1,
         "sepal.width": 2.6,
         "variety": "Virginica"
        },
        {
         "_deepnote_index_column": 134,
         "id": "136",
         "petal.length": 6.1,
         "petal.width": 2.3,
         "sepal.length": 7.7,
         "sepal.width": 3,
         "variety": "Virginica"
        },
        {
         "_deepnote_index_column": 135,
         "id": "137",
         "petal.length": 5.6,
         "petal.width": 2.4,
         "sepal.length": 6.3,
         "sepal.width": 3.4,
         "variety": "Virginica"
        },
        {
         "_deepnote_index_column": 136,
         "id": "138",
         "petal.length": 5.5,
         "petal.width": 1.8,
         "sepal.length": 6.4,
         "sepal.width": 3.1,
         "variety": "Virginica"
        },
        {
         "_deepnote_index_column": 137,
         "id": "139",
         "petal.length": 4.8,
         "petal.width": 1.8,
         "sepal.length": 6,
         "sepal.width": 3,
         "variety": "Virginica"
        },
        {
         "_deepnote_index_column": 138,
         "id": "140",
         "petal.length": 5.4,
         "petal.width": 2.1,
         "sepal.length": 6.9,
         "sepal.width": 3.1,
         "variety": "Virginica"
        },
        {
         "_deepnote_index_column": 139,
         "id": "141",
         "petal.length": 5.6,
         "petal.width": 2.4,
         "sepal.length": 6.7,
         "sepal.width": 3.1,
         "variety": "Virginica"
        }
       ]
      },
      "text/html": [
       "<div>\n",
       "<style scoped>\n",
       "    .dataframe tbody tr th:only-of-type {\n",
       "        vertical-align: middle;\n",
       "    }\n",
       "\n",
       "    .dataframe tbody tr th {\n",
       "        vertical-align: top;\n",
       "    }\n",
       "\n",
       "    .dataframe thead th {\n",
       "        text-align: right;\n",
       "    }\n",
       "</style>\n",
       "<table border=\"1\" class=\"dataframe\">\n",
       "  <thead>\n",
       "    <tr style=\"text-align: right;\">\n",
       "      <th></th>\n",
       "      <th>id</th>\n",
       "      <th>sepal.length</th>\n",
       "      <th>sepal.width</th>\n",
       "      <th>petal.length</th>\n",
       "      <th>petal.width</th>\n",
       "      <th>variety</th>\n",
       "    </tr>\n",
       "  </thead>\n",
       "  <tbody>\n",
       "    <tr>\n",
       "      <th>0</th>\n",
       "      <td>1</td>\n",
       "      <td>5.1</td>\n",
       "      <td>3.5</td>\n",
       "      <td>1.4</td>\n",
       "      <td>0.2</td>\n",
       "      <td>Setosa</td>\n",
       "    </tr>\n",
       "    <tr>\n",
       "      <th>1</th>\n",
       "      <td>2</td>\n",
       "      <td>4.9</td>\n",
       "      <td>3.0</td>\n",
       "      <td>1.4</td>\n",
       "      <td>0.2</td>\n",
       "      <td>Setosa</td>\n",
       "    </tr>\n",
       "    <tr>\n",
       "      <th>2</th>\n",
       "      <td>3</td>\n",
       "      <td>4.7</td>\n",
       "      <td>3.2</td>\n",
       "      <td>1.3</td>\n",
       "      <td>0.2</td>\n",
       "      <td>Setosa</td>\n",
       "    </tr>\n",
       "    <tr>\n",
       "      <th>3</th>\n",
       "      <td>4</td>\n",
       "      <td>4.6</td>\n",
       "      <td>3.1</td>\n",
       "      <td>1.5</td>\n",
       "      <td>0.2</td>\n",
       "      <td>Setosa</td>\n",
       "    </tr>\n",
       "    <tr>\n",
       "      <th>4</th>\n",
       "      <td>6</td>\n",
       "      <td>5.4</td>\n",
       "      <td>3.9</td>\n",
       "      <td>1.7</td>\n",
       "      <td>0.4</td>\n",
       "      <td>Setosa</td>\n",
       "    </tr>\n",
       "    <tr>\n",
       "      <th>...</th>\n",
       "      <td>...</td>\n",
       "      <td>...</td>\n",
       "      <td>...</td>\n",
       "      <td>...</td>\n",
       "      <td>...</td>\n",
       "      <td>...</td>\n",
       "    </tr>\n",
       "    <tr>\n",
       "      <th>145</th>\n",
       "      <td>147</td>\n",
       "      <td>6.3</td>\n",
       "      <td>2.5</td>\n",
       "      <td>5.0</td>\n",
       "      <td>1.9</td>\n",
       "      <td>Virginica</td>\n",
       "    </tr>\n",
       "    <tr>\n",
       "      <th>146</th>\n",
       "      <td>148</td>\n",
       "      <td>6.5</td>\n",
       "      <td>3.0</td>\n",
       "      <td>5.2</td>\n",
       "      <td>2.0</td>\n",
       "      <td>Virginica</td>\n",
       "    </tr>\n",
       "    <tr>\n",
       "      <th>147</th>\n",
       "      <td>149</td>\n",
       "      <td>6.2</td>\n",
       "      <td>3.4</td>\n",
       "      <td>5.4</td>\n",
       "      <td>2.3</td>\n",
       "      <td>Virginica</td>\n",
       "    </tr>\n",
       "    <tr>\n",
       "      <th>148</th>\n",
       "      <td>150</td>\n",
       "      <td>5.9</td>\n",
       "      <td>3.0</td>\n",
       "      <td>5.1</td>\n",
       "      <td>1.8</td>\n",
       "      <td>Virginica</td>\n",
       "    </tr>\n",
       "    <tr>\n",
       "      <th>149</th>\n",
       "      <td>5</td>\n",
       "      <td>NaN</td>\n",
       "      <td>3.6</td>\n",
       "      <td>1.4</td>\n",
       "      <td>0.2</td>\n",
       "      <td>Setosa</td>\n",
       "    </tr>\n",
       "  </tbody>\n",
       "</table>\n",
       "<p>150 rows × 6 columns</p>\n",
       "</div>"
      ],
      "text/plain": [
       "      id  sepal.length  sepal.width  petal.length  petal.width    variety\n",
       "0      1           5.1          3.5           1.4          0.2     Setosa\n",
       "1      2           4.9          3.0           1.4          0.2     Setosa\n",
       "2      3           4.7          3.2           1.3          0.2     Setosa\n",
       "3      4           4.6          3.1           1.5          0.2     Setosa\n",
       "4      6           5.4          3.9           1.7          0.4     Setosa\n",
       "..   ...           ...          ...           ...          ...        ...\n",
       "145  147           6.3          2.5           5.0          1.9  Virginica\n",
       "146  148           6.5          3.0           5.2          2.0  Virginica\n",
       "147  149           6.2          3.4           5.4          2.3  Virginica\n",
       "148  150           5.9          3.0           5.1          1.8  Virginica\n",
       "149    5           NaN          3.6           1.4          0.2     Setosa\n",
       "\n",
       "[150 rows x 6 columns]"
      ]
     },
     "execution_count": 9,
     "metadata": {},
     "output_type": "execute_result"
    }
   ],
   "outputs_reference": "s3:deepnote-cell-outputs-production/aedd1bdf-3983-477f-be33-d6eedbf1f2a8",
   "source": [
    "df_8 = _deepnote_execute_sql('SELECT * FROM irisfull', 'SQL_ED09B93E_4FB0_4700_A502_93A277042FCF', audit_sql_comment='', sql_cache_mode='cache_disabled')\n",
    "df_8"
   ]
  },
  {
   "block_group": "014de92ae0374eccbbd3c53becb03de6",
   "cell_type": "markdown",
   "metadata": {
    "cell_id": "e5a71577eca5491e9479a5dc0fda228f",
    "deepnote_app_block_visible": true,
    "deepnote_cell_type": "text-cell-p",
    "formattedRanges": [
     {
      "fromCodePoint": 38,
      "marks": {
       "bold": true
      },
      "toCodePoint": 52,
      "type": "marks"
     },
     {
      "fromCodePoint": 182,
      "marks": {
       "italic": true
      },
      "toCodePoint": 215,
      "type": "marks"
     },
     {
      "fromCodePoint": 292,
      "marks": {
       "bold": true
      },
      "toCodePoint": 302,
      "type": "marks"
     },
     {
      "fromCodePoint": 359,
      "marks": {
       "bold": true
      },
      "toCodePoint": 364,
      "type": "marks"
     }
    ]
   },
   "source": [
    "Dalam case ini, terdapat 5 kolom yang missing values, tepatnya pada kolom 'sepal.length' lebih tepatnya di id 5, 10, 15, 20, dan 25 (selengkapnya cek data di atas), sama halnya pada Implementasi Algoritma KNN Manual. Akan tetapi, yang membedakan pada kali ini, database yang digunakan adalah PostgreSql. Dimana sebelumnya sudah menggunakan data dari database MySql."
   ]
  },
  {
   "block_group": "f7fcacce68684939b3dcac1932c1d3f9",
   "cell_type": "code",
   "execution_count": 10,
   "metadata": {
    "cell_id": "322ddefc661540378cd7449fcdbd247e",
    "deepnote_app_block_visible": true,
    "deepnote_cell_type": "code",
    "deepnote_to_be_reexecuted": false,
    "execution_millis": 155,
    "execution_start": 1710914778129,
    "source_hash": "ce2c7467"
   },
   "outputs": [
    {
     "data": {
      "text/plain": [
       "id              0\n",
       "sepal.length    5\n",
       "sepal.width     0\n",
       "petal.length    0\n",
       "petal.width     0\n",
       "variety         0\n",
       "dtype: int64"
      ]
     },
     "execution_count": 10,
     "metadata": {},
     "output_type": "execute_result"
    }
   ],
   "outputs_reference": "dbtable:cell_outputs/d5c473fb-5651-4df1-9d2c-5accdf1986e6",
   "source": [
    "df_8.isnull().sum()"
   ]
  },
  {
   "block_group": "7c0c22763a594f059bb83c6245799dab",
   "cell_type": "markdown",
   "metadata": {
    "cell_id": "05db3444f46d4f89bb6e4be465088bcb",
    "deepnote_app_block_visible": true,
    "deepnote_cell_type": "text-cell-p",
    "formattedRanges": [
     {
      "fromCodePoint": 54,
      "marks": {
       "bold": true
      },
      "toCodePoint": 69,
      "type": "marks"
     }
    ]
   },
   "source": [
    "Dapat diketahui, pada data di atas terdapat data yang missing values (IS NULL) di kolom 'sepal.length' sebanyak 5."
   ]
  },
  {
   "block_group": "12b39bd9cd884d7bb60f4a6a5a1d515f",
   "cell_type": "code",
   "execution_count": 11,
   "metadata": {
    "cell_id": "23436de994b341eb83d8d6bc18fe31d1",
    "deepnote_app_block_visible": true,
    "deepnote_cell_type": "code",
    "deepnote_to_be_reexecuted": false,
    "execution_millis": 285,
    "execution_start": 1710914778155,
    "source_hash": "c1ac22db"
   },
   "outputs": [
    {
     "data": {
      "application/vnd.deepnote.dataframe.v3+json": {
       "column_count": 6,
       "columns": [
        {
         "dtype": "object",
         "name": "id",
         "stats": {
          "categories": [
           {
            "count": 1,
            "name": "10"
           },
           {
            "count": 1,
            "name": "15"
           },
           {
            "count": 3,
            "name": "3 others"
           }
          ],
          "nan_count": 0,
          "unique_count": 5
         }
        },
        {
         "dtype": "float64",
         "name": "sepal.length",
         "stats": {
          "histogram": [
           {
            "bin_end": 0.1,
            "bin_start": 0,
            "count": 0
           },
           {
            "bin_end": 0.2,
            "bin_start": 0.1,
            "count": 0
           },
           {
            "bin_end": 0.30000000000000004,
            "bin_start": 0.2,
            "count": 0
           },
           {
            "bin_end": 0.4,
            "bin_start": 0.30000000000000004,
            "count": 0
           },
           {
            "bin_end": 0.5,
            "bin_start": 0.4,
            "count": 0
           },
           {
            "bin_end": 0.6000000000000001,
            "bin_start": 0.5,
            "count": 0
           },
           {
            "bin_end": 0.7000000000000001,
            "bin_start": 0.6000000000000001,
            "count": 0
           },
           {
            "bin_end": 0.8,
            "bin_start": 0.7000000000000001,
            "count": 0
           },
           {
            "bin_end": 0.9,
            "bin_start": 0.8,
            "count": 0
           },
           {
            "bin_end": 1,
            "bin_start": 0.9,
            "count": 0
           }
          ],
          "max": null,
          "min": null,
          "nan_count": 5,
          "unique_count": 0
         }
        },
        {
         "dtype": "float64",
         "name": "sepal.width",
         "stats": {
          "histogram": [
           {
            "bin_end": 3.19,
            "bin_start": 3.1,
            "count": 1
           },
           {
            "bin_end": 3.2800000000000002,
            "bin_start": 3.19,
            "count": 0
           },
           {
            "bin_end": 3.37,
            "bin_start": 3.2800000000000002,
            "count": 0
           },
           {
            "bin_end": 3.46,
            "bin_start": 3.37,
            "count": 1
           },
           {
            "bin_end": 3.55,
            "bin_start": 3.46,
            "count": 0
           },
           {
            "bin_end": 3.64,
            "bin_start": 3.55,
            "count": 1
           },
           {
            "bin_end": 3.73,
            "bin_start": 3.64,
            "count": 0
           },
           {
            "bin_end": 3.8200000000000003,
            "bin_start": 3.73,
            "count": 1
           },
           {
            "bin_end": 3.91,
            "bin_start": 3.8200000000000003,
            "count": 0
           },
           {
            "bin_end": 4,
            "bin_start": 3.91,
            "count": 1
           }
          ],
          "max": "4.0",
          "min": "3.1",
          "nan_count": 0,
          "unique_count": 5
         }
        },
        {
         "dtype": "float64",
         "name": "petal.length",
         "stats": {
          "histogram": [
           {
            "bin_end": 1.27,
            "bin_start": 1.2,
            "count": 1
           },
           {
            "bin_end": 1.3399999999999999,
            "bin_start": 1.27,
            "count": 0
           },
           {
            "bin_end": 1.41,
            "bin_start": 1.3399999999999999,
            "count": 1
           },
           {
            "bin_end": 1.48,
            "bin_start": 1.41,
            "count": 0
           },
           {
            "bin_end": 1.5499999999999998,
            "bin_start": 1.48,
            "count": 2
           },
           {
            "bin_end": 1.6199999999999999,
            "bin_start": 1.5499999999999998,
            "count": 0
           },
           {
            "bin_end": 1.69,
            "bin_start": 1.6199999999999999,
            "count": 0
           },
           {
            "bin_end": 1.7599999999999998,
            "bin_start": 1.69,
            "count": 0
           },
           {
            "bin_end": 1.8299999999999998,
            "bin_start": 1.7599999999999998,
            "count": 0
           },
           {
            "bin_end": 1.9,
            "bin_start": 1.8299999999999998,
            "count": 1
           }
          ],
          "max": "1.9",
          "min": "1.2",
          "nan_count": 0,
          "unique_count": 4
         }
        },
        {
         "dtype": "float64",
         "name": "petal.width",
         "stats": {
          "histogram": [
           {
            "bin_end": 0.12,
            "bin_start": 0.1,
            "count": 1
           },
           {
            "bin_end": 0.14,
            "bin_start": 0.12,
            "count": 0
           },
           {
            "bin_end": 0.16,
            "bin_start": 0.14,
            "count": 0
           },
           {
            "bin_end": 0.18,
            "bin_start": 0.16,
            "count": 0
           },
           {
            "bin_end": 0.19999999999999998,
            "bin_start": 0.18,
            "count": 0
           },
           {
            "bin_end": 0.21999999999999997,
            "bin_start": 0.19999999999999998,
            "count": 3
           },
           {
            "bin_end": 0.24,
            "bin_start": 0.21999999999999997,
            "count": 0
           },
           {
            "bin_end": 0.26,
            "bin_start": 0.24,
            "count": 0
           },
           {
            "bin_end": 0.27999999999999997,
            "bin_start": 0.26,
            "count": 0
           },
           {
            "bin_end": 0.3,
            "bin_start": 0.27999999999999997,
            "count": 1
           }
          ],
          "max": "0.3",
          "min": "0.1",
          "nan_count": 0,
          "unique_count": 3
         }
        },
        {
         "dtype": "object",
         "name": "variety",
         "stats": {
          "categories": [
           {
            "count": 5,
            "name": "Setosa"
           }
          ],
          "nan_count": 0,
          "unique_count": 1
         }
        },
        {
         "dtype": "int64",
         "name": "_deepnote_index_column"
        }
       ],
       "row_count": 5,
       "rows": [
        {
         "_deepnote_index_column": 97,
         "id": "10",
         "petal.length": 1.5,
         "petal.width": 0.1,
         "sepal.length": "nan",
         "sepal.width": 3.1,
         "variety": "Setosa"
        },
        {
         "_deepnote_index_column": 98,
         "id": "15",
         "petal.length": 1.2,
         "petal.width": 0.2,
         "sepal.length": "nan",
         "sepal.width": 4,
         "variety": "Setosa"
        },
        {
         "_deepnote_index_column": 99,
         "id": "20",
         "petal.length": 1.5,
         "petal.width": 0.3,
         "sepal.length": "nan",
         "sepal.width": 3.8,
         "variety": "Setosa"
        },
        {
         "_deepnote_index_column": 100,
         "id": "25",
         "petal.length": 1.9,
         "petal.width": 0.2,
         "sepal.length": "nan",
         "sepal.width": 3.4,
         "variety": "Setosa"
        },
        {
         "_deepnote_index_column": 149,
         "id": "5",
         "petal.length": 1.4,
         "petal.width": 0.2,
         "sepal.length": "nan",
         "sepal.width": 3.6,
         "variety": "Setosa"
        }
       ]
      },
      "text/html": [
       "<div>\n",
       "<style scoped>\n",
       "    .dataframe tbody tr th:only-of-type {\n",
       "        vertical-align: middle;\n",
       "    }\n",
       "\n",
       "    .dataframe tbody tr th {\n",
       "        vertical-align: top;\n",
       "    }\n",
       "\n",
       "    .dataframe thead th {\n",
       "        text-align: right;\n",
       "    }\n",
       "</style>\n",
       "<table border=\"1\" class=\"dataframe\">\n",
       "  <thead>\n",
       "    <tr style=\"text-align: right;\">\n",
       "      <th></th>\n",
       "      <th>id</th>\n",
       "      <th>sepal.length</th>\n",
       "      <th>sepal.width</th>\n",
       "      <th>petal.length</th>\n",
       "      <th>petal.width</th>\n",
       "      <th>variety</th>\n",
       "    </tr>\n",
       "  </thead>\n",
       "  <tbody>\n",
       "    <tr>\n",
       "      <th>97</th>\n",
       "      <td>10</td>\n",
       "      <td>NaN</td>\n",
       "      <td>3.1</td>\n",
       "      <td>1.5</td>\n",
       "      <td>0.1</td>\n",
       "      <td>Setosa</td>\n",
       "    </tr>\n",
       "    <tr>\n",
       "      <th>98</th>\n",
       "      <td>15</td>\n",
       "      <td>NaN</td>\n",
       "      <td>4.0</td>\n",
       "      <td>1.2</td>\n",
       "      <td>0.2</td>\n",
       "      <td>Setosa</td>\n",
       "    </tr>\n",
       "    <tr>\n",
       "      <th>99</th>\n",
       "      <td>20</td>\n",
       "      <td>NaN</td>\n",
       "      <td>3.8</td>\n",
       "      <td>1.5</td>\n",
       "      <td>0.3</td>\n",
       "      <td>Setosa</td>\n",
       "    </tr>\n",
       "    <tr>\n",
       "      <th>100</th>\n",
       "      <td>25</td>\n",
       "      <td>NaN</td>\n",
       "      <td>3.4</td>\n",
       "      <td>1.9</td>\n",
       "      <td>0.2</td>\n",
       "      <td>Setosa</td>\n",
       "    </tr>\n",
       "    <tr>\n",
       "      <th>149</th>\n",
       "      <td>5</td>\n",
       "      <td>NaN</td>\n",
       "      <td>3.6</td>\n",
       "      <td>1.4</td>\n",
       "      <td>0.2</td>\n",
       "      <td>Setosa</td>\n",
       "    </tr>\n",
       "  </tbody>\n",
       "</table>\n",
       "</div>"
      ],
      "text/plain": [
       "     id  sepal.length  sepal.width  petal.length  petal.width variety\n",
       "97   10           NaN          3.1           1.5          0.1  Setosa\n",
       "98   15           NaN          4.0           1.2          0.2  Setosa\n",
       "99   20           NaN          3.8           1.5          0.3  Setosa\n",
       "100  25           NaN          3.4           1.9          0.2  Setosa\n",
       "149   5           NaN          3.6           1.4          0.2  Setosa"
      ]
     },
     "execution_count": 11,
     "metadata": {},
     "output_type": "execute_result"
    }
   ],
   "outputs_reference": "s3:deepnote-cell-outputs-production/55507f96-3f82-4903-aa46-97f593e37c1e",
   "source": [
    "df_8.loc[df_8[\"sepal.length\"].isnull()]"
   ]
  },
  {
   "block_group": "adf86a2218d7437a94a1c4b54e57f5af",
   "cell_type": "markdown",
   "metadata": {
    "cell_id": "d1bc972384ca44b18b58c0e92af07779",
    "deepnote_app_block_visible": true,
    "deepnote_cell_type": "text-cell-p",
    "formattedRanges": []
   },
   "source": [
    "Selanjutnya, mengecek dari kelima data tersebut, terdapat uraian berupa data di atas dengan id 5, 10, 15, 20, dan 25 pada kolom 'sepal.length'. Dapat dilihat data di atas, kelima data itu yang mewakili bahwa data tersebut kosong adalah 'nan'."
   ]
  },
  {
   "block_group": "fb53dea3d7c14eb8a755745843bdadd0",
   "cell_type": "code",
   "execution_count": 12,
   "metadata": {
    "cell_id": "15f7855f6f30407cae725f1aca965948",
    "deepnote_app_block_visible": true,
    "deepnote_cell_type": "code",
    "deepnote_to_be_reexecuted": false,
    "execution_millis": 641,
    "execution_start": 1710914778161,
    "source_hash": "45ef323a"
   },
   "outputs": [
    {
     "name": "stdout",
     "output_type": "stream",
     "text": [
      "Data Sebelum melakukan imputasi\n",
      "       id  sepal.length  sepal.width  petal.length  petal.width    variety\n",
      "0      1           5.1          3.5           1.4          0.2     Setosa\n",
      "1      2           4.9          3.0           1.4          0.2     Setosa\n",
      "2      3           4.7          3.2           1.3          0.2     Setosa\n",
      "3      4           4.6          3.1           1.5          0.2     Setosa\n",
      "4      6           5.4          3.9           1.7          0.4     Setosa\n",
      "..   ...           ...          ...           ...          ...        ...\n",
      "145  147           6.3          2.5           5.0          1.9  Virginica\n",
      "146  148           6.5          3.0           5.2          2.0  Virginica\n",
      "147  149           6.2          3.4           5.4          2.3  Virginica\n",
      "148  150           5.9          3.0           5.1          1.8  Virginica\n",
      "149    5           NaN          3.6           1.4          0.2     Setosa\n",
      "\n",
      "[150 rows x 6 columns]\n",
      "\n",
      "\n",
      "Data Sebelum imputasi untuk baris yang kosong:\n",
      "      id  sepal.length  sepal.width  petal.length  petal.width variety\n",
      "97   10           NaN          3.1           1.5          0.1  Setosa\n",
      "98   15           NaN          4.0           1.2          0.2  Setosa\n",
      "99   20           NaN          3.8           1.5          0.3  Setosa\n",
      "100  25           NaN          3.4           1.9          0.2  Setosa\n",
      "149   5           NaN          3.6           1.4          0.2  Setosa\n",
      "\n",
      "\n",
      "Data Setelah imputasi untuk baris yang kosong:\n",
      "      id  sepal.length  sepal.width  petal.length  petal.width\n",
      "97   10          4.90          3.1           1.5          0.1\n",
      "98   15          5.00          4.0           1.2          0.2\n",
      "99   20          5.55          3.8           1.5          0.3\n",
      "100  25          5.05          3.4           1.9          0.2\n",
      "149   5          5.00          3.6           1.4          0.2\n"
     ]
    }
   ],
   "outputs_reference": "s3:deepnote-cell-outputs-production/fe278e11-a206-4794-8266-bf1b2544460f",
   "source": [
    "import numpy as np\n",
    "import pandas as pd\n",
    "from sklearn.impute import KNNImputer\n",
    "\n",
    "dict = df_8  # Asumsi df_8 data yang digunakan\n",
    "\n",
    "Before_imputation = pd.DataFrame(dict)\n",
    "print(\"Data Sebelum melakukan imputasi\\n\", Before_imputation)\n",
    "\n",
    "imputer = KNNImputer(n_neighbors=2)\n",
    "After_imputation = imputer.fit_transform(Before_imputation.drop([\"variety\"], axis=1))\n",
    "\n",
    "# Konversi Output ke DataFrame dengan 2 angka dibelakang koma \n",
    "After_imputation_df = pd.DataFrame(After_imputation, columns=Before_imputation.drop([\"variety\"], axis=1).columns)\n",
    "After_imputation_df = After_imputation_df.round(2)  # menggunakan fungsi round()\n",
    "\n",
    "# Konversi kolom 'id' ke integer\n",
    "After_imputation_df['id'] = After_imputation_df['id'].astype(int)\n",
    "\n",
    "# Mencari indeks ke-berapa saja yang kosong pada kolom 'sepal.length'\n",
    "imputed_indices = np.where(np.isnan(Before_imputation['sepal.length']))[0]\n",
    "\n",
    "# Print Baris sebelum dan sesudah imputasi untuk terutama indeks yang kosong/nan\n",
    "print(\"\\n\\nData Sebelum imputasi untuk baris yang kosong:\\n\", Before_imputation.iloc[imputed_indices])\n",
    "print(\"\\n\\nData Setelah imputasi untuk baris yang kosong:\\n\", After_imputation_df.iloc[imputed_indices])"
   ]
  },
  {
   "block_group": "0bb7a42128d446d79d9025df50f7fe55",
   "cell_type": "markdown",
   "metadata": {
    "cell_id": "018c9652be4049fc98999c43746cd593",
    "deepnote_app_block_visible": true,
    "deepnote_cell_type": "text-cell-p",
    "formattedRanges": [
     {
      "fromCodePoint": 72,
      "marks": {
       "italic": true
      },
      "toCodePoint": 80,
      "type": "marks"
     },
     {
      "fromCodePoint": 81,
      "marks": {
       "bold": true
      },
      "toCodePoint": 104,
      "type": "marks"
     },
     {
      "fromCodePoint": 130,
      "marks": {
       "italic": true
      },
      "toCodePoint": 137,
      "type": "marks"
     }
    ]
   },
   "source": [
    "Kemudian, memberikan sedikit tambahan code yang sesuai pada dokumentasi library  scikit-learn KNNImputer. Mulai dari inisialisasi library, data yang digunakan (df_8) sampai menghasilkan keluaran / output Data sebelum imputasi serta Data sebelum dan sesudah imputasi untuk baris yang kosong / nan. Selengkapnya dapat melihat hasil pada code di atas."
   ]
  },
  {
   "block_group": "83d44c6828f648de9ead3dc1875ee471",
   "cell_type": "markdown",
   "metadata": {
    "cell_id": "8dfae5043e524ad4a8157cbb044e114d",
    "deepnote_app_block_visible": true,
    "deepnote_cell_type": "text-cell-p",
    "formattedRanges": [
     {
      "fromCodePoint": 15,
      "marks": {
       "bold": true
      },
      "toCodePoint": 27,
      "type": "marks"
     },
     {
      "fromCodePoint": 34,
      "marks": {
       "bold": true
      },
      "toCodePoint": 47,
      "type": "marks"
     },
     {
      "fromCodePoint": 98,
      "marks": {
       "italic": true
      },
      "toCodePoint": 110,
      "type": "marks"
     },
     {
      "fromCodePoint": 392,
      "marks": {
       "bold": true
      },
      "toCodePoint": 405,
      "type": "marks"
     }
    ]
   },
   "source": [
    "Demikian untuk Implementasi dalam Algoritma KNN baik itu secara manual bahkan menggunakan Library Scikit Learn. Hasil akhir dari keduanya hampir mirip atau tidak berbeda jauh. Dengan kata lain, sudah melakukan proses dari awal sampai akhir sudah baik walaupun tidak menutup kemungkinan masih ada beberapa kekeliruan yang disengaja ataupun tidak. Semoga dapat memberikan gambaran bahwa adanya algoritma KNN ini digunakan."
   ]
  },
  {
   "block_group": "834e09ce21484cc6a0c7089751d635d4",
   "cell_type": "markdown",
   "metadata": {
    "cell_id": "251bbd6fc81244f1bccd12f60eaa6e3d",
    "deepnote_app_block_visible": true,
    "deepnote_cell_type": "separator"
   },
   "source": [
    "<hr>"
   ]
  },
  {
   "block_group": "443ad7e68744401c8060d85e984cb578",
   "cell_type": "markdown",
   "metadata": {
    "cell_id": "706c931274564f899e273b6f46c372ca",
    "deepnote_app_block_visible": true,
    "deepnote_cell_type": "text-cell-h2",
    "formattedRanges": [],
    "is_collapsed": false
   },
   "source": [
    "## Deteksi LOF (Local Outlier Factor)"
   ]
  },
  {
   "block_group": "8c7c79457a8147019eb656edbe1b347a",
   "cell_type": "markdown",
   "metadata": {
    "cell_id": "cec24d1541754fcc9b0888319dbe62ba",
    "deepnote_app_block_visible": true,
    "deepnote_cell_type": "text-cell-h3",
    "formattedRanges": []
   },
   "source": [
    "### Teori LOF"
   ]
  },
  {
   "block_group": "e194ec788dcc42319493ee1893ad8697",
   "cell_type": "markdown",
   "metadata": {
    "cell_id": "523a7949bb754c02bd13d65e29238ef4",
    "deepnote_app_block_visible": true,
    "deepnote_cell_type": "text-cell-p",
    "formattedRanges": [
     {
      "fromCodePoint": 10,
      "marks": {
       "bold": true
      },
      "toCodePoint": 36,
      "type": "marks"
     },
     {
      "fromCodePoint": 295,
      "marks": {
       "bold": true
      },
      "toCodePoint": 303,
      "type": "marks"
     }
    ]
   },
   "source": [
    "Algoritma Local Outlier Factor (LOF) adalah metode pendeteksian anomali tanpa pengawasan yang menghitung variasi kepadatan lokal dari suatu titik data sehubungan dengan tetangganya. Algoritma ini menganggap sampel yang memiliki bobot yang jauh lebih rendah daripada tetangganya sebagai outlier. Outlier dalam ilmu statistik adalah titik data yang nilainya jatuh jauh dari titik data lainnya. Outlier bisa muncul sebagai pengecualian dalam pola data yang ada. Nilainya bisa jauh lebih tinggi atau jauh lebih rendah dibanding nilai-nilai lain dalam kumpulan data (dataset)."
   ]
  },
  {
   "block_group": "39b26ccac96346ab87dcd380b797cd53",
   "cell_type": "markdown",
   "metadata": {
    "cell_id": "74de91d74cff4381b2509a2e6a136b9a",
    "deepnote_app_block_visible": true,
    "deepnote_cell_type": "text-cell-p",
    "formattedRanges": []
   },
   "source": [
    "LOF adalah teknik berbasis densitas yang menggunakan pencarian tetangga terdekat untuk mengidentifikasi titik-titik anomali. Pada dasarnya LOF, suatu titik didasarkan pada rasio kepadatan lokal area di sekitar titik tersebut dan kepadatan lokal tetangganya. LOF mempertimbangkan kepadatan relatif dari titik-titik data. Dengan kata sederhana, LOF membandingkan kepadatan lokal suatu titik dengan kepadatan lokal dari k tetangga terdekatnya dan memberikan hasil akhir berupa peringkat."
   ]
  },
  {
   "block_group": "fdcd191d63434652af34b183c66450ad",
   "cell_type": "markdown",
   "metadata": {
    "cell_id": "67fce30ea8ac4c6b90d8bbe46fcef8e2",
    "deepnote_app_block_visible": true,
    "deepnote_cell_type": "text-cell-p",
    "formattedRanges": []
   },
   "source": [
    "Keuntungan menggunakan LOF adalah membantu mengidentifikasi titik-titik yang merupakan pencilan relatif terhadap sekelompok titik lokal. Sebagai contoh, ketika menggunakan teknik local outlier factor, tetangga dari titik-titik tertentu diidentifikasi dan dibandingkan dengan densitas dari titik-titik tetangga."
   ]
  },
  {
   "block_group": "95deb5faa6834ce58a5011b3989f283f",
   "cell_type": "markdown",
   "metadata": {
    "cell_id": "bec4e15670a944af8bdbdf697da64cf4",
    "deepnote_app_block_visible": true,
    "deepnote_cell_type": "text-cell-p",
    "formattedRanges": []
   },
   "source": [
    "Langkah-langkah berikut ini dapat diterapkan ketika menggunakan model LOF:\r\n",
    "1) Hitung jarak antara P dan semua titik yang diberikan dengan menggunakan fungsi jarak seperti euclidean atau Manhattan.\r\n",
    "2) Temukan titik terdekat ke-k (k-tetangga terdekat). Sebagai contoh, jika K = 3, cari jarak tetangga terdekat ketiga.\r\n",
    "3) Temukan k titik terdekat.\r\n",
    "4) Temukan kepadatan jangkauan lokal menggunakan persamaan berikut:"
   ]
  },
  {
   "block_group": "8b882e8ff9844868a0c224de6f2bb6de",
   "cell_type": "markdown",
   "metadata": {
    "cell_id": "75b6bf0afac54767a6057f4928d789df",
    "deepnote_app_block_visible": true,
    "deepnote_cell_type": "markdown"
   },
   "source": [
    "$$\n",
    "\\text{lrd}{_k}(o) = \\frac{||N_k(o)||}{\\sum_{o' \\in N_k(o)} \\text{reachdist}{_k}(o' \\leftarrow o)}\n",
    "$$"
   ]
  },
  {
   "block_group": "a4c4fd63e6774bddb58351578655b4bb",
   "cell_type": "markdown",
   "metadata": {
    "cell_id": "ddd961f013c14bd08e93a57d50d806b3",
    "deepnote_app_block_visible": true,
    "deepnote_cell_type": "text-cell-p",
    "formattedRanges": []
   },
   "source": [
    "di mana jarak yang dapat dijangkau dapat dihitung sebagai berikut:"
   ]
  },
  {
   "block_group": "ee58044e4a974ef2952237e9a3cd8790",
   "cell_type": "markdown",
   "metadata": {
    "cell_id": "8e554eded54140e79c710e8704f36176",
    "deepnote_app_block_visible": true,
    "deepnote_cell_type": "markdown"
   },
   "source": [
    "$$ \\text{reachdist}{_k}(o' \\leftarrow o) = \\max\\left\\{ \\text{dist}{_k}(o), \\text{dist}(o, o') \\right\\} $$"
   ]
  },
  {
   "block_group": "7d814615d587475996dde5a7c688a76a",
   "cell_type": "markdown",
   "metadata": {
    "cell_id": "cd29441457bf4db6830cedbbff8dd373",
    "deepnote_app_block_visible": true,
    "deepnote_cell_type": "text-cell-p",
    "formattedRanges": []
   },
   "source": [
    "Harap diperhatikan bahwa Nk(O) mengacu pada jumlah tetangga.\r\n",
    "5) Langkah terakhir adalah menghitung faktor pencilan lokal sebagai berikut:"
   ]
  },
  {
   "block_group": "f756cfae532744f9a0b8933deeb6d466",
   "cell_type": "markdown",
   "metadata": {
    "cell_id": "d210eed0f10147eaa6c6ba4aff301c05",
    "deepnote_app_block_visible": true,
    "deepnote_cell_type": "markdown"
   },
   "source": [
    "$$\n",
    "\\text{LOF}_k(o) = \\frac{\\sum_{o' \\in N_k(o)} \\frac{lrd_k(o')}{lrd_k(o)}}{||N_k(o)||}\n",
    "$$"
   ]
  },
  {
   "block_group": "cd77b426a770455fad0868f24022b1c5",
   "cell_type": "markdown",
   "metadata": {
    "cell_id": "09468759977941039fbbaf29a9a8bb08",
    "deepnote_app_block_visible": true,
    "deepnote_cell_type": "text-cell-h3",
    "formattedRanges": []
   },
   "source": [
    "### Contoh Proses LOF Manual (5 Data & 3 Fitur)"
   ]
  },
  {
   "block_group": "c5ac7ebf5a04458f941854d162798b08",
   "cell_type": "markdown",
   "metadata": {
    "cell_id": "d0113b9ad3ef4917b296e8f2d851eaad",
    "deepnote_app_block_visible": true,
    "deepnote_cell_type": "text-cell-p",
    "formattedRanges": [
     {
      "fromCodePoint": 112,
      "marks": {
       "bold": true
      },
      "toCodePoint": 138,
      "type": "marks"
     },
     {
      "fromCodePoint": 158,
      "marks": {
       "bold": true
      },
      "toCodePoint": 173,
      "type": "marks"
     },
     {
      "fromCodePoint": 191,
      "marks": {
       "bold": true
      },
      "toCodePoint": 199,
      "type": "marks"
     }
    ]
   },
   "source": [
    "Pada kali ini, akan terdapat contoh sekaligus penjelasan singkat terkait langkah-langkah implementasi algoritma Local Outlier Factor (LOF) secara manual pada Microsoft Excel untuk mendeteksi outlier dalam dataset. Implementasi ini menggunakan rumus dan fungsi Excel untuk menghitung LOF dan mengidentifikasi data yang nilainya jauh dari tetangganya (outlier)."
   ]
  },
  {
   "block_group": "328dc662fcfe4cfc9be8ee0bddab3b26",
   "cell_type": "markdown",
   "metadata": {
    "cell_id": "ad707008f6764746972864dd27467f95",
    "deepnote_app_block_visible": true,
    "deepnote_cell_type": "text-cell-bullet",
    "formattedRanges": [
     {
      "fromCodePoint": 0,
      "marks": {
       "bold": true
      },
      "toCodePoint": 45,
      "type": "marks"
     }
    ],
    "is_collapsed": false
   },
   "source": [
    "- Menentukan Dataset (Data Awal) yang Digunakan"
   ]
  },
  {
   "block_group": "b401effe313e4cc69ae8bd03313155e6",
   "cell_type": "markdown",
   "metadata": {
    "cell_id": "ddae1e15f44043938fc1815042c61ab3",
    "deepnote_app_block_visible": true,
    "deepnote_cell_type": "image",
    "deepnote_img_alignment": "left",
    "deepnote_img_src": "LOF Manual/Dataset.png",
    "deepnote_img_width": "50%"
   },
   "source": [
    "<img src=\"LOF Manual/Dataset.png\" width=\"50%\" align=\"left\" />"
   ]
  },
  {
   "block_group": "e0e01c34eeb34c669b690177d1c665be",
   "cell_type": "markdown",
   "metadata": {
    "cell_id": "2ff36a08d18044fa852ff50c9018c9b9",
    "deepnote_app_block_visible": true,
    "deepnote_cell_type": "text-cell-p",
    "formattedRanges": [
     {
      "fromCodePoint": 59,
      "marks": {
       "bold": true
      },
      "toCodePoint": 72,
      "type": "marks"
     },
     {
      "fromCodePoint": 118,
      "marks": {
       "bold": true
      },
      "toCodePoint": 126,
      "type": "marks"
     }
    ]
   },
   "source": [
    "Pada tahap awal, diketahui ada 5 data yang tersedia, yaitu a, b, c, d, e. Sedangkan, adapula fitur yang tertera, yakni x, y, z. Pada masing-masing kolom berisikan data / angka yang berbeda-beda. Nantinya kita akan mencari outlier dari data yang tersedia di atas."
   ]
  },
  {
   "block_group": "04af7850de4345d09f400b182e913cce",
   "cell_type": "markdown",
   "metadata": {
    "cell_id": "df6b9fa23e434e6ab24e59bb2dc29410",
    "deepnote_app_block_visible": true,
    "deepnote_cell_type": "text-cell-bullet",
    "formattedRanges": [
     {
      "fromCodePoint": 0,
      "marks": {
       "bold": true
      },
      "toCodePoint": 37,
      "type": "marks"
     },
     {
      "fromCodePoint": 37,
      "marks": {
       "bold": true,
       "italic": true
      },
      "toCodePoint": 39,
      "type": "marks"
     },
     {
      "fromCodePoint": 39,
      "marks": {
       "bold": true
      },
      "toCodePoint": 49,
      "type": "marks"
     }
    ]
   },
   "source": [
    "- Menghitung semua jarak antara setiap n titik data"
   ]
  },
  {
   "block_group": "0c6b456f85224f4ea718b38e3481a0d5",
   "cell_type": "markdown",
   "metadata": {
    "cell_id": "7ab06aa8cd7f4f6cbc1168cd08956117",
    "deepnote_app_block_visible": true,
    "deepnote_cell_type": "image",
    "deepnote_img_alignment": "left",
    "deepnote_img_src": "LOF Manual/Step 1.png",
    "deepnote_img_width": "50%"
   },
   "source": [
    "<img src=\"LOF Manual/Step 1.png\" width=\"50%\" align=\"left\" />"
   ]
  },
  {
   "block_group": "1d71e274210444c5b4169366595a812b",
   "cell_type": "markdown",
   "metadata": {
    "cell_id": "ca897c9cfe074a57b02609da10cb7a17",
    "deepnote_app_block_visible": true,
    "deepnote_cell_type": "text-cell-p",
    "formattedRanges": [
     {
      "fromCodePoint": 220,
      "marks": {
       "bold": true
      },
      "toCodePoint": 226,
      "type": "marks"
     },
     {
      "fromCodePoint": 231,
      "marks": {
       "bold": true
      },
      "toCodePoint": 240,
      "type": "marks"
     },
     {
      "fromCodePoint": 268,
      "marks": {
       "italic": true
      },
      "toCodePoint": 275,
      "type": "marks"
     }
    ]
   },
   "source": [
    "Pada langkah pertama, menghitung seluruh jarak antara tiap-tiap titik data. Pada contoh di atas, menggunakan tiap 3 titik data. Pada kolom proses dilakukan pengurangan antar titik yang dicari. Pastikan menggunakan rumus ABS() atau Absolute agar menghindari hasil yang negatif. Hal ini dikarenakan mencari hasil yang keseluruhan positif agar mempermudahkan proses LOF selanjutnya. Setelah itu, akan menghasilkan kolom 'Hasil' yang menampung dari penjumlahan tiap-tiap proses penghitungan jarak sebelumnya."
   ]
  },
  {
   "block_group": "1e5a3a2ca2b4459da512c83612efa344",
   "cell_type": "markdown",
   "metadata": {
    "cell_id": "c71567f2f8e942a9944e1bc99748a78e",
    "deepnote_app_block_visible": true,
    "deepnote_cell_type": "text-cell-bullet",
    "formattedRanges": [
     {
      "fromCodePoint": 0,
      "marks": {
       "bold": true
      },
      "toCodePoint": 25,
      "type": "marks"
     }
    ]
   },
   "source": [
    "- Menghitung semua dist₃(o)"
   ]
  },
  {
   "block_group": "0d86cdea5b5f452fb0d7730597465504",
   "cell_type": "markdown",
   "metadata": {
    "cell_id": "0e39a6287337459b85ac8f7276c14e78",
    "deepnote_app_block_visible": true,
    "deepnote_cell_type": "image",
    "deepnote_img_alignment": "left",
    "deepnote_img_src": "LOF Manual/Step 2.png",
    "deepnote_img_width": "50%"
   },
   "source": [
    "<img src=\"LOF Manual/Step 2.png\" width=\"50%\" align=\"left\" />"
   ]
  },
  {
   "block_group": "8cf2e83f13da415b8873d4f7e98d2ab7",
   "cell_type": "markdown",
   "metadata": {
    "cell_id": "1524860f8f6940a68ff499eae36b45a8",
    "deepnote_app_block_visible": true,
    "deepnote_cell_type": "text-cell-p",
    "formattedRanges": [
     {
      "fromCodePoint": 42,
      "marks": {
       "bold": true
      },
      "toCodePoint": 50,
      "type": "marks"
     },
     {
      "fromCodePoint": 209,
      "marks": {
       "bold": true
      },
      "toCodePoint": 210,
      "type": "marks"
     },
     {
      "fromCodePoint": 212,
      "marks": {
       "bold": true
      },
      "toCodePoint": 213,
      "type": "marks"
     },
     {
      "fromCodePoint": 222,
      "marks": {
       "bold": true
      },
      "toCodePoint": 223,
      "type": "marks"
     },
     {
      "fromCodePoint": 339,
      "marks": {
       "bold": true
      },
      "toCodePoint": 347,
      "type": "marks"
     },
     {
      "fromCodePoint": 351,
      "marks": {
       "bold": true
      },
      "toCodePoint": 368,
      "type": "marks"
     },
     {
      "fromCodePoint": 394,
      "marks": {
       "bold": true
      },
      "toCodePoint": 395,
      "type": "marks"
     },
     {
      "fromCodePoint": 397,
      "marks": {
       "bold": true
      },
      "toCodePoint": 398,
      "type": "marks"
     },
     {
      "fromCodePoint": 400,
      "marks": {
       "bold": true
      },
      "toCodePoint": 402,
      "type": "marks"
     },
     {
      "fromCodePoint": 404,
      "marks": {
       "bold": true
      },
      "toCodePoint": 406,
      "type": "marks"
     },
     {
      "fromCodePoint": 412,
      "marks": {
       "bold": true
      },
      "toCodePoint": 413,
      "type": "marks"
     },
     {
      "fromCodePoint": 447,
      "marks": {
       "bold": true
      },
      "toCodePoint": 467,
      "type": "marks"
     }
    ]
   },
   "source": [
    "Selanjutnya, menghitung seluruh dist₃(o). distₖ(o) merupakan jarak antara o (object) dan NN ke-k (tetangga terdekat ke-k). Diketahui pada gambar di atas, bahwa dipisahkan tiap-tiap jarak (distance) mulai dari a, b, sampai e. Lalu, diurut masing-masing jarak tersebut mulai dari yang terkecil hingga terbesar. Kemudian, ditarik hasil dalam dist₃(o) -> o = a, b, c, d, e dari k = 3, di antaranya 9, 9, 14, 16, dan 8. Angka-angka itu didapatkan dari urutan ketiga angka setelah diurutkan (kolom Setelah Diurutkan)."
   ]
  },
  {
   "block_group": "91ab8155056a40a8b9be81159f666e3c",
   "cell_type": "markdown",
   "metadata": {
    "cell_id": "811ccd651f194168945d8c660275cb80",
    "deepnote_app_block_visible": true,
    "deepnote_cell_type": "text-cell-bullet",
    "formattedRanges": [
     {
      "fromCodePoint": 0,
      "marks": {
       "bold": true
      },
      "toCodePoint": 22,
      "type": "marks"
     }
    ]
   },
   "source": [
    "- Menghitung semua Nₖ(o)"
   ]
  },
  {
   "block_group": "4f229c5580074b8a8755728629bdd583",
   "cell_type": "markdown",
   "metadata": {
    "cell_id": "78b46592336146b99ca856e3973e9c20",
    "deepnote_app_block_visible": true,
    "deepnote_cell_type": "text-cell-p",
    "formattedRanges": []
   },
   "source": [
    "                                        lingkungan jarak-k dari o               ->"
   ]
  },
  {
   "block_group": "4f229c5580074b8a8755728629bdd583",
   "cell_type": "markdown",
   "metadata": {
    "cell_id": "7ef1e946f5c5475198ce50df1971416f",
    "deepnote_app_block_visible": true,
    "deepnote_cell_type": "markdown"
   },
   "source": [
    "$$ \\text{N}{_k}(o) = \\left\\{ \\text{o' | o' in D}, \\text{dist}(o, o') \\leq \\text{dist}{_k} (o) \\right\\} $$"
   ]
  },
  {
   "block_group": "fa68de48f54e4a36b39f7cc57dfae470",
   "cell_type": "markdown",
   "metadata": {
    "cell_id": "f451df8d47ad49a99d91282d6aa2f7dd",
    "deepnote_app_block_visible": true,
    "deepnote_cell_type": "image",
    "deepnote_img_alignment": "left",
    "deepnote_img_src": "LOF Manual/Step 3.png"
   },
   "source": [
    "<img src=\"LOF Manual/Step 3.png\" width=\"\" align=\"left\" />"
   ]
  },
  {
   "block_group": "82f339227bca46e29fa978add07bed7f",
   "cell_type": "markdown",
   "metadata": {
    "cell_id": "b6d4758a2c604785ba5dea68f270f0c1",
    "deepnote_app_block_visible": true,
    "deepnote_cell_type": "text-cell-p",
    "formattedRanges": [
     {
      "fromCodePoint": 56,
      "marks": {
       "italic": true
      },
      "toCodePoint": 58,
      "type": "marks"
     },
     {
      "fromCodePoint": 123,
      "marks": {
       "bold": true
      },
      "toCodePoint": 129,
      "type": "marks"
     },
     {
      "fromCodePoint": 139,
      "marks": {
       "bold": true
      },
      "toCodePoint": 140,
      "type": "marks"
     },
     {
      "fromCodePoint": 142,
      "marks": {
       "bold": true
      },
      "toCodePoint": 143,
      "type": "marks"
     },
     {
      "fromCodePoint": 145,
      "marks": {
       "bold": true
      },
      "toCodePoint": 146,
      "type": "marks"
     },
     {
      "fromCodePoint": 152,
      "marks": {
       "bold": true
      },
      "toCodePoint": 153,
      "type": "marks"
     },
     {
      "fromCodePoint": 245,
      "marks": {
       "bold": true
      },
      "toCodePoint": 272,
      "type": "marks"
     },
     {
      "fromCodePoint": 278,
      "marks": {
       "bold": true
      },
      "toCodePoint": 286,
      "type": "marks"
     },
     {
      "fromCodePoint": 307,
      "marks": {
       "bold": true
      },
      "toCodePoint": 312,
      "type": "marks"
     },
     {
      "fromCodePoint": 315,
      "marks": {
       "bold": true
      },
      "toCodePoint": 321,
      "type": "marks"
     },
     {
      "fromCodePoint": 349,
      "marks": {
       "italic": true
      },
      "toCodePoint": 355,
      "type": "marks"
     }
    ]
   },
   "source": [
    "Setelah itu, menghitung seluruh lingkungan jarak-k dari o / object. Dapat dilihat pada gambar di atas, misalnya hasil dari N₃(a) diperoleh b, c, d, dan e. Hal ini dapat terjadi karena keempat titik tersebut hasil manhattan (Step 1) itu termasuk kurang dari sama dengan (≤) dari object a. Berlaku juga untuk N₃(b) - N₃(e) karena rumusnya sama (rumus Latex di atas)."
   ]
  },
  {
   "block_group": "ac649c2713d34f158da52d4b76948d7f",
   "cell_type": "markdown",
   "metadata": {
    "cell_id": "bea82dc3468c4539a0f267fa5226d4b3",
    "deepnote_app_block_visible": true,
    "deepnote_cell_type": "text-cell-bullet",
    "formattedRanges": [
     {
      "fromCodePoint": 0,
      "marks": {
       "bold": true
      },
      "toCodePoint": 24,
      "type": "marks"
     }
    ]
   },
   "source": [
    "- Menghitung semua lrdₖ(o)"
   ]
  },
  {
   "block_group": "bdff0d427ec647509a68e7f3c14d5fa6",
   "cell_type": "markdown",
   "metadata": {
    "cell_id": "0777c1ad7d7e4402a798a4986c7dc2da",
    "deepnote_app_block_visible": true,
    "deepnote_cell_type": "text-cell-p",
    "formattedRanges": [
     {
      "fromCodePoint": 0,
      "marks": {
       "bold": true
      },
      "toCodePoint": 7,
      "type": "marks"
     }
    ]
   },
   "source": [
    "lrdₖ(o) -> Local Reachability Density of o (Kepadatan Keterjangkauan Lokal dari o / object)"
   ]
  },
  {
   "block_group": "ccd788c7c36049e7b3610c192fcbd940",
   "cell_type": "markdown",
   "metadata": {
    "cell_id": "84ec46f387ea47c4accaf1a7a64d1031",
    "deepnote_app_block_visible": true,
    "deepnote_cell_type": "markdown"
   },
   "source": [
    "$$\n",
    "\\text{lrd}{_k}(o) = \\frac{||N_k(o)||}{\\sum_{o' \\in N_k(o)} \\text{reachdist}{_k}(o' \\leftarrow o)}\n",
    "$$"
   ]
  },
  {
   "block_group": "ccd788c7c36049e7b3610c192fcbd940",
   "cell_type": "markdown",
   "metadata": {
    "cell_id": "161278beeef94f42811c91ff5e28f133",
    "deepnote_app_block_visible": true,
    "deepnote_cell_type": "text-cell-p",
    "formattedRanges": [
     {
      "fromCodePoint": 0,
      "marks": {
       "bold": true
      },
      "toCodePoint": 11,
      "type": "marks"
     }
    ]
   },
   "source": [
    "|| Nₖ(o) || berarti jumlah objek dalam Nₖ(o)"
   ]
  },
  {
   "block_group": "81b1f31724524bf0b96e558962d1d192",
   "cell_type": "markdown",
   "metadata": {
    "cell_id": "a9c0508a1eeb4a6f8b88882b3f6220f6",
    "deepnote_app_block_visible": true,
    "deepnote_cell_type": "markdown"
   },
   "source": [
    "$$ \\text{reachdist}{_k}(o' \\leftarrow o) = \\max\\left\\{ \\text{dist}{_k}(o), \\text{dist}(o, o') \\right\\} $$"
   ]
  },
  {
   "block_group": "0998fea275cb43a69c093533ad20e91e",
   "cell_type": "markdown",
   "metadata": {
    "cell_id": "58d4d529262040c9b47bfa811696b145",
    "deepnote_app_block_visible": true,
    "deepnote_cell_type": "image",
    "deepnote_img_alignment": "left",
    "deepnote_img_src": "LOF Manual/Step 4.png"
   },
   "source": [
    "<img src=\"LOF Manual/Step 4.png\" width=\"\" align=\"left\" />"
   ]
  },
  {
   "block_group": "74e09f6b11914c61b422568a5abeb720",
   "cell_type": "markdown",
   "metadata": {
    "cell_id": "e83ccd9a5d1746c9848ad459d73eecb6",
    "deepnote_app_block_visible": true,
    "deepnote_cell_type": "text-cell-p",
    "formattedRanges": [
     {
      "fromCodePoint": 61,
      "marks": {
       "bold": true
      },
      "toCodePoint": 68,
      "type": "marks"
     },
     {
      "fromCodePoint": 120,
      "marks": {
       "bold": true
      },
      "toCodePoint": 128,
      "type": "marks"
     },
     {
      "fromCodePoint": 155,
      "marks": {
       "bold": true
      },
      "toCodePoint": 163,
      "type": "marks"
     },
     {
      "fromCodePoint": 194,
      "marks": {
       "bold": true
      },
      "toCodePoint": 202,
      "type": "marks"
     },
     {
      "fromCodePoint": 217,
      "marks": {
       "bold": true
      },
      "toCodePoint": 219,
      "type": "marks"
     },
     {
      "fromCodePoint": 259,
      "marks": {
       "bold": true
      },
      "toCodePoint": 265,
      "type": "marks"
     },
     {
      "fromCodePoint": 273,
      "marks": {
       "bold": true
      },
      "toCodePoint": 292,
      "type": "marks"
     },
     {
      "fromCodePoint": 337,
      "marks": {
       "bold": true
      },
      "toCodePoint": 344,
      "type": "marks"
     },
     {
      "fromCodePoint": 360,
      "marks": {
       "italic": true
      },
      "toCodePoint": 370,
      "type": "marks"
     },
     {
      "fromCodePoint": 388,
      "marks": {
       "bold": true
      },
      "toCodePoint": 390,
      "type": "marks"
     },
     {
      "fromCodePoint": 391,
      "marks": {
       "bold": true
      },
      "toCodePoint": 393,
      "type": "marks"
     },
     {
      "fromCodePoint": 406,
      "marks": {
       "bold": true
      },
      "toCodePoint": 415,
      "type": "marks"
     },
     {
      "fromCodePoint": 416,
      "marks": {
       "bold": true
      },
      "toCodePoint": 426,
      "type": "marks"
     },
     {
      "fromCodePoint": 463,
      "marks": {
       "bold": true
      },
      "toCodePoint": 470,
      "type": "marks"
     },
     {
      "fromCodePoint": 473,
      "marks": {
       "bold": true
      },
      "toCodePoint": 481,
      "type": "marks"
     }
    ]
   },
   "source": [
    "Selanjutnya, menghitung semua kepadatan keterjangkauan lokal lrdₖ(o). Dilihat gambar serta rumus di atas, misalnya pada lrd₃(a) menghasilkan nilai sebesar 0.266667. Hal ini terjadi karena rumus lrdₖ(o) di atas, bahwa 4 (jumlah kepadatan keterjangkauan lokal) dibagi dengan penjumlahan 1, 5, 9 (Step 2 -> kolom Setelah Diurutkan). Dimana 1, 5, 9 diperoleh dari reachdist (jangkauan jarak) k = 3 dari selain object a (b, c, d, e). Demikian pula, untuk cara mencari lrd₃(b) - lrd₃(e) yang mana akan menghasilkan nilai akhir sesuai tabel di atas."
   ]
  },
  {
   "block_group": "570b5f695c2343709ccc0a738d509617",
   "cell_type": "markdown",
   "metadata": {
    "cell_id": "2f0b6e2366ec46688c82bc6b50b9bdb7",
    "deepnote_app_block_visible": true,
    "deepnote_cell_type": "text-cell-bullet",
    "formattedRanges": [
     {
      "fromCodePoint": 0,
      "marks": {
       "bold": true
      },
      "toCodePoint": 24,
      "type": "marks"
     }
    ]
   },
   "source": [
    "- Menghitung semua LOFₖ(o)"
   ]
  },
  {
   "block_group": "1e15d8e066ab41e68197d47599293b4d",
   "cell_type": "markdown",
   "metadata": {
    "cell_id": "0ea61f4e42854f9fa023287ff64aad11",
    "deepnote_app_block_visible": true,
    "deepnote_cell_type": "markdown"
   },
   "source": [
    "$$\n",
    "\\text{LOF}_k(o) = \\frac{\\sum_{o' \\in N_k(o)} \\frac{lrd_k(o')}{lrd_k(o)}}{||N_k(o)||} = {\\sum_{o' \\in N_k(o)}}{lrd_k(o')} . {\\sum_{o' \\in N_k(o)}} \\text{reachdist}{_k}(o' \\leftarrow o)\n",
    "$$"
   ]
  },
  {
   "block_group": "d2052005c0794826b6ee79e8cb11dcf4",
   "cell_type": "markdown",
   "metadata": {
    "cell_id": "8c95ff5ea3d24adb8cb6582494545dff",
    "deepnote_app_block_visible": true,
    "deepnote_cell_type": "image",
    "deepnote_img_alignment": "left",
    "deepnote_img_src": "LOF Manual/Step 5.png"
   },
   "source": [
    "<img src=\"LOF Manual/Step 5.png\" width=\"\" align=\"left\" />"
   ]
  },
  {
   "block_group": "0114a3809c824853b69fc98125a9ca8f",
   "cell_type": "markdown",
   "metadata": {
    "cell_id": "698fbf82071540749aa5ed59014a6ede",
    "deepnote_app_block_visible": true,
    "deepnote_cell_type": "text-cell-p",
    "formattedRanges": [
     {
      "fromCodePoint": 212,
      "marks": {
       "bold": true
      },
      "toCodePoint": 220,
      "type": "marks"
     },
     {
      "fromCodePoint": 338,
      "marks": {
       "italic": true
      },
      "toCodePoint": 348,
      "type": "marks"
     },
     {
      "fromCodePoint": 366,
      "marks": {
       "bold": true
      },
      "toCodePoint": 368,
      "type": "marks"
     },
     {
      "fromCodePoint": 369,
      "marks": {
       "bold": true
      },
      "toCodePoint": 371,
      "type": "marks"
     },
     {
      "fromCodePoint": 384,
      "marks": {
       "bold": true
      },
      "toCodePoint": 393,
      "type": "marks"
     },
     {
      "fromCodePoint": 394,
      "marks": {
       "bold": true
      },
      "toCodePoint": 404,
      "type": "marks"
     }
    ]
   },
   "source": [
    "Kemudian, pada tahap selanjutnya menghitung semua  Local Outlier Factor-k (LOFₖ) pada tiap object. Pada gambar di atas, misalnya diketahui LOF₃(a) -> sesuai rumus di atas. Hal itu akan menghasilkan nilai sebesar 10.57703. Dimana asalnya dari penjumlahan seluruh hasil kecuali lrd₃(a), yaitu lrd₃(b) - lrd₃(e) dikalikan dengan penjumlahan reachdist (jangkauan jarak) k = 3 dari selain object a (b, c, d, e). Demikian pula untuk mencari hasil LOF₃(b) - LOF₃(e) dengan acuan rumus di atas. Akhirnya, akan menghasilkan nilai-nilai yang tertera pada kolom 'Hasil'."
   ]
  },
  {
   "block_group": "889e8278b2e74b238dbf28463ae672de",
   "cell_type": "markdown",
   "metadata": {
    "cell_id": "ce47dd05e248423ca2d99475a8bc2765",
    "deepnote_app_block_visible": true,
    "deepnote_cell_type": "text-cell-bullet",
    "formattedRanges": [
     {
      "fromCodePoint": 0,
      "marks": {
       "bold": true
      },
      "toCodePoint": 25,
      "type": "marks"
     }
    ]
   },
   "source": [
    "- Mengurutkan semua LOFₖ(o)"
   ]
  },
  {
   "block_group": "b95eb259d6e341b982f6cc2e70589252",
   "cell_type": "markdown",
   "metadata": {
    "cell_id": "dc79804cb372403c9cbbe8461bbe4b05",
    "deepnote_app_block_visible": true,
    "deepnote_cell_type": "image",
    "deepnote_img_alignment": "left",
    "deepnote_img_src": "LOF Manual/Step 6.png"
   },
   "source": [
    "<img src=\"LOF Manual/Step 6.png\" width=\"\" align=\"left\" />"
   ]
  },
  {
   "block_group": "e19a87c3cde948479bf0bf81b80cc33f",
   "cell_type": "markdown",
   "metadata": {
    "cell_id": "9010cf1549ac4513b1b95d50c6be1735",
    "deepnote_app_block_visible": true,
    "deepnote_cell_type": "text-cell-p",
    "formattedRanges": [
     {
      "fromCodePoint": 187,
      "marks": {
       "bold": true
      },
      "toCodePoint": 195,
      "type": "marks"
     },
     {
      "fromCodePoint": 237,
      "marks": {
       "bold": true
      },
      "toCodePoint": 246,
      "type": "marks"
     },
     {
      "fromCodePoint": 275,
      "marks": {
       "bold": true
      },
      "toCodePoint": 282,
      "type": "marks"
     },
     {
      "fromCodePoint": 293,
      "marks": {
       "bold": true,
       "italic": true
      },
      "toCodePoint": 301,
      "type": "marks"
     }
    ]
   },
   "source": [
    "Terakhir, mengurutkan hasil dari proses LOFₖ(o) sebelumnya (Step 5). Urutannya dimulai dari yang terbesar ke terkecil dan akan menghasilkan sesuai gambar di atas. Dapat disimpulkan, bahwa LOF₃(d) mendapatkan nilai yang tertinggi sebesar 39.73109 serta dapat dipastikan untuk LOF₃(d) merupakan outliner dari dataset yang diketahui di awal."
   ]
  },
  {
   "block_group": "630b171ac34e48788266e49a99a3df39",
   "cell_type": "markdown",
   "metadata": {
    "cell_id": "5b1983dee4974feb890415c2ecf5a127",
    "deepnote_app_block_visible": true,
    "deepnote_cell_type": "text-cell-h3",
    "formattedRanges": []
   },
   "source": [
    "### Implementasi LOF Menggunakan Scikit Learn dari Data Manual"
   ]
  },
  {
   "block_group": "c3a031d4d8bd4d18b2fe6cecda043b8b",
   "cell_type": "markdown",
   "metadata": {
    "cell_id": "14dc3fd3c281479284a05214d0bd9844",
    "deepnote_app_block_visible": true,
    "deepnote_cell_type": "text-cell-p",
    "formattedRanges": []
   },
   "source": [
    "Selanjutnya, akan diberikan contoh untuk menunjukkan implementasi menggunakan library Scikit-Learn untuk mendeteksi outlier dalam dataset dengan algoritma Local Outlier Factor (LOF). LOF adalah metode yang efektif untuk mendeteksi outlier dalam data multidimensi. Dataset yang digunakan dalam contoh ini adalah dataset buatan yang terdiri dari 5 data point dengan 3 fitur. Berikut ini akan dijelaskan langkah-langkah dalam membangun code untuk mendeteksi outlier dalam dataset dengan algoritma LOF."
   ]
  },
  {
   "block_group": "5a2fa5d1ff9e492abda38f0f0d2c7ab8",
   "cell_type": "code",
   "execution_count": 13,
   "metadata": {
    "cell_id": "8fea5faba68948e5870514230e5c84f2",
    "deepnote_app_block_visible": true,
    "deepnote_cell_type": "code",
    "deepnote_to_be_reexecuted": false,
    "execution_millis": 281,
    "execution_start": 1710914778811,
    "source_hash": "5d861ebf"
   },
   "outputs": [
    {
     "data": {
      "text/plain": [
       "array([ 1,  1,  1, -1,  1])"
      ]
     },
     "execution_count": 13,
     "metadata": {},
     "output_type": "execute_result"
    }
   ],
   "outputs_reference": "dbtable:cell_outputs/1d86a95e-eae0-4119-bd0d-7ca61d2ff153",
   "source": [
    "import numpy as np\n",
    "from sklearn.neighbors import LocalOutlierFactor\n",
    "X = [[1,0,1], [2,2,1], [1,1,0], [10,2,0], [3,2,1]]\n",
    "clf = LocalOutlierFactor(n_neighbors=3, p=1)\n",
    "clf.fit_predict(X)"
   ]
  },
  {
   "block_group": "8923439a9485410ab2c4a99bf140fa80",
   "cell_type": "markdown",
   "metadata": {
    "cell_id": "4b93e183c8484107aabcaa7837a3efca",
    "deepnote_app_block_visible": true,
    "deepnote_cell_type": "text-cell-p",
    "formattedRanges": [
     {
      "fromCodePoint": 0,
      "marks": {
       "bold": true
      },
      "toCodePoint": 16,
      "type": "marks"
     },
     {
      "fromCodePoint": 18,
      "marks": {
       "bold": true
      },
      "toCodePoint": 35,
      "type": "marks"
     },
     {
      "fromCodePoint": 101,
      "marks": {
       "bold": true
      },
      "toCodePoint": 119,
      "type": "marks"
     },
     {
      "fromCodePoint": 152,
      "marks": {
       "bold": true
      },
      "toCodePoint": 179,
      "type": "marks"
     },
     {
      "fromCodePoint": 276,
      "marks": {
       "bold": true
      },
      "toCodePoint": 277,
      "type": "marks"
     },
     {
      "fromCodePoint": 370,
      "marks": {
       "bold": true
      },
      "toCodePoint": 390,
      "type": "marks"
     },
     {
      "fromCodePoint": 423,
      "marks": {
       "bold": true
      },
      "toCodePoint": 445,
      "type": "marks"
     },
     {
      "fromCodePoint": 530,
      "marks": {
       "bold": true
      },
      "toCodePoint": 533,
      "type": "marks"
     },
     {
      "fromCodePoint": 569,
      "marks": {
       "bold": true
      },
      "toCodePoint": 571,
      "type": "marks"
     }
    ]
   },
   "source": [
    "Langkah-langkah:\r\n",
    "1. Import library: Import library NumPy dan LocalOutlierFactor dari Scikit-Learn.\r\n",
    "2. Membuat dataset: Mengisi dataset dengan NumPy.\r\n",
    "3. Mendefinisikan model LOF: Membuat model LOF dengan menentukan nilai k untuk k-nearest neighbors (n_neighbors) => sebesar 3 dan metode untuk menghitung local density (p) => sebesar 1 (karena menggunakan Manhattan).\r\n",
    "4. Melatih model LOF: Latih model LOF pada dataset.\r\n",
    "5. Memprediksi outlier: Gunakan model LOF untuk memprediksi outlier dalam dataset. Angka yang menghasilkan -1 merupakan outlier. Sedangkan, angka 1 adalah data normal."
   ]
  },
  {
   "block_group": "022bc665ffce409ba931276b48628ffb",
   "cell_type": "markdown",
   "metadata": {
    "cell_id": "becb82a568a945eb940a55ca965e9c0b",
    "deepnote_app_block_visible": true,
    "deepnote_cell_type": "text-cell-p",
    "formattedRanges": [
     {
      "fromCodePoint": 162,
      "marks": {
       "bold": true,
       "italic": true
      },
      "toCodePoint": 169,
      "type": "marks"
     },
     {
      "fromCodePoint": 203,
      "marks": {
       "bold": true
      },
      "toCodePoint": 220,
      "type": "marks"
     },
     {
      "fromCodePoint": 227,
      "marks": {
       "bold": true
      },
      "toCodePoint": 240,
      "type": "marks"
     },
     {
      "fromCodePoint": 272,
      "marks": {
       "bold": true,
       "italic": true
      },
      "toCodePoint": 280,
      "type": "marks"
     }
    ]
   },
   "source": [
    "Output dari model LOF adalah array dengan nilai LOF untuk setiap data point. Data point dengan nilai LOF yang lebih tinggi dibandingkan data point lainnya adalah outlier. Dimana dapat disimpulkan bahwa, Implementasi LOF dengan Scikit-Learn dapat membantu dalam mendeteksi outlier dalam dataset. Implementasi ini mudah dan efisien dibandingkan dengan implementasi manual."
   ]
  },
  {
   "block_group": "bc9e9a15bf6540f7a9d202ebc765d246",
   "cell_type": "markdown",
   "metadata": {
    "cell_id": "fda5a075d25149259c5d3cc9e24ab4b0",
    "deepnote_app_block_visible": true,
    "deepnote_cell_type": "text-cell-p",
    "formattedRanges": [
     {
      "fromCodePoint": 0,
      "marks": {
       "bold": true
      },
      "toCodePoint": 17,
      "type": "marks"
     }
    ]
   },
   "source": [
    "Visualisasi Data:"
   ]
  },
  {
   "block_group": "26cbfc390a2d4463b8440bb3a5b260ac",
   "cell_type": "code",
   "execution_count": 14,
   "metadata": {
    "cell_id": "6c957efdfee44b44bd46fe9e4f411f49",
    "deepnote_app_block_visible": true,
    "deepnote_cell_type": "code",
    "deepnote_to_be_reexecuted": false,
    "execution_millis": 757,
    "execution_start": 1710914778818,
    "source_hash": "f3721fa8"
   },
   "outputs": [
    {
     "data": {
      "image/png": "[encoded data removed]",
      "text/plain": [
       "<Figure size 640x480 with 2 Axes>"
      ]
     },
     "metadata": {
      "image/png": {
       "height": 455,
       "width": 591
      }
     },
     "output_type": "display_data"
    }
   ],
   "outputs_reference": "s3:deepnote-cell-outputs-production/b3282d74-9305-4541-89de-b00d8801e152",
   "source": [
    "import numpy as np\n",
    "import matplotlib.pyplot as plt\n",
    "from sklearn.neighbors import LocalOutlierFactor\n",
    "\n",
    "# Dataset\n",
    "X = np.array([[1,0,1], [2,2,1], [1,1,0], [10,2,0], [3,2,1]])\n",
    "\n",
    "# Mendefinisikan model LOF\n",
    "clf = LocalOutlierFactor(n_neighbors=3, p=1)\n",
    "\n",
    "# Melatih model LOF\n",
    "predictions = clf.fit_predict(X)\n",
    "\n",
    "# Visualisasi data\n",
    "plt.scatter(X[:, 0], X[:, 1], c=predictions, s=50, alpha=0.8)\n",
    "plt.xlabel('Fitur 1')\n",
    "plt.ylabel('Fitur 2')\n",
    "plt.title('Visualisasi Outlier dengan LOF')\n",
    "plt.colorbar(label='LOF Score')  # Menambahkan label pada colorbar\n",
    "plt.show()"
   ]
  },
  {
   "block_group": "77838f535bab4e60b622fa1ed1593c5b",
   "cell_type": "markdown",
   "metadata": {
    "cell_id": "c6f6a36ec5004f5092cb517294e566fc",
    "deepnote_app_block_visible": true,
    "deepnote_cell_type": "text-cell-h3",
    "formattedRanges": []
   },
   "source": [
    "### Identifikasi Data Real ke Outlier (Data Iris)"
   ]
  },
  {
   "block_group": "56b85371cf3344d59a5c72356ac86cf7",
   "cell_type": "markdown",
   "metadata": {
    "cell_id": "b332e3f5c6754bfe93806e69329a8da5",
    "deepnote_app_block_visible": true,
    "deepnote_cell_type": "text-cell-p",
    "formattedRanges": [
     {
      "fromCodePoint": 445,
      "marks": {
       "italic": true
      },
      "toCodePoint": 456,
      "type": "marks"
     }
    ]
   },
   "source": [
    "Kemudian, pada kali ini akan ditunjukkan cara mendeteksi outlier pada dataset iris menggunakan algoritma Local Outlier Factor (LOF) dari library Scikit-learn. Dataset yang digunakan adalah dataset iris yang terkenal dalam ilmu data. Dataset ini berisi informasi tentang 150 bunga iris dari tiga spesies: Iris Setosa, Iris Versicolor, dan Iris Virginica. Untuk Dataset sendiri sudah tersimpan pada database PostgreSQL dengan nama tabelnya adalah irisoutlier."
   ]
  },
  {
   "block_group": "7d49e2611ce14147898fb4306ecbe075",
   "cell_type": "code",
   "execution_count": 15,
   "metadata": {
    "cell_id": "f01851841013430d8c43f0f9f2776dea",
    "deepnote_app_block_visible": true,
    "deepnote_cell_type": "sql",
    "deepnote_sql_source": "SELECT * FROM irisoutlier",
    "deepnote_to_be_reexecuted": false,
    "deepnote_variable_name": "df_9",
    "execution_millis": 3999,
    "execution_start": 1710914779580,
    "source_hash": "8a30e98b",
    "sql_integration_id": "ed09b93e-4fb0-4700-a502-93a277042fcf"
   },
   "outputs": [
    {
     "data": {
      "application/vnd.deepnote.sql-output-metadata+json": {
       "size_in_bytes": 23620,
       "status": "success_no_cache"
      }
     },
     "metadata": {},
     "output_type": "display_data"
    },
    {
     "data": {
      "application/vnd.deepnote.dataframe.v3+json": {
       "column_count": 6,
       "columns": [
        {
         "dtype": "object",
         "name": "id",
         "stats": {
          "categories": [
           {
            "count": 1,
            "name": "1"
           },
           {
            "count": 1,
            "name": "2"
           },
           {
            "count": 148,
            "name": "148 others"
           }
          ],
          "nan_count": 0,
          "unique_count": 150
         }
        },
        {
         "dtype": "float64",
         "name": "sepal.length",
         "stats": {
          "histogram": [
           {
            "bin_end": 7.92,
            "bin_start": 4.3,
            "count": 149
           },
           {
            "bin_end": 11.54,
            "bin_start": 7.92,
            "count": 0
           },
           {
            "bin_end": 15.16,
            "bin_start": 11.54,
            "count": 0
           },
           {
            "bin_end": 18.78,
            "bin_start": 15.16,
            "count": 0
           },
           {
            "bin_end": 22.400000000000002,
            "bin_start": 18.78,
            "count": 0
           },
           {
            "bin_end": 26.02,
            "bin_start": 22.400000000000002,
            "count": 0
           },
           {
            "bin_end": 29.64,
            "bin_start": 26.02,
            "count": 0
           },
           {
            "bin_end": 33.26,
            "bin_start": 29.64,
            "count": 0
           },
           {
            "bin_end": 36.879999999999995,
            "bin_start": 33.26,
            "count": 0
           },
           {
            "bin_end": 40.5,
            "bin_start": 36.879999999999995,
            "count": 1
           }
          ],
          "max": "40.5",
          "min": "4.3",
          "nan_count": 0,
          "unique_count": 36
         }
        },
        {
         "dtype": "float64",
         "name": "sepal.width",
         "stats": {
          "histogram": [
           {
            "bin_end": 2.5,
            "bin_start": 2,
            "count": 11
           },
           {
            "bin_end": 3,
            "bin_start": 2.5,
            "count": 46
           },
           {
            "bin_end": 3.5,
            "bin_start": 3,
            "count": 67
           },
           {
            "bin_end": 4,
            "bin_start": 3.5,
            "count": 21
           },
           {
            "bin_end": 4.5,
            "bin_start": 4,
            "count": 4
           },
           {
            "bin_end": 5,
            "bin_start": 4.5,
            "count": 0
           },
           {
            "bin_end": 5.5,
            "bin_start": 5,
            "count": 0
           },
           {
            "bin_end": 6,
            "bin_start": 5.5,
            "count": 0
           },
           {
            "bin_end": 6.5,
            "bin_start": 6,
            "count": 0
           },
           {
            "bin_end": 7,
            "bin_start": 6.5,
            "count": 1
           }
          ],
          "max": "7.0",
          "min": "2.0",
          "nan_count": 0,
          "unique_count": 24
         }
        },
        {
         "dtype": "float64",
         "name": "petal.length",
         "stats": {
          "histogram": [
           {
            "bin_end": 1.95,
            "bin_start": 1,
            "count": 50
           },
           {
            "bin_end": 2.9,
            "bin_start": 1.95,
            "count": 0
           },
           {
            "bin_end": 3.8499999999999996,
            "bin_start": 2.9,
            "count": 8
           },
           {
            "bin_end": 4.8,
            "bin_start": 3.8499999999999996,
            "count": 37
           },
           {
            "bin_end": 5.75,
            "bin_start": 4.8,
            "count": 38
           },
           {
            "bin_end": 6.699999999999999,
            "bin_start": 5.75,
            "count": 13
           },
           {
            "bin_end": 7.6499999999999995,
            "bin_start": 6.699999999999999,
            "count": 3
           },
           {
            "bin_end": 8.6,
            "bin_start": 7.6499999999999995,
            "count": 0
           },
           {
            "bin_end": 9.549999999999999,
            "bin_start": 8.6,
            "count": 0
           },
           {
            "bin_end": 10.5,
            "bin_start": 9.549999999999999,
            "count": 1
           }
          ],
          "max": "10.5",
          "min": "1.0",
          "nan_count": 0,
          "unique_count": 44
         }
        },
        {
         "dtype": "float64",
         "name": "petal.width",
         "stats": {
          "histogram": [
           {
            "bin_end": 0.33999999999999997,
            "bin_start": 0.1,
            "count": 41
           },
           {
            "bin_end": 0.58,
            "bin_start": 0.33999999999999997,
            "count": 8
           },
           {
            "bin_end": 0.82,
            "bin_start": 0.58,
            "count": 1
           },
           {
            "bin_end": 1.06,
            "bin_start": 0.82,
            "count": 7
           },
           {
            "bin_end": 1.3,
            "bin_start": 1.06,
            "count": 8
           },
           {
            "bin_end": 1.54,
            "bin_start": 1.3,
            "count": 33
           },
           {
            "bin_end": 1.78,
            "bin_start": 1.54,
            "count": 6
           },
           {
            "bin_end": 2.02,
            "bin_start": 1.78,
            "count": 23
           },
           {
            "bin_end": 2.2600000000000002,
            "bin_start": 2.02,
            "count": 9
           },
           {
            "bin_end": 2.5,
            "bin_start": 2.2600000000000002,
            "count": 14
           }
          ],
          "max": "2.5",
          "min": "0.1",
          "nan_count": 0,
          "unique_count": 22
         }
        },
        {
         "dtype": "object",
         "name": "variety",
         "stats": {
          "categories": [
           {
            "count": 50,
            "name": "Setosa"
           },
           {
            "count": 50,
            "name": "Versicolor"
           },
           {
            "count": 50,
            "name": "Virginica"
           }
          ],
          "nan_count": 0,
          "unique_count": 3
         }
        },
        {
         "dtype": "int64",
         "name": "_deepnote_index_column"
        }
       ],
       "row_count": 150,
       "rows": [
        {
         "_deepnote_index_column": 0,
         "id": "1",
         "petal.length": 1.4,
         "petal.width": 0.2,
         "sepal.length": 5.1,
         "sepal.width": 3.5,
         "variety": "Setosa"
        },
        {
         "_deepnote_index_column": 1,
         "id": "2",
         "petal.length": 1.4,
         "petal.width": 0.2,
         "sepal.length": 4.9,
         "sepal.width": 3,
         "variety": "Setosa"
        },
        {
         "_deepnote_index_column": 2,
         "id": "3",
         "petal.length": 1.3,
         "petal.width": 0.2,
         "sepal.length": 4.7,
         "sepal.width": 3.2,
         "variety": "Setosa"
        },
        {
         "_deepnote_index_column": 3,
         "id": "4",
         "petal.length": 1.5,
         "petal.width": 0.2,
         "sepal.length": 4.6,
         "sepal.width": 3.1,
         "variety": "Setosa"
        },
        {
         "_deepnote_index_column": 4,
         "id": "5",
         "petal.length": 1.4,
         "petal.width": 0.2,
         "sepal.length": 5,
         "sepal.width": 3.6,
         "variety": "Setosa"
        },
        {
         "_deepnote_index_column": 5,
         "id": "6",
         "petal.length": 1.7,
         "petal.width": 0.4,
         "sepal.length": 5.4,
         "sepal.width": 3.9,
         "variety": "Setosa"
        },
        {
         "_deepnote_index_column": 6,
         "id": "7",
         "petal.length": 1.4,
         "petal.width": 0.3,
         "sepal.length": 4.6,
         "sepal.width": 3.4,
         "variety": "Setosa"
        },
        {
         "_deepnote_index_column": 7,
         "id": "8",
         "petal.length": 1.5,
         "petal.width": 0.2,
         "sepal.length": 5,
         "sepal.width": 3.4,
         "variety": "Setosa"
        },
        {
         "_deepnote_index_column": 8,
         "id": "9",
         "petal.length": 1.4,
         "petal.width": 0.2,
         "sepal.length": 4.4,
         "sepal.width": 2.9,
         "variety": "Setosa"
        },
        {
         "_deepnote_index_column": 9,
         "id": "10",
         "petal.length": 1.5,
         "petal.width": 0.1,
         "sepal.length": 4.9,
         "sepal.width": 3.1,
         "variety": "Setosa"
        }
       ]
      },
      "text/html": [
       "<div>\n",
       "<style scoped>\n",
       "    .dataframe tbody tr th:only-of-type {\n",
       "        vertical-align: middle;\n",
       "    }\n",
       "\n",
       "    .dataframe tbody tr th {\n",
       "        vertical-align: top;\n",
       "    }\n",
       "\n",
       "    .dataframe thead th {\n",
       "        text-align: right;\n",
       "    }\n",
       "</style>\n",
       "<table border=\"1\" class=\"dataframe\">\n",
       "  <thead>\n",
       "    <tr style=\"text-align: right;\">\n",
       "      <th></th>\n",
       "      <th>id</th>\n",
       "      <th>sepal.length</th>\n",
       "      <th>sepal.width</th>\n",
       "      <th>petal.length</th>\n",
       "      <th>petal.width</th>\n",
       "      <th>variety</th>\n",
       "    </tr>\n",
       "  </thead>\n",
       "  <tbody>\n",
       "    <tr>\n",
       "      <th>0</th>\n",
       "      <td>1</td>\n",
       "      <td>5.1</td>\n",
       "      <td>3.5</td>\n",
       "      <td>1.4</td>\n",
       "      <td>0.2</td>\n",
       "      <td>Setosa</td>\n",
       "    </tr>\n",
       "    <tr>\n",
       "      <th>1</th>\n",
       "      <td>2</td>\n",
       "      <td>4.9</td>\n",
       "      <td>3.0</td>\n",
       "      <td>1.4</td>\n",
       "      <td>0.2</td>\n",
       "      <td>Setosa</td>\n",
       "    </tr>\n",
       "    <tr>\n",
       "      <th>2</th>\n",
       "      <td>3</td>\n",
       "      <td>4.7</td>\n",
       "      <td>3.2</td>\n",
       "      <td>1.3</td>\n",
       "      <td>0.2</td>\n",
       "      <td>Setosa</td>\n",
       "    </tr>\n",
       "    <tr>\n",
       "      <th>3</th>\n",
       "      <td>4</td>\n",
       "      <td>4.6</td>\n",
       "      <td>3.1</td>\n",
       "      <td>1.5</td>\n",
       "      <td>0.2</td>\n",
       "      <td>Setosa</td>\n",
       "    </tr>\n",
       "    <tr>\n",
       "      <th>4</th>\n",
       "      <td>5</td>\n",
       "      <td>5.0</td>\n",
       "      <td>3.6</td>\n",
       "      <td>1.4</td>\n",
       "      <td>0.2</td>\n",
       "      <td>Setosa</td>\n",
       "    </tr>\n",
       "    <tr>\n",
       "      <th>...</th>\n",
       "      <td>...</td>\n",
       "      <td>...</td>\n",
       "      <td>...</td>\n",
       "      <td>...</td>\n",
       "      <td>...</td>\n",
       "      <td>...</td>\n",
       "    </tr>\n",
       "    <tr>\n",
       "      <th>145</th>\n",
       "      <td>146</td>\n",
       "      <td>6.7</td>\n",
       "      <td>3.0</td>\n",
       "      <td>5.2</td>\n",
       "      <td>2.3</td>\n",
       "      <td>Virginica</td>\n",
       "    </tr>\n",
       "    <tr>\n",
       "      <th>146</th>\n",
       "      <td>147</td>\n",
       "      <td>6.3</td>\n",
       "      <td>2.5</td>\n",
       "      <td>5.0</td>\n",
       "      <td>1.9</td>\n",
       "      <td>Virginica</td>\n",
       "    </tr>\n",
       "    <tr>\n",
       "      <th>147</th>\n",
       "      <td>148</td>\n",
       "      <td>6.5</td>\n",
       "      <td>3.0</td>\n",
       "      <td>5.2</td>\n",
       "      <td>2.0</td>\n",
       "      <td>Virginica</td>\n",
       "    </tr>\n",
       "    <tr>\n",
       "      <th>148</th>\n",
       "      <td>149</td>\n",
       "      <td>6.2</td>\n",
       "      <td>3.4</td>\n",
       "      <td>5.4</td>\n",
       "      <td>2.3</td>\n",
       "      <td>Virginica</td>\n",
       "    </tr>\n",
       "    <tr>\n",
       "      <th>149</th>\n",
       "      <td>150</td>\n",
       "      <td>5.9</td>\n",
       "      <td>3.0</td>\n",
       "      <td>5.1</td>\n",
       "      <td>1.8</td>\n",
       "      <td>Virginica</td>\n",
       "    </tr>\n",
       "  </tbody>\n",
       "</table>\n",
       "<p>150 rows × 6 columns</p>\n",
       "</div>"
      ],
      "text/plain": [
       "      id  sepal.length  sepal.width  petal.length  petal.width    variety\n",
       "0      1           5.1          3.5           1.4          0.2     Setosa\n",
       "1      2           4.9          3.0           1.4          0.2     Setosa\n",
       "2      3           4.7          3.2           1.3          0.2     Setosa\n",
       "3      4           4.6          3.1           1.5          0.2     Setosa\n",
       "4      5           5.0          3.6           1.4          0.2     Setosa\n",
       "..   ...           ...          ...           ...          ...        ...\n",
       "145  146           6.7          3.0           5.2          2.3  Virginica\n",
       "146  147           6.3          2.5           5.0          1.9  Virginica\n",
       "147  148           6.5          3.0           5.2          2.0  Virginica\n",
       "148  149           6.2          3.4           5.4          2.3  Virginica\n",
       "149  150           5.9          3.0           5.1          1.8  Virginica\n",
       "\n",
       "[150 rows x 6 columns]"
      ]
     },
     "execution_count": 15,
     "metadata": {},
     "output_type": "execute_result"
    }
   ],
   "outputs_reference": "s3:deepnote-cell-outputs-production/8fa5e650-437f-48e0-998b-0669803b5b60",
   "source": [
    "df_9 = _deepnote_execute_sql('SELECT * FROM irisoutlier', 'SQL_ED09B93E_4FB0_4700_A502_93A277042FCF', audit_sql_comment='', sql_cache_mode='cache_disabled')\n",
    "df_9"
   ]
  },
  {
   "block_group": "20e441ed5b904b3db82e8874a3535c6a",
   "cell_type": "markdown",
   "metadata": {
    "cell_id": "dec05475d46c4e7bb968cfe5216051c9",
    "deepnote_app_block_visible": true,
    "deepnote_cell_type": "text-cell-p",
    "formattedRanges": []
   },
   "source": [
    "Berikut merupakan code beserta penjelasan pada setiap langkah-langkah mendekteksi outlier pada Data Iris (PostgreSQL)."
   ]
  },
  {
   "block_group": "5c7b7735f00648b787d2eed825b03534",
   "cell_type": "markdown",
   "metadata": {
    "cell_id": "b4f5249003ea45db8b2770a5614cab05",
    "deepnote_app_block_visible": true,
    "deepnote_cell_type": "text-cell-p",
    "formattedRanges": [
     {
      "fromCodePoint": 0,
      "marks": {
       "bold": true
      },
      "toCodePoint": 13,
      "type": "marks"
     }
    ]
   },
   "source": [
    "Code Program:"
   ]
  },
  {
   "block_group": "ecf5ac8d84384408b38457d403f0fc37",
   "cell_type": "code",
   "execution_count": 16,
   "metadata": {
    "cell_id": "101c1b8942f64c09b3be795733a7bbd1",
    "deepnote_app_block_visible": true,
    "deepnote_cell_type": "code",
    "deepnote_to_be_reexecuted": false,
    "execution_millis": 424,
    "execution_start": 1710914783611,
    "source_hash": "deebf8e6"
   },
   "outputs": [
    {
     "name": "stdout",
     "output_type": "stream",
     "text": [
      "Data Sebelum Outlier:\n",
      "  id  sepal.length  sepal.width  petal.length  petal.width variety  outlier\n",
      "0  1          5.10         3.50          1.40         0.20  Setosa       -1\n",
      "1  2          4.90         3.00          1.40         0.20  Setosa        1\n",
      "2  3          4.70         3.20          1.30         0.20  Setosa        1\n",
      "3  4          4.60         3.10          1.50         0.20  Setosa        1\n",
      "4  5          5.00         3.60          1.40         0.20  Setosa        1\n",
      "\n",
      "Data Setelah Outlier Ditentukan:\n",
      "  id  sepal.length  sepal.width  petal.length  petal.width variety  outlier\n",
      "1  2          4.90         3.00          1.40         0.20  Setosa        1\n",
      "2  3          4.70         3.20          1.30         0.20  Setosa        1\n",
      "3  4          4.60         3.10          1.50         0.20  Setosa        1\n",
      "4  5          5.00         3.60          1.40         0.20  Setosa        1\n",
      "5  6          5.40         3.90          1.70         0.40  Setosa        1\n",
      "\n",
      "Kolom Outlier:\n",
      "      id  sepal.length  sepal.width  petal.length  petal.width    variety  \\\n",
      "0      1          5.10         3.50          1.40         0.20     Setosa   \n",
      "6      7          4.60         3.40          1.40         0.30     Setosa   \n",
      "7      8          5.00         3.40          1.50         0.20     Setosa   \n",
      "8      9          4.40         2.90          1.40         0.20     Setosa   \n",
      "9     10          4.90         3.10          1.50         0.10     Setosa   \n",
      "10    11          5.40         3.70          1.50         0.20     Setosa   \n",
      "11    12          4.80         3.40          1.60         0.20     Setosa   \n",
      "12    13          4.80         3.00          1.40         0.10     Setosa   \n",
      "13    14          4.30         3.00          1.10         0.10     Setosa   \n",
      "127  128          6.10         7.00          4.90         1.80  Virginica   \n",
      "132  133         40.50         2.80         10.50         2.20  Virginica   \n",
      "\n",
      "     outlier  \n",
      "0         -1  \n",
      "6         -1  \n",
      "7         -1  \n",
      "8         -1  \n",
      "9         -1  \n",
      "10        -1  \n",
      "11        -1  \n",
      "12        -1  \n",
      "13        -1  \n",
      "127       -1  \n",
      "132       -1  \n"
     ]
    }
   ],
   "outputs_reference": "s3:deepnote-cell-outputs-production/5be5c88c-363e-449c-8254-bb07b97dfb28",
   "source": [
    "import numpy as np\n",
    "import pandas as pd\n",
    "from sklearn.neighbors import LocalOutlierFactor\n",
    "from sklearn.preprocessing import LabelEncoder\n",
    "\n",
    "# Memuat dataset iris\n",
    "iris_df = df_9.copy()  # Dibuat salinan dataset agar data asli tidak termodifikasi\n",
    "\n",
    "# Memisahkan fitur (X) dan target (y)\n",
    "X = iris_df.drop('variety', axis=1)  # Mengasumsikan 'variety' adalah kolom target\n",
    "y = iris_df['variety']\n",
    "\n",
    "# Encode target variable (opsional, untuk penggunaan kedepannya)\n",
    "encoder = LabelEncoder()\n",
    "y_encoded = encoder.fit_transform(y)\n",
    "\n",
    "# Encode features jika mengandung string\n",
    "for col in X.columns:\n",
    "  if X[col].dtype == object:\n",
    "    X[col] = encoder.fit_transform(X[col])\n",
    "\n",
    "# Mendefinisikan model LOF\n",
    "clf = LocalOutlierFactor(n_neighbors=4, p=1, novelty=False)\n",
    "\n",
    "# Melatih model LOF\n",
    "clf.fit_predict(X)\n",
    "\n",
    "# Prediksi outlier\n",
    "predictions = clf.fit_predict(X)\n",
    "\n",
    "# Menambahkan kolom baru untuk outlier\n",
    "iris_df[\"outlier\"] = predictions\n",
    "\n",
    "# Mengubah format output\n",
    "pd.set_option('display.float_format', lambda x: '{:.2f}'.format(x))\n",
    "\n",
    "# Menampilkan hasil sebelum dan setelah outlier\n",
    "print(\"Data Sebelum Outlier:\")\n",
    "print(iris_df.head())\n",
    "\n",
    "print(\"\\nData Setelah Outlier Ditentukan:\")\n",
    "print(iris_df[iris_df['outlier'] != -1].head())\n",
    "\n",
    "# Menampilkan kolom mana yang merupakan outlier\n",
    "print(\"\\nKolom Outlier:\")\n",
    "print(iris_df.loc[iris_df['outlier'] == -1, :])"
   ]
  },
  {
   "block_group": "3eb85ea3edd44a30a6b7ac9450ab7a60",
   "cell_type": "markdown",
   "metadata": {
    "cell_id": "eca0cda78eef42cfa6cf241f4d6eed01",
    "deepnote_app_block_visible": true,
    "deepnote_cell_type": "text-cell-p",
    "formattedRanges": [
     {
      "fromCodePoint": 0,
      "marks": {
       "bold": true
      },
      "toCodePoint": 35,
      "type": "marks"
     }
    ]
   },
   "source": [
    "Langkah-langkah beserta Penjelasan:"
   ]
  },
  {
   "block_group": "9a2b4d42ba6740be8539cb2520ba7d40",
   "cell_type": "markdown",
   "metadata": {
    "cell_id": "74f0c03dd36a44ac80e20b30c40e921f",
    "deepnote_app_block_visible": true,
    "deepnote_cell_type": "text-cell-p",
    "formattedRanges": [
     {
      "fromCodePoint": 0,
      "marks": {
       "bold": true
      },
      "toCodePoint": 59,
      "type": "marks"
     }
    ]
   },
   "source": [
    "\r",
    "1. Memuat dataset dan memisahkan fitur (X) dan target (y)."
   ]
  },
  {
   "block_group": "2512653bb93048ac85e14e4112d558dc",
   "cell_type": "code",
   "execution_count": 17,
   "metadata": {
    "cell_id": "dd851476d6e14684a936643ea0a33d84",
    "deepnote_app_block_visible": true,
    "deepnote_cell_type": "code",
    "deepnote_to_be_reexecuted": false,
    "execution_millis": 423,
    "execution_start": 1710914783612,
    "source_hash": "e6fa30a1"
   },
   "outputs": [],
   "outputs_reference": null,
   "source": [
    "import numpy as np\n",
    "import pandas as pd\n",
    "\n",
    "# Memuat dataset iris\n",
    "iris_df = df_9.copy()  # Buat salinan dataset agar data asli tidak termodifikasi\n",
    "\n",
    "# Memisahkan fitur (X) dan target (y)\n",
    "X = iris_df.drop('variety', axis=1)  # Asumsikan 'variety' adalah kolom target\n",
    "y = iris_df['variety']"
   ]
  },
  {
   "block_group": "d0672d502ae140a38283542ed2bc3102",
   "cell_type": "markdown",
   "metadata": {
    "cell_id": "26de566860f6469c85e260cd22786959",
    "deepnote_app_block_visible": true,
    "deepnote_cell_type": "text-cell-p",
    "formattedRanges": [
     {
      "fromCodePoint": 3,
      "marks": {
       "italic": true
      },
      "toCodePoint": 8,
      "type": "marks"
     },
     {
      "fromCodePoint": 116,
      "marks": {
       "italic": true
      },
      "toCodePoint": 118,
      "type": "marks"
     },
     {
      "fromCodePoint": 180,
      "marks": {
       "italic": true
      },
      "toCodePoint": 182,
      "type": "marks"
     }
    ],
    "is_collapsed": false
   },
   "source": [
    "-) df_9 diubah sesuai dengan nama dataset yang digunakan.\r\n",
    "-) Kolom 'variety' diasumsikan sebagai kolom target.\r\n",
    "-) X berisi dataframe dengan semua fitur kecuali kolom target.\r\n",
    "-) y berisi dataframe dengan kolom target."
   ]
  },
  {
   "block_group": "530b11f83f57432c9d8e0375f567f9c4",
   "cell_type": "markdown",
   "metadata": {
    "cell_id": "16598826929f4bc09b53cf768682f4c4",
    "deepnote_app_block_visible": true,
    "deepnote_cell_type": "text-cell-p",
    "formattedRanges": [
     {
      "fromCodePoint": 0,
      "marks": {
       "bold": true
      },
      "toCodePoint": 37,
      "type": "marks"
     }
    ]
   },
   "source": [
    "\r",
    "2. Encode Target Variable (opsional)"
   ]
  },
  {
   "block_group": "3182e2702dd249c4a22fd709d70f50e0",
   "cell_type": "code",
   "execution_count": 18,
   "metadata": {
    "cell_id": "867cb2c433aa4404a8ca15711ecbcf58",
    "deepnote_app_block_visible": true,
    "deepnote_cell_type": "code",
    "deepnote_to_be_reexecuted": false,
    "execution_millis": 394,
    "execution_start": 1710914783642,
    "source_hash": "4a4a34b4"
   },
   "outputs": [],
   "outputs_reference": null,
   "source": [
    "# Encode target variable (opsional, untuk penggunaan di masa depan)\n",
    "encoder = LabelEncoder()\n",
    "y_encoded = encoder.fit_transform(y)"
   ]
  },
  {
   "block_group": "5cd06e89cdd14e5a8ab9ccf4ddc0abb7",
   "cell_type": "markdown",
   "metadata": {
    "cell_id": "d30b3265b4e14ac3af36d032d108bb5d",
    "deepnote_app_block_visible": true,
    "deepnote_cell_type": "text-cell-p",
    "formattedRanges": []
   },
   "source": [
    "-) Code ini meng-encode target variable y menggunakan LabelEncoder.\r\n",
    "-) Langkah ini opsional, dan dapat digunakan untuk keperluan kedepannya."
   ]
  },
  {
   "block_group": "8a9a79da68fe40848d46f0b1d53b51a6",
   "cell_type": "markdown",
   "metadata": {
    "cell_id": "851c18ba78b841f8a0e89eeba5b9ac66",
    "deepnote_app_block_visible": true,
    "deepnote_cell_type": "text-cell-p",
    "formattedRanges": [
     {
      "fromCodePoint": 0,
      "marks": {
       "bold": true
      },
      "toCodePoint": 52,
      "type": "marks"
     }
    ]
   },
   "source": [
    "3. Encode Features jika Mengandung String (opsional)"
   ]
  },
  {
   "block_group": "bc182a10b8d04d2bb2d5624a16c0085b",
   "cell_type": "code",
   "execution_count": 19,
   "metadata": {
    "cell_id": "be8310f5fff84630a5f9819f88b24dde",
    "deepnote_app_block_visible": true,
    "deepnote_cell_type": "code",
    "deepnote_to_be_reexecuted": false,
    "execution_millis": 394,
    "execution_start": 1710914783642,
    "source_hash": "7eaa3bd5"
   },
   "outputs": [],
   "outputs_reference": null,
   "source": [
    "# Encode features jika mengandung string\n",
    "# for col in X.columns:\n",
    "#   if X[col].dtype == object:\n",
    "#     X[col] = encoder.fit_transform(X[col])"
   ]
  },
  {
   "block_group": "e673fe4af91343329ddba055edc55073",
   "cell_type": "markdown",
   "metadata": {
    "cell_id": "ccd63b4a921a4cdf9b3659aa9091e231",
    "deepnote_app_block_visible": true,
    "deepnote_cell_type": "text-cell-p",
    "formattedRanges": []
   },
   "source": [
    "-) Code ini meng-encode fitur-fitur dalam X yang bertipe string menggunakan LabelEncoder.\r\n",
    "-) Langkah ini juga opsional, dan hanya diperlukan jika terdapat fitur string dalam dataset."
   ]
  },
  {
   "block_group": "a3f6651fca864b84aa2212cd83e2eed1",
   "cell_type": "markdown",
   "metadata": {
    "cell_id": "fa7e69df9d754e989c3e1e98298446b5",
    "deepnote_app_block_visible": true,
    "deepnote_cell_type": "text-cell-p",
    "formattedRanges": [
     {
      "fromCodePoint": 0,
      "marks": {
       "bold": true
      },
      "toCodePoint": 66,
      "type": "marks"
     }
    ]
   },
   "source": [
    "4. Mendefinisikan model LOF dengan parameter n_neighbors=4 dan p=1"
   ]
  },
  {
   "block_group": "f32369624a454341971a9a8f6c05be23",
   "cell_type": "code",
   "execution_count": 20,
   "metadata": {
    "cell_id": "0b2521934892427e8f13a8c901264c7b",
    "deepnote_app_block_visible": true,
    "deepnote_cell_type": "code",
    "deepnote_to_be_reexecuted": false,
    "execution_millis": 393,
    "execution_start": 1710914783643,
    "source_hash": "5607619f"
   },
   "outputs": [],
   "outputs_reference": null,
   "source": [
    "# Mendefinisikan model LOF\n",
    "clf = LocalOutlierFactor(n_neighbors=4, p=1, novelty=False)"
   ]
  },
  {
   "block_group": "09de70a22e084e9b962379bd374bf289",
   "cell_type": "markdown",
   "metadata": {
    "cell_id": "da5cd32f407c4e9194c6c11e945778a3",
    "deepnote_app_block_visible": true,
    "deepnote_cell_type": "text-cell-p",
    "formattedRanges": [
     {
      "fromCodePoint": 52,
      "marks": {
       "italic": true
      },
      "toCodePoint": 63,
      "type": "marks"
     },
     {
      "fromCodePoint": 125,
      "marks": {
       "italic": true
      },
      "toCodePoint": 126,
      "type": "marks"
     },
     {
      "fromCodePoint": 180,
      "marks": {
       "italic": true
      },
      "toCodePoint": 187,
      "type": "marks"
     }
    ]
   },
   "source": [
    "-) Model LOF didefinisikan dengan parameter:\r\n",
    "   -> n_neighbors: Jumlah tetangga yang digunakan untuk menghitung LOF.\r\n",
    "   -> p: Norma yang digunakan untuk menghitung jarak.\r\n",
    "   -> novelty: Menentukan apakah outlier adalah data yang sangat berbeda (True) atau data yang normal (False)."
   ]
  },
  {
   "block_group": "e3789b9c4dc0450c9a9f1e8cdcf5570d",
   "cell_type": "markdown",
   "metadata": {
    "cell_id": "71aff3920be0454f9c7547f2a165e647",
    "deepnote_app_block_visible": true,
    "deepnote_cell_type": "text-cell-p",
    "formattedRanges": [
     {
      "fromCodePoint": 0,
      "marks": {
       "bold": true
      },
      "toCodePoint": 45,
      "type": "marks"
     }
    ]
   },
   "source": [
    "\r",
    "5. Melatih Model LOF dan Memprediksi Outlier"
   ]
  },
  {
   "block_group": "6dfe68b14d554d5881eab83447958ff9",
   "cell_type": "code",
   "execution_count": 21,
   "metadata": {
    "cell_id": "400bc0a32981462eb0834ce0db072474",
    "deepnote_app_block_visible": true,
    "deepnote_cell_type": "code",
    "deepnote_to_be_reexecuted": false,
    "execution_millis": 360,
    "execution_start": 1710914783677,
    "source_hash": "9c717548"
   },
   "outputs": [],
   "outputs_reference": null,
   "source": [
    "# Melatih model LOF\n",
    "clf.fit_predict(X)\n",
    "\n",
    "# Prediksi outlier\n",
    "predictions = clf.fit_predict(X)"
   ]
  },
  {
   "block_group": "a0e38c0ee9a643738b403f9a0e1666ef",
   "cell_type": "markdown",
   "metadata": {
    "cell_id": "fa98d45471bd494ab72edbe1ba4d6278",
    "deepnote_app_block_visible": true,
    "deepnote_cell_type": "text-cell-p",
    "formattedRanges": [
     {
      "fromCodePoint": 38,
      "marks": {
       "italic": true
      },
      "toCodePoint": 50,
      "type": "marks"
     }
    ]
   },
   "source": [
    "-) Model LOF dilatih pada data X.\r\n",
    "-) predictions berisi nilai LOF untuk setiap baris data dalam X."
   ]
  },
  {
   "block_group": "1b2748a5017045849887086f2901d462",
   "cell_type": "markdown",
   "metadata": {
    "cell_id": "8beec1446425442c8e34338c7f2b8f7d",
    "deepnote_app_block_visible": true,
    "deepnote_cell_type": "text-cell-p",
    "formattedRanges": [
     {
      "fromCodePoint": 0,
      "marks": {
       "bold": true
      },
      "toCodePoint": 66,
      "type": "marks"
     }
    ]
   },
   "source": [
    "6. Menambahkan Kolom Baru untuk Outlier dan Mengubah Format Output"
   ]
  },
  {
   "block_group": "fd5c7afbf1584be2b3d2ffe1f54782e2",
   "cell_type": "code",
   "execution_count": 22,
   "metadata": {
    "cell_id": "db3d3140ee2c4e13b0465dae78d1e119",
    "deepnote_app_block_visible": true,
    "deepnote_cell_type": "code",
    "deepnote_to_be_reexecuted": false,
    "execution_millis": 360,
    "execution_start": 1710914783677,
    "source_hash": "95e56117"
   },
   "outputs": [],
   "outputs_reference": null,
   "source": [
    "# Menambahkan kolom baru untuk outlier\n",
    "iris_df[\"outlier\"] = predictions\n",
    "\n",
    "# Mengubah format output\n",
    "pd.set_option('display.float_format', lambda x: '{:.2f}'.format(x))"
   ]
  },
  {
   "block_group": "274c31740cfe416cbc9011f13349111c",
   "cell_type": "markdown",
   "metadata": {
    "cell_id": "ea8b7d8d0644489886931ff0c18dc0ff",
    "deepnote_app_block_visible": true,
    "deepnote_cell_type": "text-cell-p",
    "formattedRanges": [
     {
      "fromCodePoint": 96,
      "marks": {
       "bold": true
      },
      "toCodePoint": 98,
      "type": "marks"
     },
     {
      "fromCodePoint": 105,
      "marks": {
       "bold": true
      },
      "toCodePoint": 113,
      "type": "marks"
     },
     {
      "fromCodePoint": 117,
      "marks": {
       "bold": true
      },
      "toCodePoint": 119,
      "type": "marks"
     },
     {
      "fromCodePoint": 125,
      "marks": {
       "bold": true
      },
      "toCodePoint": 136,
      "type": "marks"
     }
    ]
   },
   "source": [
    "-) Kolom baru 'outlier' ditambahkan ke dataframe iris_df.\r\n",
    "-) Nilai pada kolom 'outlier' adalah -1 untuk outlier dan 1 untuk non-outlier.\r\n",
    "-) Format output diubah untuk menampilkan dua digit desimal."
   ]
  },
  {
   "block_group": "22bbe75522614e04ab73f2b47fb7fbe3",
   "cell_type": "markdown",
   "metadata": {
    "cell_id": "d7aa896cca1a4170b1d45831a4b4d10d",
    "deepnote_app_block_visible": true,
    "deepnote_cell_type": "text-cell-p",
    "formattedRanges": [
     {
      "fromCodePoint": 0,
      "marks": {
       "bold": true
      },
      "toCodePoint": 29,
      "type": "marks"
     }
    ]
   },
   "source": [
    "7. Menampilkan Hasil (Output)"
   ]
  },
  {
   "block_group": "e2a0aa8db1124019ab223a5166003338",
   "cell_type": "code",
   "execution_count": 23,
   "metadata": {
    "cell_id": "05f7a7d447b048259202132ba844b62e",
    "deepnote_app_block_visible": true,
    "deepnote_cell_type": "code",
    "deepnote_to_be_reexecuted": false,
    "execution_millis": 345,
    "execution_start": 1710914783692,
    "source_hash": "8870e4ec"
   },
   "outputs": [
    {
     "name": "stdout",
     "output_type": "stream",
     "text": [
      "Data Sebelum Outlier:\n",
      "  id  sepal.length  sepal.width  petal.length  petal.width variety  outlier\n",
      "0  1          5.10         3.50          1.40         0.20  Setosa        1\n",
      "1  2          4.90         3.00          1.40         0.20  Setosa        1\n",
      "2  3          4.70         3.20          1.30         0.20  Setosa        1\n",
      "3  4          4.60         3.10          1.50         0.20  Setosa        1\n",
      "4  5          5.00         3.60          1.40         0.20  Setosa        1\n",
      "\n",
      "Data Setelah Outlier Ditentukan:\n",
      "  id  sepal.length  sepal.width  petal.length  petal.width variety  outlier\n",
      "0  1          5.10         3.50          1.40         0.20  Setosa        1\n",
      "1  2          4.90         3.00          1.40         0.20  Setosa        1\n",
      "2  3          4.70         3.20          1.30         0.20  Setosa        1\n",
      "3  4          4.60         3.10          1.50         0.20  Setosa        1\n",
      "4  5          5.00         3.60          1.40         0.20  Setosa        1\n",
      "\n",
      "Kolom Outlier:\n",
      "      id  sepal.length  sepal.width  petal.length  petal.width    variety  \\\n",
      "132  133         40.50         2.80         10.50         2.20  Virginica   \n",
      "\n",
      "     outlier  \n",
      "132       -1  \n"
     ]
    }
   ],
   "outputs_reference": "s3:deepnote-cell-outputs-production/81192195-0c63-4e05-8f99-4540f9d214cb",
   "source": [
    "# Menampilkan hasil sebelum dan setelah outlier\n",
    "print(\"Data Sebelum Outlier:\")\n",
    "print(iris_df.head())\n",
    "\n",
    "print(\"\\nData Setelah Outlier Ditentukan:\")\n",
    "print(iris_df[iris_df['outlier'] != -1].head())\n",
    "\n",
    "# Menampilkan kolom mana yang merupakan outlier\n",
    "print(\"\\nKolom Outlier:\")\n",
    "print(iris_df.loc[iris_df['outlier'] == -1, :])"
   ]
  },
  {
   "block_group": "cef2181a8c5a492e8d221bf374d1d504",
   "cell_type": "markdown",
   "metadata": {
    "cell_id": "b8e1fe1fdb4044f8bf7de621bfe9ee60",
    "deepnote_app_block_visible": true,
    "deepnote_cell_type": "text-cell-p",
    "formattedRanges": [
     {
      "fromCodePoint": 180,
      "marks": {
       "bold": true
      },
      "toCodePoint": 187,
      "type": "marks"
     }
    ]
   },
   "source": [
    "-) Data sebelum dan setelah outlier ditampilkan, dengan 5 baris pertama sebagai contoh.\r\n",
    "-) Baris data dengan nilai 'outlier' -1 ditampilkan, menunjukkan kolom mana yang merupakan outlier."
   ]
  },
  {
   "block_group": "2c94969412354dfaabad0e388ae79b56",
   "cell_type": "markdown",
   "metadata": {
    "cell_id": "4025d0043eb84ff2a00701b9a8b933c9",
    "deepnote_app_block_visible": true,
    "deepnote_cell_type": "text-cell-p",
    "formattedRanges": [
     {
      "fromCodePoint": 0,
      "marks": {
       "bold": true
      },
      "toCodePoint": 17,
      "type": "marks"
     }
    ]
   },
   "source": [
    "Visualisasi Data:"
   ]
  },
  {
   "block_group": "f1f4ee9fa4bc436eb8cf067469e59496",
   "cell_type": "code",
   "execution_count": 24,
   "metadata": {
    "cell_id": "35ad546266a648edb0dd18bd08262367",
    "deepnote_app_block_visible": true,
    "deepnote_cell_type": "code",
    "deepnote_to_be_reexecuted": false,
    "execution_millis": 371,
    "execution_start": 1710914783706,
    "source_hash": "48d1b09e"
   },
   "outputs": [
    {
     "data": {
      "image/png": "[encoded data removed]",
      "text/plain": [
       "<Figure size 640x480 with 2 Axes>"
      ]
     },
     "metadata": {
      "image/png": {
       "height": 455,
       "width": 550
      }
     },
     "output_type": "display_data"
    }
   ],
   "outputs_reference": "s3:deepnote-cell-outputs-production/4dd7ad02-28c2-4441-96db-e4469aedef84",
   "source": [
    "import matplotlib.pyplot as plt\n",
    "\n",
    "# Visualisasi data\n",
    "plt.scatter(X['sepal.length'], X['sepal.width'], c=predictions, s=50, alpha=0.8)\n",
    "plt.xlabel('Sepal Length')\n",
    "plt.ylabel('Sepal Width')\n",
    "plt.title('Visualisasi Outlier dengan LOF')\n",
    "plt.colorbar()\n",
    "plt.show()"
   ]
  },
  {
   "cell_type": "markdown",
   "metadata": {
    "created_in_deepnote_cell": true,
    "deepnote_cell_type": "markdown"
   },
   "source": [
    "<a style='text-decoration:none;line-height:16px;display:flex;color:#5B5B62;padding:10px;justify-content:end;' href='https://deepnote.com?utm_source=created-in-deepnote-cell&projectId=21a3347e-0ad4-4da6-97da-732e20f2b714' target=\"_blank\">\n",
    "<img alt='Created in deepnote.com' style='display:inline;max-height:16px;margin:0px;margin-right:7.5px;' src='data:image/svg+xml;base64,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' > </img>\n",
    "Created in <span style='font-weight:600;margin-left:4px;'>Deepnote</span></a>"
   ]
  }
 ],
 "metadata": {
  "deepnote_app_hide_all_code_blocks_enabled": false,
  "deepnote_app_layout": "powerful-article",
  "deepnote_app_reactivity_enabled": true,
  "deepnote_app_table_of_contents_enabled": true,
  "deepnote_execution_queue": [],
  "deepnote_notebook_id": "e21268f33f71424dbb867b65afe1077a",
  "deepnote_persisted_session": {
   "createdAt": "2024-03-20T06:00:26.857Z"
  },
  "language_info": {
   "codemirror_mode": {
    "name": "ipython",
    "version": 3
   },
   "file_extension": ".py",
   "mimetype": "text/x-python",
   "name": "python",
   "nbconvert_exporter": "python",
   "pygments_lexer": "ipython3",
   "version": "3.10.13"
  }
 },
 "nbformat": 4,
 "nbformat_minor": 0
}